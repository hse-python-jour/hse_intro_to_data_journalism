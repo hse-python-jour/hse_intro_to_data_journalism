{
  "nbformat": 4,
  "nbformat_minor": 0,
  "metadata": {
    "colab": {
      "name": "s2_195.ipynb",
      "provenance": [],
      "collapsed_sections": [
        "ildqf8nqhbes",
        "9qVQTILmSn0o",
        "fOGy_W909JdY",
        "vsmz0faPg_iC",
        "H08tRprzdeyw",
        "iv8kg2dJF2Ig",
        "6yB0swqDJlHy",
        "3ZV_Dif6KQe6",
        "6eBX6RzmkS4L",
        "Ogs0kjM3wSC6",
        "0vumj4bpsITe",
        "cfP48QJis4fZ",
        "LQ7vfGWlwQDL",
        "ED6jYy8oyMwG",
        "uBxlReqRy7eI"
      ]
    },
    "kernelspec": {
      "name": "python3",
      "display_name": "Python 3"
    },
    "language_info": {
      "name": "python"
    }
  },
  "cells": [
    {
      "cell_type": "markdown",
      "metadata": {
        "id": "BoZoiVupg4C4"
      },
      "source": [
        "# **Семинар 2. Решение задач по словарям, циклам, условиям**"
      ]
    },
    {
      "cell_type": "markdown",
      "metadata": {
        "id": "ildqf8nqhbes"
      },
      "source": [
        "## Словари"
      ]
    },
    {
      "cell_type": "markdown",
      "metadata": {
        "id": "3AnU5PpF8eMC"
      },
      "source": [
        "Создайте словарь, где ключ – это римская цифра, а значение арабская. Для цифр от 1 до 4."
      ]
    },
    {
      "cell_type": "code",
      "metadata": {
        "id": "KVS8T8x38iU3"
      },
      "source": [
        ""
      ],
      "execution_count": null,
      "outputs": []
    },
    {
      "cell_type": "markdown",
      "metadata": {
        "id": "9qVQTILmSn0o"
      },
      "source": [
        "### Задание 1\n",
        "\n",
        "Выведете цифру 2 из словаря. Обратитесь к ней по ключу.\n",
        "\n",
        "**HINT: `словарь[ключ]`**\n"
      ]
    },
    {
      "cell_type": "code",
      "metadata": {
        "id": "raqdP1fM9DVX"
      },
      "source": [
        ""
      ],
      "execution_count": null,
      "outputs": []
    },
    {
      "cell_type": "markdown",
      "metadata": {
        "id": "fOGy_W909JdY"
      },
      "source": [
        "### Задание 2\n",
        "\n",
        "Добавьте в словарь число 11, с ключом «XI»\n",
        "\n",
        "**HINT: `словарь[ключ] = значение`**\n",
        "\n"
      ]
    },
    {
      "cell_type": "code",
      "metadata": {
        "id": "tUohXble-x6G"
      },
      "source": [
        ""
      ],
      "execution_count": null,
      "outputs": []
    },
    {
      "cell_type": "markdown",
      "metadata": {
        "id": "mqG0TJDj-UgG"
      },
      "source": [
        "### Задание 3\n",
        "\n",
        "Измените значение под ключом IV на «4, четыре, four»\n",
        "\n",
        "**HINT: `словарь[ключ]=[]`**\n",
        "\n"
      ]
    },
    {
      "cell_type": "code",
      "metadata": {
        "id": "q12Cbk2h-1bD"
      },
      "source": [
        ""
      ],
      "execution_count": null,
      "outputs": []
    },
    {
      "cell_type": "markdown",
      "metadata": {
        "id": "xB37r7b0-0n2"
      },
      "source": [
        "### Задание 4\n",
        "\n",
        "Выведете все ключи словаря\n",
        "\n",
        "**HINT: `словарь.keys()`**\n",
        "\n"
      ]
    },
    {
      "cell_type": "code",
      "metadata": {
        "id": "6SFUv3-B_GUb"
      },
      "source": [
        ""
      ],
      "execution_count": null,
      "outputs": []
    },
    {
      "cell_type": "markdown",
      "metadata": {
        "id": "avA4dNm7_Fop"
      },
      "source": [
        "### Задание 5\n",
        "\n",
        "Выведите значение, которое хранится под ключом III\n",
        "\n",
        "**HINT: `словарь.get(ключ)`**\n",
        "\n"
      ]
    },
    {
      "cell_type": "code",
      "metadata": {
        "id": "u6hUG7siRqkm"
      },
      "source": [
        ""
      ],
      "execution_count": null,
      "outputs": []
    },
    {
      "cell_type": "markdown",
      "metadata": {
        "id": "M9YsWyhMAPpD"
      },
      "source": [
        "### Задание 6\n",
        "\n",
        "Добавить значение с ключом «XII» и значением 12\n",
        "\n",
        "\n",
        "**HINT: `словарь.update({ключ:значение})`**\n",
        "\n"
      ]
    },
    {
      "cell_type": "code",
      "metadata": {
        "id": "z_9WxOCrR1pa"
      },
      "source": [
        ""
      ],
      "execution_count": null,
      "outputs": []
    },
    {
      "cell_type": "markdown",
      "metadata": {
        "id": "vsmz0faPg_iC"
      },
      "source": [
        "## Логические операторы. Условная инструкция"
      ]
    },
    {
      "cell_type": "markdown",
      "metadata": {
        "id": "BAVuEfI5XCyP"
      },
      "source": [
        "### Задание 1\n",
        "Написать функцию, которая будет проверять может лет человек может стать президентом России?\n",
        "\n",
        "**Ввод**\n",
        "\n",
        "25\n",
        "\n",
        "\n",
        "**Вывод**\n",
        "\n",
        "False\n",
        "\n",
        "\n",
        "\n",
        "\n",
        "\n"
      ]
    },
    {
      "cell_type": "markdown",
      "metadata": {
        "id": "qbPnEzOqBTuR"
      },
      "source": [
        "-через **bool()**\n"
      ]
    },
    {
      "cell_type": "code",
      "metadata": {
        "id": "agdQDcFJBely"
      },
      "source": [
        ""
      ],
      "execution_count": null,
      "outputs": []
    },
    {
      "cell_type": "markdown",
      "metadata": {
        "id": "4Tytjn_qBbVx"
      },
      "source": [
        "-через **if, else**"
      ]
    },
    {
      "cell_type": "code",
      "metadata": {
        "id": "HUNYcUcSBfLQ"
      },
      "source": [
        ""
      ],
      "execution_count": null,
      "outputs": []
    },
    {
      "cell_type": "markdown",
      "metadata": {
        "id": "8y4gPxrHBmS2"
      },
      "source": [
        "### Задание 2\n",
        "Нужно проверить, является ли целая часть от выражение x^y+2*y+17,5 кратной 3 или «большой или равной» 10. Если это так вывести True, иначе False. x и y вводится с клавиатуры. Реализовать программу 2 способами. \n",
        "\n",
        "**Ввод**\n",
        "\n",
        "1\n",
        "\n",
        "0.5\n",
        "\n",
        "\n",
        "**Вывод**\n",
        "\n",
        "True\n",
        "\n",
        "\n",
        "\n",
        "\n",
        "\n"
      ]
    },
    {
      "cell_type": "markdown",
      "metadata": {
        "id": "ClYBspXWYgHJ"
      },
      "source": [
        "-через **bool()**"
      ]
    },
    {
      "cell_type": "code",
      "metadata": {
        "id": "LvfK2fLWCLWW"
      },
      "source": [
        ""
      ],
      "execution_count": null,
      "outputs": []
    },
    {
      "cell_type": "markdown",
      "metadata": {
        "id": "GH-rVKhUCIwj"
      },
      "source": [
        "-через **if, else**"
      ]
    },
    {
      "cell_type": "code",
      "metadata": {
        "id": "PSlCH1V_CL5U"
      },
      "source": [
        ""
      ],
      "execution_count": null,
      "outputs": []
    },
    {
      "cell_type": "markdown",
      "metadata": {
        "id": "hMeKkokAhv-L"
      },
      "source": [
        "## Циклы range(), for"
      ]
    },
    {
      "cell_type": "markdown",
      "metadata": {
        "id": "H08tRprzdeyw"
      },
      "source": [
        "### Задание 1\n",
        "Даны числа от 5 до 26. Необходимо проверить является ли сумма остатков от деления этих чисел на N (вводится с клавиатуры) чётной и больше 1. Если да вывести +, иначе -. Из остатков от деления нужно создать список и вывести его в конце.\n"
      ]
    },
    {
      "cell_type": "markdown",
      "metadata": {
        "id": "dnyntSmtDKjs"
      },
      "source": [
        "1. Вводим с клавиатуры N"
      ]
    },
    {
      "cell_type": "code",
      "metadata": {
        "id": "cZ7wFumXDlZX"
      },
      "source": [
        ""
      ],
      "execution_count": null,
      "outputs": []
    },
    {
      "cell_type": "markdown",
      "metadata": {
        "id": "PDiZ763KDTNX"
      },
      "source": [
        "2. Создаем пустой список, куда будем записывать остатки от деления "
      ]
    },
    {
      "cell_type": "code",
      "metadata": {
        "id": "KytHhGYUEN2w"
      },
      "source": [
        ""
      ],
      "execution_count": null,
      "outputs": []
    },
    {
      "cell_type": "markdown",
      "metadata": {
        "id": "-tqx0KnPDnrK"
      },
      "source": [
        "3. Создаем переменную в которую будем суммировать остатки от деления (приравниваем ее к нулю)"
      ]
    },
    {
      "cell_type": "code",
      "metadata": {
        "id": "3GObvYtiEOhj"
      },
      "source": [
        ""
      ],
      "execution_count": null,
      "outputs": []
    },
    {
      "cell_type": "markdown",
      "metadata": {
        "id": "UsM10lVVDkzw"
      },
      "source": [
        "4. Создаем цикл for/range по диапазону. \n",
        "\n",
        "> 4.1. Ищем остаток от деления с помощью %. Не забываем, что N может быть вещественным числом\n",
        "\n",
        "> 4.2. Добавляем остаток в сумму\n",
        "\n",
        "> 4.3. С помощью `append()`, добавляем значение остатка в наш пустой список\n",
        "\n",
        "\n",
        "\n"
      ]
    },
    {
      "cell_type": "code",
      "metadata": {
        "id": "4hsjK-6qFg4e"
      },
      "source": [
        ""
      ],
      "execution_count": null,
      "outputs": []
    },
    {
      "cell_type": "markdown",
      "metadata": {
        "id": "jj34pRJ0FZ4b"
      },
      "source": [
        "5. Проверяем с помощью сложного условия является ли наша сумма четной и больше 1"
      ]
    },
    {
      "cell_type": "code",
      "metadata": {
        "id": "l8fOM3J3Fn5_"
      },
      "source": [
        ""
      ],
      "execution_count": null,
      "outputs": []
    },
    {
      "cell_type": "markdown",
      "metadata": {
        "id": "v5Bql9bEFjzi"
      },
      "source": [
        "6. Выводим список остатков"
      ]
    },
    {
      "cell_type": "code",
      "metadata": {
        "id": "_40UNOhEFod4"
      },
      "source": [
        ""
      ],
      "execution_count": null,
      "outputs": []
    },
    {
      "cell_type": "markdown",
      "metadata": {
        "id": "iv8kg2dJF2Ig"
      },
      "source": [
        "### Задание 2\n",
        "Евгению предоставили строку (мПЛОПВДОедИПРОВЛРаОВАОПКкоПм), состоящую из русских букв разных регистров, и попросили очистить ее от заглавных литер.\n"
      ]
    },
    {
      "cell_type": "markdown",
      "metadata": {
        "id": "3wVOEoBCGOAJ"
      },
      "source": [
        "1. Создаем переменную в которую нужно записать строку для очистки"
      ]
    },
    {
      "cell_type": "code",
      "metadata": {
        "id": "YwM6gWYnGXME"
      },
      "source": [
        ""
      ],
      "execution_count": null,
      "outputs": []
    },
    {
      "cell_type": "markdown",
      "metadata": {
        "id": "Pyafjv49GULe"
      },
      "source": [
        "2. Создаем пустую строку, куда запишем очищенный текст"
      ]
    },
    {
      "cell_type": "code",
      "metadata": {
        "id": "Azlt0V-PGmln"
      },
      "source": [
        ""
      ],
      "execution_count": null,
      "outputs": []
    },
    {
      "cell_type": "markdown",
      "metadata": {
        "id": "csIbNbIyGX_J"
      },
      "source": [
        "3. Создаем цикл с for/in, по строке\n",
        "\n",
        "\n",
        "> 3.1. Проверяем с помощью условия if not и функции .isupper() является ли буква заглавной, если ДА, то записываем ее в пустую строку (созданную в пункте 2)\n",
        "\n"
      ]
    },
    {
      "cell_type": "code",
      "metadata": {
        "id": "YiPc-pLtGsmV"
      },
      "source": [
        ""
      ],
      "execution_count": null,
      "outputs": []
    },
    {
      "cell_type": "markdown",
      "metadata": {
        "id": "YgMEofatGnK7"
      },
      "source": [
        "4. Выводим очищенную строку"
      ]
    },
    {
      "cell_type": "code",
      "metadata": {
        "id": "nZ1L6Zy7GtHf"
      },
      "source": [
        ""
      ],
      "execution_count": null,
      "outputs": []
    },
    {
      "cell_type": "markdown",
      "metadata": {
        "id": "6yB0swqDJlHy"
      },
      "source": [
        "### Задание 3.1\n",
        "С помощью цикла заполнить словарь из 4 элементов, где ключ это овощ, а значение, это его цвет. "
      ]
    },
    {
      "cell_type": "markdown",
      "metadata": {
        "id": "JwXv6evwJv_L"
      },
      "source": [
        "1. Создаем пустой словарь"
      ]
    },
    {
      "cell_type": "code",
      "metadata": {
        "id": "1__TE5NOJ0rw"
      },
      "source": [
        ""
      ],
      "execution_count": null,
      "outputs": []
    },
    {
      "cell_type": "markdown",
      "metadata": {
        "id": "8_5MhVUQJ0Et"
      },
      "source": [
        "2. Цикл for/range()\n",
        "\n",
        "\n",
        "> 2.1 Добавляем значение и ключ с помощью `input()`\n",
        "\n"
      ]
    },
    {
      "cell_type": "code",
      "metadata": {
        "id": "9jPaN4j6KSgA"
      },
      "source": [
        ""
      ],
      "execution_count": null,
      "outputs": []
    },
    {
      "cell_type": "markdown",
      "metadata": {
        "id": "3ZV_Dif6KQe6"
      },
      "source": [
        "### Задание 3.2\n",
        "С помощью цикла вывести:"
      ]
    },
    {
      "cell_type": "markdown",
      "metadata": {
        "id": "8p8msQNNKXae"
      },
      "source": [
        "Все ключи словаря `имя.keys()`\n"
      ]
    },
    {
      "cell_type": "code",
      "metadata": {
        "id": "qpFcRjGTKkkH"
      },
      "source": [
        ""
      ],
      "execution_count": null,
      "outputs": []
    },
    {
      "cell_type": "markdown",
      "metadata": {
        "id": "XVctB8dJKc8w"
      },
      "source": [
        "Все значения словаря `имя.values()`"
      ]
    },
    {
      "cell_type": "code",
      "metadata": {
        "id": "GQALYdLEK33K"
      },
      "source": [
        ""
      ],
      "execution_count": null,
      "outputs": []
    },
    {
      "cell_type": "markdown",
      "metadata": {
        "id": "r07vlhdLKlbq"
      },
      "source": [
        "Все пары  словаря `имя.items()`"
      ]
    },
    {
      "cell_type": "code",
      "metadata": {
        "id": "kMuiW6r_K4W5"
      },
      "source": [
        ""
      ],
      "execution_count": null,
      "outputs": []
    },
    {
      "cell_type": "markdown",
      "metadata": {
        "id": "RiOgFuS-gOes"
      },
      "source": [
        "## Цикл while\n",
        "\n"
      ]
    },
    {
      "cell_type": "markdown",
      "metadata": {
        "id": "fh4mlrXeh8W8"
      },
      "source": [
        "### Задание 1\n",
        "Задан список A=[5,-3,1,8,3,10]. С помощью `while` вычислить сумму элементов списка"
      ]
    },
    {
      "cell_type": "code",
      "metadata": {
        "id": "P39Zw1GqLoZF"
      },
      "source": [
        ""
      ],
      "execution_count": null,
      "outputs": []
    },
    {
      "cell_type": "markdown",
      "metadata": {
        "id": "u8AyZz90jKl_"
      },
      "source": [
        "### Задание 2\n",
        "Задано число a (1<a<1.5). Из чисел 1+1/2, 1+1/3, 1+1/4 …, напечатать те, которые не меньше a\n",
        "\n"
      ]
    },
    {
      "cell_type": "code",
      "metadata": {
        "id": "dMBq_v_JMRY3"
      },
      "source": [
        ""
      ],
      "execution_count": null,
      "outputs": []
    },
    {
      "cell_type": "markdown",
      "metadata": {
        "id": "dfJhsgZ9jzkQ"
      },
      "source": [
        "### Задание 3\n",
        "Посчитать количество вхождений заданной строки в список [ 'abc', 'bcd', 'xvm', 'abc', 'abd', 'bcd', 'abc' ]\n",
        "\n",
        "**Ввод**\n",
        "\n",
        "bcd\n",
        "\n",
        "**Вывод**\n",
        "\n",
        "2\n",
        "\n",
        "\n",
        "\n"
      ]
    },
    {
      "cell_type": "code",
      "metadata": {
        "id": "wV1k8w_qMTfN"
      },
      "source": [
        ""
      ],
      "execution_count": null,
      "outputs": []
    },
    {
      "cell_type": "markdown",
      "metadata": {
        "id": "6eBX6RzmkS4L"
      },
      "source": [
        "### Задание 4\n",
        "Написать программу, которая для дня (число от 1 до 365) в 2021 году определяет номер дня недели. Первый день 2021 года – пятница. **Бонусное задание: определить дату**\n",
        "\n",
        "**Ввод**\n",
        "\n",
        "5\n",
        "\n",
        "**Вывод**\n",
        "\n",
        "2\n",
        "\n"
      ]
    },
    {
      "cell_type": "markdown",
      "metadata": {
        "id": "shVIvAn7MtwI"
      },
      "source": [
        "1. Создаем переменную, которая будет запрашивать номер дня\n"
      ]
    },
    {
      "cell_type": "code",
      "metadata": {
        "id": "N5IOzw3oNW6o"
      },
      "source": [
        ""
      ],
      "execution_count": null,
      "outputs": []
    },
    {
      "cell_type": "markdown",
      "metadata": {
        "id": "LuyT_9uvNQbW"
      },
      "source": [
        "2. Инициализируем переменную, хранящую день недели 01.01.2021"
      ]
    },
    {
      "cell_type": "code",
      "metadata": {
        "id": "NsK3Un06NZcr"
      },
      "source": [
        ""
      ],
      "execution_count": null,
      "outputs": []
    },
    {
      "cell_type": "markdown",
      "metadata": {
        "id": "q47rX7QrOUnQ"
      },
      "source": [
        "3. Инициализируем счетчик - номер первого дня в году"
      ]
    },
    {
      "cell_type": "code",
      "metadata": {
        "id": "tYT-ySTK2rvD"
      },
      "source": [
        ""
      ],
      "execution_count": null,
      "outputs": []
    },
    {
      "cell_type": "markdown",
      "metadata": {
        "id": "ZFz9O15dNfLQ"
      },
      "source": [
        "4. Используем цикл `while`, который перебирает цифры, пока счетчик меньше проверяемого дня\n",
        "\n",
        "\n",
        "> 4.1 Пишем условие, что нужно сделать, если номер дня недели стал больше 7\n",
        "\n"
      ]
    },
    {
      "cell_type": "code",
      "metadata": {
        "id": "8E-R3l-FNz1M"
      },
      "source": [
        ""
      ],
      "execution_count": null,
      "outputs": []
    },
    {
      "cell_type": "markdown",
      "metadata": {
        "id": "oUsfNIqkN9Y_"
      },
      "source": [
        "5. Вывод номера дня недели "
      ]
    },
    {
      "cell_type": "code",
      "metadata": {
        "id": "ycNiKGqtOAw4"
      },
      "source": [
        ""
      ],
      "execution_count": null,
      "outputs": []
    },
    {
      "cell_type": "markdown",
      "metadata": {
        "id": "0DMV5hUWl4pf"
      },
      "source": [
        "### Задание 5\n",
        "Минюст опубликовал список СМИ, которых признали Иностранными агентами: Дождь, МБХ, Медуза, The Insider, Голос Америки, ТК Настоящее время, Радио Свобода. Ваша задача написать код, который будет проверять есть ли интересующее вас СМИ (вводится с клавиатуры) в списке ИО.\n",
        "\n",
        "**Ввод**\n",
        "\n",
        "RT\n",
        "\n",
        "**Вывод**\n",
        "\n",
        "Не ИО"
      ]
    },
    {
      "cell_type": "markdown",
      "metadata": {
        "id": "pkKT1OQwOweX"
      },
      "source": [
        "1. Создаем переменную, которая будет запрашивать название СМИ"
      ]
    },
    {
      "cell_type": "code",
      "metadata": {
        "id": "X5nouvnoPLFK"
      },
      "source": [
        ""
      ],
      "execution_count": null,
      "outputs": []
    },
    {
      "cell_type": "markdown",
      "metadata": {
        "id": "6PTHjMwOPKfA"
      },
      "source": [
        "2. Создаем список с названиями ИО"
      ]
    },
    {
      "cell_type": "code",
      "metadata": {
        "id": "kUN1_TzWPSqO"
      },
      "source": [
        ""
      ],
      "execution_count": null,
      "outputs": []
    },
    {
      "cell_type": "markdown",
      "metadata": {
        "id": "PZ5vl6TVPUuL"
      },
      "source": [
        "3. Используем конструкцию `if` с условием `not in`, чтобы проверить находится ли СМИ в списке ИО \n",
        "\n",
        "**HINT: СМИ not in ИО**\n",
        "\n",
        "\n",
        "> 3.1 Сообщаем, что нужно вывести, если СМИ нет в списке\n",
        "\n",
        "4. Пишем условие, что нужно вывести, если СМИ есть в списке (через `else`)\n",
        "\n"
      ]
    },
    {
      "cell_type": "code",
      "metadata": {
        "id": "uU6Rk3caPlcM"
      },
      "source": [
        ""
      ],
      "execution_count": null,
      "outputs": []
    },
    {
      "cell_type": "markdown",
      "metadata": {
        "id": "FGgn2PuRrQFE"
      },
      "source": [
        "## Тренировка"
      ]
    },
    {
      "cell_type": "markdown",
      "metadata": {
        "id": "Ogs0kjM3wSC6"
      },
      "source": [
        "### Задача 1\n",
        "Каким будет результат выполнения следующего кода\n",
        "\n",
        "```\n",
        "playlist = {'Imagine Dragons': 'Lonely', 'The Kooks': 'If only' }\n",
        "new_playlist  = {'Harry Styles': 'Falling', 'The Kooks': 'Naive'}\n",
        "playlist.update(new_playlist)\n",
        "print(playlist)\n",
        "```\n",
        "\n",
        "\n"
      ]
    },
    {
      "cell_type": "markdown",
      "metadata": {
        "id": "0vumj4bpsITe"
      },
      "source": [
        "###Задача 2. Зоомагазин\n",
        "Дана информация по количеству каждого типа животных в зоомагазине на текущий момент. Нужно написать код, который будет считать количество животных (данные на вход могут меняться, нужно это учитывать и создать универсальное решение).  "
      ]
    },
    {
      "cell_type": "code",
      "metadata": {
        "id": "ifjvM5ngsGYs"
      },
      "source": [
        "animals_data = dict(guinea_pigs = 6, dogs = 4, cats = 13, parrots = 3, \n",
        "                    fish = 7, snails = 8)"
      ],
      "execution_count": null,
      "outputs": []
    },
    {
      "cell_type": "code",
      "metadata": {
        "id": "xBGtXX7l7MLn"
      },
      "source": [
        ""
      ],
      "execution_count": null,
      "outputs": []
    },
    {
      "cell_type": "markdown",
      "metadata": {
        "id": "cfP48QJis4fZ"
      },
      "source": [
        "### Задача 3. Выставление оценок\n",
        "Под конец учебного года преподаватель решил провести анализ оценок. У него есть список группы, из которой он хочет понять сколько людей получило оценку «отлично» (8-10), «хорошо» (6-7), «удовлетворительно» (4-5) и «неудовлетворительно» (0-3). Более того, он хочет получить список имен тех людей, которые отправились на пересдачу. После пересдач, все студенты получили оценку 4. Как тогда будет выглядеть окончательные список группы с оценками (нужно изменить список данный в начале)"
      ]
    },
    {
      "cell_type": "code",
      "metadata": {
        "id": "s_3uy-FGx2C8"
      },
      "source": [
        "group_marks = {'Олег Кардашьян': 9, 'Вячеслав Руссиано': 3, 'Максим Максим': 10,\n",
        "               'Владислав Донтхертми': 7, 'Павел Хинкальный': 8, 'Ярослав Мутный': 2,\n",
        "               'Чак Нормис': 5, 'Александра Петрова': 7, 'Степан Кружок': 10,\n",
        "               'Мария Великая': 1, 'Джейсон Стэтхэм': 10, 'Светлана Ыыыыы': 8,\n",
        "               'Николай Колбасков': 2, 'Максим Солидный': 6, 'Валерий Мармеладзе': 5,\n",
        "               'Михаил Быкян': 8, 'Cуета Вечная': 4, 'Стас Борецкий': 0, 'Кеннедикт Мембербетч': 7,\n",
        "               'Артур Пирожков': 8, 'Элианора Андреева': 5, 'Михаил Круг': 3}"
      ],
      "execution_count": null,
      "outputs": []
    },
    {
      "cell_type": "code",
      "metadata": {
        "id": "jqhCWxfJ8_Zs"
      },
      "source": [
        ""
      ],
      "execution_count": null,
      "outputs": []
    }
  ]
}