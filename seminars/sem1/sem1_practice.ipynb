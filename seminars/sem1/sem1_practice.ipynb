{
  "nbformat": 4,
  "nbformat_minor": 0,
  "metadata": {
    "colab": {
      "name": "s1_solution_194.ipynb",
      "provenance": []
    },
    "kernelspec": {
      "name": "python3",
      "display_name": "Python 3"
    },
    "language_info": {
      "name": "python"
    }
  },
  "cells": [
    {
      "cell_type": "markdown",
      "metadata": {
        "id": "BoZoiVupg4C4"
      },
      "source": [
        "# **Семинар 1. Базовые типы данных. Методы работы со строками, списками**"
      ]
    },
    {
      "cell_type": "markdown",
      "metadata": {
        "id": "ildqf8nqhbes"
      },
      "source": [
        "## Ввод/вывод"
      ]
    },
    {
      "cell_type": "markdown",
      "metadata": {
        "id": "9qVQTILmSn0o"
      },
      "source": [
        "### Задание 1\n",
        "\n",
        "Вводим два любых значения с клавиатуры. Программа должна перед и после каждого значения, которое вы ввели, ставить нижнее подчеркивание.\n",
        "\n",
        "Ввод:\n",
        "\n",
        "мне\n",
        "ок\n",
        "\n",
        "Вывод:\n",
        "\n",
        "Ответ:_мне_ок_\n"
      ]
    },
    {
      "cell_type": "code",
      "metadata": {
        "colab": {
          "base_uri": "https://localhost:8080/"
        },
        "id": "NyO9PqhNRrKy",
        "outputId": "9f2d503e-6cc1-46ff-b690-61659f6ad629"
      },
      "source": [
        "a=input() #вводим переменную 1\n",
        "b=input() #вводим переменную 2\n",
        "print(a, b)\n",
        "\n"
      ],
      "execution_count": null,
      "outputs": [
        {
          "output_type": "stream",
          "name": "stdout",
          "text": [
            "3\n",
            "5\n",
            "3 5\n"
          ]
        }
      ]
    },
    {
      "cell_type": "code",
      "metadata": {
        "colab": {
          "base_uri": "https://localhost:8080/"
        },
        "id": "KuzCXpiYRuPG",
        "outputId": "451ba8e9-ec54-4e53-f68d-42e57dd69ffc"
      },
      "source": [
        "print(f\"_{a}_{b}_\")"
      ],
      "execution_count": null,
      "outputs": [
        {
          "output_type": "stream",
          "name": "stdout",
          "text": [
            "_4_5_\n"
          ]
        }
      ]
    },
    {
      "cell_type": "code",
      "metadata": {
        "colab": {
          "base_uri": "https://localhost:8080/"
        },
        "id": "_oorNEMMNlTD",
        "outputId": "5d579d16-867d-4858-9b0d-0c03151b0088"
      },
      "source": [
        "print(\"_{a}_{b}_\")"
      ],
      "execution_count": null,
      "outputs": [
        {
          "output_type": "stream",
          "name": "stdout",
          "text": [
            "_{a}_{b}_\n"
          ]
        }
      ]
    },
    {
      "cell_type": "code",
      "metadata": {
        "colab": {
          "base_uri": "https://localhost:8080/"
        },
        "id": "t2U5XVmaN02a",
        "outputId": "49169973-c831-464a-f767-700d807bd0bb"
      },
      "source": [
        "print(\"_\",a,\"_\", b, \"_\")"
      ],
      "execution_count": null,
      "outputs": [
        {
          "output_type": "stream",
          "name": "stdout",
          "text": [
            "_ 4 _ 5 _\n"
          ]
        }
      ]
    },
    {
      "cell_type": "code",
      "metadata": {
        "colab": {
          "base_uri": "https://localhost:8080/"
        },
        "id": "6K8CTHNmOqde",
        "outputId": "eb341cd5-0f16-4bdc-b480-7fa14bbffa24"
      },
      "source": [
        "print(type(a))"
      ],
      "execution_count": null,
      "outputs": [
        {
          "output_type": "stream",
          "name": "stdout",
          "text": [
            "<class 'str'>\n"
          ]
        }
      ]
    },
    {
      "cell_type": "markdown",
      "metadata": {
        "id": "vsmz0faPg_iC"
      },
      "source": [
        "## Строки"
      ]
    },
    {
      "cell_type": "markdown",
      "metadata": {
        "id": "BAVuEfI5XCyP"
      },
      "source": [
        "### Задание 1\n",
        "Переменная 1 = число, переменная 2 = слово, переменная 3 = знак препинания. \n",
        "\n",
        "**Ввод**\n",
        "\n",
        "90\n",
        "\n",
        "stop\n",
        "\n",
        "!\n",
        "\n",
        "**Вывод**\n",
        "\n",
        "stop90!\n",
        "\n",
        "\n",
        "\n",
        "\n"
      ]
    },
    {
      "cell_type": "code",
      "metadata": {
        "colab": {
          "base_uri": "https://localhost:8080/"
        },
        "id": "ubohBXedRynH",
        "outputId": "34d0cb77-6b34-499a-b2f8-0d514996652c"
      },
      "source": [
        "a=input()\n",
        "b=input()\n",
        "c=input()\n",
        "print(b+a+c)"
      ],
      "execution_count": null,
      "outputs": [
        {
          "output_type": "stream",
          "name": "stdout",
          "text": [
            "g\n",
            "f\n",
            "d\n",
            "fgd\n"
          ]
        }
      ]
    },
    {
      "cell_type": "markdown",
      "metadata": {
        "id": "ClYBspXWYgHJ"
      },
      "source": [
        "**Ввод**\n",
        "\n",
        "90\n",
        "\n",
        "stop\n",
        "\n",
        "!\n",
        "\n",
        "**Вывод**\n",
        "\n",
        "9090!"
      ]
    },
    {
      "cell_type": "code",
      "metadata": {
        "colab": {
          "base_uri": "https://localhost:8080/"
        },
        "id": "llhtCYXKUKyO",
        "outputId": "ca188537-3197-4163-8d13-19e9fba783f8"
      },
      "source": [
        "print(a*2+c)"
      ],
      "execution_count": null,
      "outputs": [
        {
          "output_type": "stream",
          "name": "stdout",
          "text": [
            "ggd\n"
          ]
        }
      ]
    },
    {
      "cell_type": "markdown",
      "metadata": {
        "id": "XrupM_QLadeN"
      },
      "source": [
        "### Задание 2\n",
        "Вводим с клавиатуры значение строки длиной 9 символов. Вводим число от 0 до 8 с клавиатуры (это индекс). \n"
      ]
    },
    {
      "cell_type": "code",
      "metadata": {
        "colab": {
          "base_uri": "https://localhost:8080/"
        },
        "id": "QHZ7Vds_a7ri",
        "outputId": "0de9ab4d-2532-4d55-d05c-6c05078c366f"
      },
      "source": [
        "a=input()\n",
        "number=int(input())\n"
      ],
      "execution_count": null,
      "outputs": [
        {
          "name": "stdout",
          "output_type": "stream",
          "text": [
            "123456789\n",
            "5\n"
          ]
        }
      ]
    },
    {
      "cell_type": "markdown",
      "metadata": {
        "id": "9Kp0I9CUpaZr"
      },
      "source": [
        "Вывести символ соответствующий этому индексу"
      ]
    },
    {
      "cell_type": "markdown",
      "metadata": {
        "id": "YcI0UsyPayo3"
      },
      "source": [
        "**Ввод**\n",
        "\n",
        "ваовтомто\n",
        "\n",
        "1\n",
        "\n",
        "**Вывод**\n",
        "\n",
        "а\n"
      ]
    },
    {
      "cell_type": "code",
      "metadata": {
        "colab": {
          "base_uri": "https://localhost:8080/"
        },
        "id": "OCdKT5IIZ5ul",
        "outputId": "b92a2bbe-eea5-47b7-b926-d284d9ac1f32"
      },
      "source": [
        "print(a[number])"
      ],
      "execution_count": null,
      "outputs": [
        {
          "output_type": "stream",
          "name": "stdout",
          "text": [
            "6\n"
          ]
        }
      ]
    },
    {
      "cell_type": "markdown",
      "metadata": {
        "id": "C35VIIvUpsA5"
      },
      "source": [
        "\n",
        "Сделать срез с 2 элемента по 8 элемент"
      ]
    },
    {
      "cell_type": "markdown",
      "metadata": {
        "id": "pKiIntU6cjo3"
      },
      "source": [
        "**Ввод**\n",
        "\n",
        "ваовтомто\n",
        "\n",
        "1\n",
        "\n",
        "**Вывод**\n",
        "\n",
        "аовтомт\n"
      ]
    },
    {
      "cell_type": "code",
      "metadata": {
        "colab": {
          "base_uri": "https://localhost:8080/"
        },
        "id": "n6IRBsKvci3p",
        "outputId": "61db4dc2-b92a-4a47-8855-e1302058d11b"
      },
      "source": [
        "print(a[1:8])"
      ],
      "execution_count": null,
      "outputs": [
        {
          "output_type": "stream",
          "name": "stdout",
          "text": [
            "2345678\n"
          ]
        }
      ]
    },
    {
      "cell_type": "markdown",
      "metadata": {
        "id": "RayvYJFip0Xe"
      },
      "source": [
        "Вывести каждый третий символ, начиная с 2 элемента"
      ]
    },
    {
      "cell_type": "markdown",
      "metadata": {
        "id": "i9_UkbySc6Th"
      },
      "source": [
        "**Ввод**\n",
        "\n",
        "ваовтомто\n",
        "\n",
        "1\n",
        "\n",
        "**Вывод**\n",
        "\n",
        "атт"
      ]
    },
    {
      "cell_type": "code",
      "metadata": {
        "colab": {
          "base_uri": "https://localhost:8080/"
        },
        "id": "_3CjVPRLc5GP",
        "outputId": "6e633ed5-9dbf-4ed0-c763-6c44c9849c54"
      },
      "source": [
        "print(a[1::3])"
      ],
      "execution_count": null,
      "outputs": [
        {
          "output_type": "stream",
          "name": "stdout",
          "text": [
            "258\n"
          ]
        }
      ]
    },
    {
      "cell_type": "markdown",
      "metadata": {
        "id": "hMeKkokAhv-L"
      },
      "source": [
        "## Числа"
      ]
    },
    {
      "cell_type": "markdown",
      "metadata": {
        "id": "H08tRprzdeyw"
      },
      "source": [
        "### Задание 1\n",
        "Вводим вещественное и целое число. Перемножаем их. Сколько раз в получившемся произведении повторяется число 5?\n",
        "\n",
        "**Ввод**\n",
        "\n",
        "0.25\n",
        "\n",
        "7\n",
        "\n",
        "**Вывод**\n",
        "\n",
        "1"
      ]
    },
    {
      "cell_type": "code",
      "metadata": {
        "colab": {
          "base_uri": "https://localhost:8080/"
        },
        "id": "10rQDSS7dO-i",
        "outputId": "ca0ccb2a-f5d5-4436-f1e3-7ae030790c2f"
      },
      "source": [
        "a=float(input())\n",
        "b=int(input())\n",
        "c=a*b\n",
        "c=str(c)\n",
        "print(c.count(\"5\"))"
      ],
      "execution_count": null,
      "outputs": [
        {
          "output_type": "stream",
          "name": "stdout",
          "text": [
            "6\n",
            "25\n",
            "1\n"
          ]
        }
      ]
    },
    {
      "cell_type": "markdown",
      "metadata": {
        "id": "RiOgFuS-gOes"
      },
      "source": [
        "## Списки\n",
        "Создайте список содержащий информацию о планетах нашей Солнечной системы. (Меркурий, Венера, Земля, Марс, Юпитер, Сатурн, Уран, Нептун) \n"
      ]
    },
    {
      "cell_type": "code",
      "metadata": {
        "id": "2w_SN3xBgur4"
      },
      "source": [
        "planets=['Меркурий', 'Венера', 'Земля',\n",
        "         'Марс', 'Юпитер', 'Сатурн', 'Уран', 'Нептун']"
      ],
      "execution_count": null,
      "outputs": []
    },
    {
      "cell_type": "markdown",
      "metadata": {
        "id": "fh4mlrXeh8W8"
      },
      "source": [
        "### Задание 1\n",
        "Вывести 5 планету/4 с конца планету Солнечной системы (двумя способами)\n",
        "\n",
        "**Вывод**\n",
        "\n",
        "Юпитер\n",
        "\n",
        "**HINT: нумерация элементов списка начинается с 0**"
      ]
    },
    {
      "cell_type": "code",
      "metadata": {
        "colab": {
          "base_uri": "https://localhost:8080/",
          "height": 36
        },
        "id": "Y0nZVCnfikkb",
        "outputId": "09c77bab-8f90-4910-9192-ef6eb42b9cfd"
      },
      "source": [
        "planets[4]"
      ],
      "execution_count": null,
      "outputs": [
        {
          "output_type": "execute_result",
          "data": {
            "application/vnd.google.colaboratory.intrinsic+json": {
              "type": "string"
            },
            "text/plain": [
              "'Юпитер'"
            ]
          },
          "metadata": {},
          "execution_count": 17
        }
      ]
    },
    {
      "cell_type": "code",
      "metadata": {
        "colab": {
          "base_uri": "https://localhost:8080/",
          "height": 36
        },
        "id": "Ax0NwpZri1aS",
        "outputId": "b3fb1852-9ea6-4bc3-9b32-2cae6ce31dfb"
      },
      "source": [
        "planets[-4]"
      ],
      "execution_count": null,
      "outputs": [
        {
          "output_type": "execute_result",
          "data": {
            "application/vnd.google.colaboratory.intrinsic+json": {
              "type": "string"
            },
            "text/plain": [
              "'Юпитер'"
            ]
          },
          "metadata": {},
          "execution_count": 18
        }
      ]
    },
    {
      "cell_type": "markdown",
      "metadata": {
        "id": "u8AyZz90jKl_"
      },
      "source": [
        "### Задание 2\n",
        "Вывести планеты с 2 по 4\n",
        "\n",
        "**Вывод**\n",
        "\n",
        "['Венера', 'Земля', 'Марс']\n",
        "\n"
      ]
    },
    {
      "cell_type": "code",
      "metadata": {
        "colab": {
          "base_uri": "https://localhost:8080/"
        },
        "id": "lsyZXMNFjEUG",
        "outputId": "9010eedd-8562-4ca9-e05a-4394e5c2ddf3"
      },
      "source": [
        "planets[1:4]"
      ],
      "execution_count": null,
      "outputs": [
        {
          "output_type": "execute_result",
          "data": {
            "text/plain": [
              "['Венера', 'Земля', 'Марс']"
            ]
          },
          "metadata": {},
          "execution_count": 19
        }
      ]
    },
    {
      "cell_type": "markdown",
      "metadata": {
        "id": "dfJhsgZ9jzkQ"
      },
      "source": [
        "### Задание 3\n",
        "Вывести планеты начиная с 5/4 последних планеты (двумя способами)\n",
        "\n",
        "**Вывод**\n",
        "\n",
        "['Юпитер', 'Сатурн', 'Уран', 'Нептун']\n",
        "\n"
      ]
    },
    {
      "cell_type": "code",
      "metadata": {
        "colab": {
          "base_uri": "https://localhost:8080/"
        },
        "id": "W2xYe48rja0v",
        "outputId": "9a8d9b14-3ab4-42fb-c679-0f15e357e161"
      },
      "source": [
        "planets[4::]"
      ],
      "execution_count": null,
      "outputs": [
        {
          "output_type": "execute_result",
          "data": {
            "text/plain": [
              "['Юпитер', 'Сатурн', 'Уран', 'Нептун']"
            ]
          },
          "metadata": {},
          "execution_count": 20
        }
      ]
    },
    {
      "cell_type": "code",
      "metadata": {
        "colab": {
          "base_uri": "https://localhost:8080/"
        },
        "id": "EssONKEMkJ4o",
        "outputId": "98a35297-1b3d-4dc1-8a75-7dfb63e66b0c"
      },
      "source": [
        "planets[-4::]"
      ],
      "execution_count": null,
      "outputs": [
        {
          "output_type": "execute_result",
          "data": {
            "text/plain": [
              "['Юпитер', 'Сатурн', 'Уран', 'Нептун']"
            ]
          },
          "metadata": {},
          "execution_count": 21
        }
      ]
    },
    {
      "cell_type": "markdown",
      "metadata": {
        "id": "6eBX6RzmkS4L"
      },
      "source": [
        "### Задание 4\n",
        "Заменить название 4 планеты СС на «Сникерс»\n"
      ]
    },
    {
      "cell_type": "code",
      "metadata": {
        "colab": {
          "base_uri": "https://localhost:8080/"
        },
        "id": "QoAAKUzukcBK",
        "outputId": "985e74c7-f913-4de3-b171-b20c56fe9296"
      },
      "source": [
        "planets[3]= 'Сникерс'\n",
        "planets"
      ],
      "execution_count": null,
      "outputs": [
        {
          "output_type": "execute_result",
          "data": {
            "text/plain": [
              "['Меркурий',\n",
              " 'Венера',\n",
              " 'Земля',\n",
              " 'Сникерс',\n",
              " 'Юпитер',\n",
              " 'Сатурн',\n",
              " 'Уран',\n",
              " 'Нептун']"
            ]
          },
          "metadata": {},
          "execution_count": 22
        }
      ]
    },
    {
      "cell_type": "markdown",
      "metadata": {
        "id": "0DMV5hUWl4pf"
      },
      "source": [
        "### Задание 5\n",
        "Заменить название первых 3 планет следующим образом: Мер, Вен, Зем"
      ]
    },
    {
      "cell_type": "code",
      "metadata": {
        "colab": {
          "base_uri": "https://localhost:8080/"
        },
        "id": "QXiVr8dKkx7o",
        "outputId": "dc753980-4008-463e-9d9c-bb038a16dd47"
      },
      "source": [
        "planets[:2]=['Мер', 'Вен', 'Зем']\n",
        "planets"
      ],
      "execution_count": null,
      "outputs": [
        {
          "output_type": "execute_result",
          "data": {
            "text/plain": [
              "['Мер',\n",
              " 'Вен',\n",
              " 'Зем',\n",
              " 'Зем',\n",
              " 'Земля',\n",
              " 'Сникерс',\n",
              " 'Юпитер',\n",
              " 'Сатурн',\n",
              " 'Уран',\n",
              " 'Нептун']"
            ]
          },
          "metadata": {},
          "execution_count": 25
        }
      ]
    },
    {
      "cell_type": "markdown",
      "metadata": {
        "id": "vGfyM10Il94y"
      },
      "source": [
        "### Задание 6\n",
        "Вернуть первым 4 планетам исходные названия"
      ]
    },
    {
      "cell_type": "code",
      "metadata": {
        "colab": {
          "base_uri": "https://localhost:8080/",
          "height": 224
        },
        "id": "l8OLBanYlufy",
        "outputId": "625b5b46-ead4-4521-e99f-23f76fafa0f6"
      },
      "source": [
        "planets['Мер']= 'Меркурий'\n",
        "planets['Вен']= 'Венера'\n",
        "planets['Сникерс'] = 'Марс'\n",
        "planets"
      ],
      "execution_count": null,
      "outputs": [
        {
          "output_type": "error",
          "ename": "TypeError",
          "evalue": "ignored",
          "traceback": [
            "\u001b[0;31m---------------------------------------------------------------------------\u001b[0m",
            "\u001b[0;31mTypeError\u001b[0m                                 Traceback (most recent call last)",
            "\u001b[0;32m<ipython-input-30-f1e3fad49acf>\u001b[0m in \u001b[0;36m<module>\u001b[0;34m()\u001b[0m\n\u001b[0;32m----> 1\u001b[0;31m \u001b[0mplanets\u001b[0m\u001b[0;34m[\u001b[0m\u001b[0;34m'Мер'\u001b[0m\u001b[0;34m]\u001b[0m\u001b[0;34m=\u001b[0m \u001b[0;34m'Меркурий'\u001b[0m\u001b[0;34m\u001b[0m\u001b[0;34m\u001b[0m\u001b[0m\n\u001b[0m\u001b[1;32m      2\u001b[0m \u001b[0mplanets\u001b[0m\u001b[0;34m[\u001b[0m\u001b[0;34m'Вен'\u001b[0m\u001b[0;34m]\u001b[0m\u001b[0;34m=\u001b[0m \u001b[0;34m'Венера'\u001b[0m\u001b[0;34m\u001b[0m\u001b[0;34m\u001b[0m\u001b[0m\n\u001b[1;32m      3\u001b[0m \u001b[0mplanets\u001b[0m\u001b[0;34m[\u001b[0m\u001b[0;34m'Сникерс'\u001b[0m\u001b[0;34m]\u001b[0m \u001b[0;34m=\u001b[0m \u001b[0;34m'Марс'\u001b[0m\u001b[0;34m\u001b[0m\u001b[0;34m\u001b[0m\u001b[0m\n\u001b[1;32m      4\u001b[0m \u001b[0mplanets\u001b[0m\u001b[0;34m\u001b[0m\u001b[0;34m\u001b[0m\u001b[0m\n",
            "\u001b[0;31mTypeError\u001b[0m: list indices must be integers or slices, not str"
          ]
        }
      ]
    },
    {
      "cell_type": "markdown",
      "metadata": {
        "id": "TCNjDeLVmGR6"
      },
      "source": [
        "### Задание 7\n",
        "Посчитать количество планет в списке с помощью функции `len()`\n"
      ]
    },
    {
      "cell_type": "code",
      "metadata": {
        "colab": {
          "base_uri": "https://localhost:8080/"
        },
        "id": "4yi-MebKl21E",
        "outputId": "6f68f20e-6385-404b-fbf6-30129fa87c62"
      },
      "source": [
        "len(planets)"
      ],
      "execution_count": null,
      "outputs": [
        {
          "output_type": "execute_result",
          "data": {
            "text/plain": [
              "8"
            ]
          },
          "metadata": {},
          "execution_count": 31
        }
      ]
    },
    {
      "cell_type": "markdown",
      "metadata": {
        "id": "-kT6oI7_mXd9"
      },
      "source": [
        "### Задание 8\n",
        "Отсортировать планеты СС в алфавитном порядке с помощью метода `sorted()`\n"
      ]
    },
    {
      "cell_type": "code",
      "metadata": {
        "colab": {
          "base_uri": "https://localhost:8080/"
        },
        "id": "FqwlHJAQmVCR",
        "outputId": "e5a80881-ff26-4b95-dc23-0452eb07cbdc"
      },
      "source": [
        "sorted(planets)"
      ],
      "execution_count": null,
      "outputs": [
        {
          "output_type": "execute_result",
          "data": {
            "text/plain": [
              "['Вен', 'Земля', 'Мер', 'Нептун', 'Сатурн', 'Сникерс', 'Уран', 'Юпитер']"
            ]
          },
          "metadata": {},
          "execution_count": 32
        }
      ]
    },
    {
      "cell_type": "markdown",
      "metadata": {
        "id": "ZZuYJ7X_mtB5"
      },
      "source": [
        "### Задание 9\n",
        "Добавить в наш список планет еще Плутон, с помощью метода `.append()`\n"
      ]
    },
    {
      "cell_type": "code",
      "metadata": {
        "id": "-DIzTXCHmkjm"
      },
      "source": [
        "planets.append('Плутон')\n"
      ],
      "execution_count": null,
      "outputs": []
    },
    {
      "cell_type": "code",
      "metadata": {
        "colab": {
          "base_uri": "https://localhost:8080/"
        },
        "id": "V9EnmVZUagR8",
        "outputId": "041259f9-e74b-46d5-c8e0-fcaa17b1c72d"
      },
      "source": [
        "planets"
      ],
      "execution_count": null,
      "outputs": [
        {
          "output_type": "execute_result",
          "data": {
            "text/plain": [
              "['Мер',\n",
              " 'Вен',\n",
              " 'Земля',\n",
              " 'Сникерс',\n",
              " 'Юпитер',\n",
              " 'Сатурн',\n",
              " 'Уран',\n",
              " 'Нептун',\n",
              " 'Плутон',\n",
              " 'Плутон']"
            ]
          },
          "metadata": {},
          "execution_count": 35
        }
      ]
    },
    {
      "cell_type": "markdown",
      "metadata": {
        "id": "9LpbHWiMm9by"
      },
      "source": [
        "### Задание 10\n",
        "Удалить Плутон из списка с  помощью метода `.pop()` (удаляет последний элемент в списке), либо с помощью `.remove()`\n"
      ]
    },
    {
      "cell_type": "code",
      "metadata": {
        "colab": {
          "base_uri": "https://localhost:8080/",
          "height": 36
        },
        "id": "WYVRoLQXm3bj",
        "outputId": "203eb957-05e6-444b-8744-66edc0658c96"
      },
      "source": [
        "planets.pop()"
      ],
      "execution_count": null,
      "outputs": [
        {
          "output_type": "execute_result",
          "data": {
            "application/vnd.google.colaboratory.intrinsic+json": {
              "type": "string"
            },
            "text/plain": [
              "'Плутон'"
            ]
          },
          "metadata": {},
          "execution_count": 37
        }
      ]
    },
    {
      "cell_type": "code",
      "metadata": {
        "colab": {
          "base_uri": "https://localhost:8080/"
        },
        "id": "3qKi9C26auVT",
        "outputId": "7ea3b7df-b4e2-44d4-b18a-1803d5c61f84"
      },
      "source": [
        "planets"
      ],
      "execution_count": null,
      "outputs": [
        {
          "output_type": "execute_result",
          "data": {
            "text/plain": [
              "['Мер',\n",
              " 'Вен',\n",
              " 'Земля',\n",
              " 'Сникерс',\n",
              " 'Юпитер',\n",
              " 'Сатурн',\n",
              " 'Уран',\n",
              " 'Нептун',\n",
              " 'Плутон']"
            ]
          },
          "metadata": {},
          "execution_count": 38
        }
      ]
    },
    {
      "cell_type": "code",
      "metadata": {
        "id": "KRaMx5tZnWqK"
      },
      "source": [
        "planets.remove(planets[-1])"
      ],
      "execution_count": null,
      "outputs": []
    },
    {
      "cell_type": "code",
      "metadata": {
        "colab": {
          "base_uri": "https://localhost:8080/"
        },
        "id": "Q8wgJV2Qa_Yg",
        "outputId": "05ecde8e-6a41-494e-cd7b-828ab0ed91f3"
      },
      "source": [
        "planets"
      ],
      "execution_count": null,
      "outputs": [
        {
          "output_type": "execute_result",
          "data": {
            "text/plain": [
              "['Мер', 'Вен', 'Земля', 'Сникерс', 'Юпитер', 'Сатурн', 'Уран', 'Нептун']"
            ]
          },
          "metadata": {},
          "execution_count": 40
        }
      ]
    },
    {
      "cell_type": "code",
      "metadata": {
        "id": "rFDmAo9gnpKz",
        "colab": {
          "base_uri": "https://localhost:8080/"
        },
        "outputId": "224068c8-128c-44b0-b1c0-707b54c1efae"
      },
      "source": [
        "planets.remove('Нептун')\n",
        "planets"
      ],
      "execution_count": null,
      "outputs": [
        {
          "output_type": "execute_result",
          "data": {
            "text/plain": [
              "['Мер', 'Вен', 'Земля', 'Сникерс', 'Юпитер', 'Сатурн', 'Уран']"
            ]
          },
          "metadata": {},
          "execution_count": 41
        }
      ]
    },
    {
      "cell_type": "markdown",
      "metadata": {
        "id": "sEyssfw9n0Y1"
      },
      "source": [
        "### Задание 11\n",
        "Найти какой по счету Сатурн в солнечной системе с помощью метода `.index()`\n",
        "\n",
        "**HINT: Не забываем что нумерация объектов списка начинается с 0**\n"
      ]
    },
    {
      "cell_type": "code",
      "metadata": {
        "colab": {
          "base_uri": "https://localhost:8080/"
        },
        "id": "zKNtlHKWoCZR",
        "outputId": "e1006eba-194c-4abe-837f-fdd9c9111139"
      },
      "source": [
        "planets.index('Сатурн')+1"
      ],
      "execution_count": null,
      "outputs": [
        {
          "output_type": "execute_result",
          "data": {
            "text/plain": [
              "6"
            ]
          },
          "metadata": {},
          "execution_count": 43
        }
      ]
    },
    {
      "cell_type": "markdown",
      "metadata": {
        "id": "FGgn2PuRrQFE"
      },
      "source": [
        "## Тренировка"
      ]
    },
    {
      "cell_type": "markdown",
      "metadata": {
        "id": "Ogs0kjM3wSC6"
      },
      "source": [
        "### Задача 1. Время\n",
        "Дано число n. С начала суток прошло n минут. Определите, сколько часов и минут будут показывать электронные часы в этот момент. Программа должна вывести два числа: количество часов (от 0 до 23) и количество минут (от 0 до 59). Учтите, что число n может быть больше, чем количество минут в сутках.\n",
        "\n",
        "**Ввод**\n",
        "\n",
        "150\n",
        "\n",
        "**Вывод**\n",
        "\n",
        "2 30\n",
        "\n",
        "**Ввод**\n",
        "\n",
        "1441\n",
        "\n",
        "**Вывод**\n",
        "\n",
        "0 1\n",
        "\n",
        "**Ввод**\n",
        "\n",
        "2000\n",
        "\n",
        "**Вывод**\n",
        "\n",
        "9 20"
      ]
    },
    {
      "cell_type": "code",
      "metadata": {
        "id": "wdCcCA4MxUxM"
      },
      "source": [
        ""
      ],
      "execution_count": null,
      "outputs": []
    },
    {
      "cell_type": "markdown",
      "metadata": {
        "id": "0vumj4bpsITe"
      },
      "source": [
        "###Задача 2. Строки\n",
        "Дана строка, состоящая из слов, разделенных пробелами. Определите, сколько в ней слов. Используйте для решения задачи метод `.count()`\n",
        "\n",
        "**Ввод**\n",
        "\n",
        "Hello world\n",
        "\n",
        "**Вывод**\n",
        "\n",
        "2"
      ]
    },
    {
      "cell_type": "code",
      "metadata": {
        "id": "ifjvM5ngsGYs"
      },
      "source": [
        ""
      ],
      "execution_count": null,
      "outputs": []
    },
    {
      "cell_type": "markdown",
      "metadata": {
        "id": "cfP48QJis4fZ"
      },
      "source": [
        "### Задача 3. Строки\n",
        "Дана строка, состоящая ровно из двух слов, разделенных пробелом. Переставьте эти слова местами. Результат запишите в строку и выведите получившуюся строку.\n",
        "\n",
        "**Ввод**\n",
        "\n",
        "Hello, world!\n",
        "\n",
        "**Вывод**\n",
        "\n",
        "world! Hello,"
      ]
    },
    {
      "cell_type": "code",
      "metadata": {
        "id": "s_3uy-FGx2C8"
      },
      "source": [
        ""
      ],
      "execution_count": null,
      "outputs": []
    },
    {
      "cell_type": "markdown",
      "metadata": {
        "id": "LQ7vfGWlwQDL"
      },
      "source": [
        "### Задача 4. Строки/Операции с числами\n",
        "Дано натуральное число. Выведите его последнюю цифру."
      ]
    },
    {
      "cell_type": "code",
      "metadata": {
        "id": "jbqkatd_tjFO"
      },
      "source": [
        "#Через строки"
      ],
      "execution_count": null,
      "outputs": []
    },
    {
      "cell_type": "code",
      "metadata": {
        "id": "KWck5dmIwPZv"
      },
      "source": [
        "#Через операцию с цифрой"
      ],
      "execution_count": null,
      "outputs": []
    },
    {
      "cell_type": "markdown",
      "metadata": {
        "id": "ED6jYy8oyMwG"
      },
      "source": [
        "###Задача 5. Строки/Операции с числами\n",
        "Дано положительное действительное число X. Выведите его дробную часть."
      ]
    },
    {
      "cell_type": "code",
      "metadata": {
        "id": "Q1NbBj0Vy4Eu"
      },
      "source": [
        "#Через строки"
      ],
      "execution_count": null,
      "outputs": []
    },
    {
      "cell_type": "code",
      "metadata": {
        "id": "MvYJSH7ey4qc"
      },
      "source": [
        "#Через операцию с числами"
      ],
      "execution_count": null,
      "outputs": []
    },
    {
      "cell_type": "markdown",
      "metadata": {
        "id": "uBxlReqRy7eI"
      },
      "source": [
        "###Задача 6. Строки/Операции с числами\n",
        "Дано положительное действительное число X. Выведите его первую цифру после десятичной точки."
      ]
    },
    {
      "cell_type": "code",
      "metadata": {
        "id": "ReB6RBMnzvSj"
      },
      "source": [
        "#Через строки"
      ],
      "execution_count": null,
      "outputs": []
    },
    {
      "cell_type": "code",
      "metadata": {
        "id": "PIROnZg4zxUX"
      },
      "source": [
        "#Через операцию с числами"
      ],
      "execution_count": null,
      "outputs": []
    }
  ]
}