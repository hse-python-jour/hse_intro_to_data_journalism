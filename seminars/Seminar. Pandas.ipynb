{
 "cells": [
  {
   "cell_type": "markdown",
   "id": "1b0e44e2",
   "metadata": {},
   "source": [
    "# Семинар по библиотеке Pandas"
   ]
  },
  {
   "cell_type": "markdown",
   "id": "b4f5dae9",
   "metadata": {},
   "source": [
    "Библиотека Pandas очень полезный инструмент, используемый для первичной работы с данными, с помощью которого можно проводить простой анализ данных и предобработку данных. \n"
   ]
  },
  {
   "cell_type": "markdown",
   "id": "6c998050",
   "metadata": {},
   "source": [
    "Основные возможности Pandas:\n",
    "* удобное чтение и запись данных из csv, txt, xls, SQL databases, HDF5\n",
    "* удобное чтение и запись данных из csv, txt, xls, SQL databases, HDF5\n",
    "* удобная работа с пропусками в данных\n",
    "* поиск, сортировка, выборка объектов, удовлетворяющих заданным критериям\n",
    "* возможности по соединению датасетов\n",
    "* красивая визуализация"
   ]
  },
  {
   "cell_type": "markdown",
   "id": "bdba2afe",
   "metadata": {},
   "source": [
    "#### Импорт библиотеки:"
   ]
  },
  {
   "cell_type": "code",
   "execution_count": 1,
   "id": "0faf826b",
   "metadata": {},
   "outputs": [],
   "source": [
    "import pandas as pd"
   ]
  },
  {
   "cell_type": "markdown",
   "id": "fe7fec00",
   "metadata": {},
   "source": [
    "### Загрузка данных и создание датафреймов"
   ]
  },
  {
   "cell_type": "markdown",
   "id": "1ca6bcd4",
   "metadata": {},
   "source": [
    "#### Наиболее популярные форматы данных (при скачивании датасета из интернета):\n",
    "\n",
    "* csv (comma separated file), tsv (tab separated file) - таблицы, записанные в текстовые файлы с простой структурой. Эти файлы можно открывать в обычном текстовом редакторе. Pandas позволяет считывать эти данные именно в формате таблицы.\n",
    "* xls (eXceL Spreadsheet $-$ таблицы Microsoft)\n",
    "* json (JavaScript Object Notation, используется для сериализации структур языка, то есть сохранения сложных объектов, например, вложенных списков или словарей python). Json-текст представляет собой либо набор пар ключ: значение, либо упорядоченный набор значений\n",
    "* txt в иной специфичной для задачи форме (например, vowpal-wabbit и uci bag-of-words для <<мешка слов>>)\n",
    "\n",
    "В pandas есть функции для считывания во всех этих форматах.\n",
    "\n",
    "В реальной жизни данные хранятся в базах данных, откуда с помощью sql-подобных языков из них составляют файлы в указанных выше форматах.\n",
    "\n",
    "__Чтение из csv с помощью pandas:__ [pandas.read_csv()](http://pandas.pydata.org/pandas-docs/stable/generated/pandas.read_csv.html) \n",
    "У функции есть несколько параметров, основные необходимые:\n",
    "* filepath_or_buffer (перый и единственный обязательный аргумент) --- имя файла\n",
    "* sep $-$ разделитель (; , \\t ...)\n",
    "* quotechar $-$ символ кавычек, все что внутри считается за строку (разделители также могут входить в эту строку; ' \" ...)\n",
    "* names $-$ список названий колонок\n",
    "* header $-$ номер строки файла (с 0), которую нужно считать заголовком\n",
    "* dtype $-$ словарь, сопоставляющий именам колонок типы данных в них\n",
    "* na_values $-$ строка/список/словарь (ключи $-$ названия колонок) строковых значений, которые нужно считать пропуском.\n",
    "\n",
    "По умолчанию names=None и header=0, то есть названия колонок берутся из первой строки файла. Можно передать названия через names. Если вы не хотите давать названия, укажите header=None, тогда названия будут даны автоматически индексами с 0. Учтите, что названия нужны при дальнейшей работе с данными (если вы только не собираетесь взять оттуда только numpy-матрицу; в этом случае они не понадобятся). Следите за длиной списка названий, он должен совпадать с реальным числом колонок в файле (а в противном случае вы получите ошибки)! Чтобы заменить заголовки, записанные в файле, нужно установить header=0 и передать names.\n",
    "\n",
    "В функцию pd.read_csv можно передавать как путь к файлу, хранящемуся на компьютере, так и ссылку на файл в Интернете.\n",
    "\n",
    "Для чтения xls: [pandas.read_excel](https://pandas.pydata.org/pandas-docs/stable/reference/api/pandas.read_excel.html)\n",
    "\n",
    "Для чтения sql: [pandas.read_sql](https://pandas.pydata.org/pandas-docs/stable/reference/api/pandas.read_sql.html)\n"
   ]
  },
  {
   "cell_type": "markdown",
   "id": "9f61acf8",
   "metadata": {},
   "source": [
    "Считываем файл с данными, с которыми мы будем работать:"
   ]
  },
  {
   "cell_type": "code",
   "execution_count": 2,
   "id": "105318d4",
   "metadata": {},
   "outputs": [],
   "source": [
    "data = pd.read_csv('rbc_df.txt')"
   ]
  },
  {
   "cell_type": "code",
   "execution_count": 3,
   "id": "602ed220",
   "metadata": {},
   "outputs": [
    {
     "data": {
      "text/html": [
       "<div>\n",
       "<style scoped>\n",
       "    .dataframe tbody tr th:only-of-type {\n",
       "        vertical-align: middle;\n",
       "    }\n",
       "\n",
       "    .dataframe tbody tr th {\n",
       "        vertical-align: top;\n",
       "    }\n",
       "\n",
       "    .dataframe thead th {\n",
       "        text-align: right;\n",
       "    }\n",
       "</style>\n",
       "<table border=\"1\" class=\"dataframe\">\n",
       "  <thead>\n",
       "    <tr style=\"text-align: right;\">\n",
       "      <th></th>\n",
       "      <th>Unnamed: 0</th>\n",
       "      <th>date</th>\n",
       "      <th>comments</th>\n",
       "      <th>likes</th>\n",
       "      <th>text</th>\n",
       "    </tr>\n",
       "  </thead>\n",
       "  <tbody>\n",
       "    <tr>\n",
       "      <th>0</th>\n",
       "      <td>0</td>\n",
       "      <td>18/10/2021</td>\n",
       "      <td>80</td>\n",
       "      <td>3425</td>\n",
       "      <td>Анализируя клавиатурный почерк сотрудников, ра...</td>\n",
       "    </tr>\n",
       "    <tr>\n",
       "      <th>1</th>\n",
       "      <td>1</td>\n",
       "      <td>18/10/2021</td>\n",
       "      <td>288</td>\n",
       "      <td>3235</td>\n",
       "      <td>Электронные паспорта россиянам будут выдавать ...</td>\n",
       "    </tr>\n",
       "    <tr>\n",
       "      <th>2</th>\n",
       "      <td>2</td>\n",
       "      <td>17/10/2021</td>\n",
       "      <td>251</td>\n",
       "      <td>5028</td>\n",
       "      <td>Рыбы ранимые, а со Скорпионами лучше не связыв...</td>\n",
       "    </tr>\n",
       "    <tr>\n",
       "      <th>3</th>\n",
       "      <td>3</td>\n",
       "      <td>17/10/2021</td>\n",
       "      <td>107</td>\n",
       "      <td>5806</td>\n",
       "      <td>В Керчи открыли мемориал в память о жертвах тр...</td>\n",
       "    </tr>\n",
       "    <tr>\n",
       "      <th>4</th>\n",
       "      <td>4</td>\n",
       "      <td>17/10/2021</td>\n",
       "      <td>109</td>\n",
       "      <td>5728</td>\n",
       "      <td>Рут Порат встретила «черный понедельник» 1987 ...</td>\n",
       "    </tr>\n",
       "    <tr>\n",
       "      <th>...</th>\n",
       "      <td>...</td>\n",
       "      <td>...</td>\n",
       "      <td>...</td>\n",
       "      <td>...</td>\n",
       "      <td>...</td>\n",
       "    </tr>\n",
       "    <tr>\n",
       "      <th>195</th>\n",
       "      <td>195</td>\n",
       "      <td>04/08/2021</td>\n",
       "      <td>126</td>\n",
       "      <td>4783</td>\n",
       "      <td>Многие заманчивые инвестиционные предложения —...</td>\n",
       "    </tr>\n",
       "    <tr>\n",
       "      <th>196</th>\n",
       "      <td>196</td>\n",
       "      <td>04/08/2021</td>\n",
       "      <td>93</td>\n",
       "      <td>2802</td>\n",
       "      <td>Новости под заголовком «Британцы раскритиковал...</td>\n",
       "    </tr>\n",
       "    <tr>\n",
       "      <th>197</th>\n",
       "      <td>197</td>\n",
       "      <td>04/08/2021</td>\n",
       "      <td>279</td>\n",
       "      <td>4310</td>\n",
       "      <td>После повышения ключевой ставки Банка России с...</td>\n",
       "    </tr>\n",
       "    <tr>\n",
       "      <th>198</th>\n",
       "      <td>198</td>\n",
       "      <td>03/08/2021</td>\n",
       "      <td>257</td>\n",
       "      <td>8337</td>\n",
       "      <td>UPD: Дизайнера проекта Метро 2030 зовут Конста...</td>\n",
       "    </tr>\n",
       "    <tr>\n",
       "      <th>199</th>\n",
       "      <td>199</td>\n",
       "      <td>03/08/2021</td>\n",
       "      <td>1283</td>\n",
       "      <td>3731</td>\n",
       "      <td>Главврач больницы № 40 в Коммунарке Денис Проц...</td>\n",
       "    </tr>\n",
       "  </tbody>\n",
       "</table>\n",
       "<p>200 rows × 5 columns</p>\n",
       "</div>"
      ],
      "text/plain": [
       "     Unnamed: 0        date  comments  likes  \\\n",
       "0             0  18/10/2021        80   3425   \n",
       "1             1  18/10/2021       288   3235   \n",
       "2             2  17/10/2021       251   5028   \n",
       "3             3  17/10/2021       107   5806   \n",
       "4             4  17/10/2021       109   5728   \n",
       "..          ...         ...       ...    ...   \n",
       "195         195  04/08/2021       126   4783   \n",
       "196         196  04/08/2021        93   2802   \n",
       "197         197  04/08/2021       279   4310   \n",
       "198         198  03/08/2021       257   8337   \n",
       "199         199  03/08/2021      1283   3731   \n",
       "\n",
       "                                                  text  \n",
       "0    Анализируя клавиатурный почерк сотрудников, ра...  \n",
       "1    Электронные паспорта россиянам будут выдавать ...  \n",
       "2    Рыбы ранимые, а со Скорпионами лучше не связыв...  \n",
       "3    В Керчи открыли мемориал в память о жертвах тр...  \n",
       "4    Рут Порат встретила «черный понедельник» 1987 ...  \n",
       "..                                                 ...  \n",
       "195  Многие заманчивые инвестиционные предложения —...  \n",
       "196  Новости под заголовком «Британцы раскритиковал...  \n",
       "197  После повышения ключевой ставки Банка России с...  \n",
       "198  UPD: Дизайнера проекта Метро 2030 зовут Конста...  \n",
       "199  Главврач больницы № 40 в Коммунарке Денис Проц...  \n",
       "\n",
       "[200 rows x 5 columns]"
      ]
     },
     "execution_count": 3,
     "metadata": {},
     "output_type": "execute_result"
    }
   ],
   "source": [
    "data"
   ]
  },
  {
   "cell_type": "markdown",
   "id": "e7e85917",
   "metadata": {},
   "source": [
    "Данные представляют собой 200 наблюдений со страницы РБК Медиа в Инстаграме, включая количество лайков, коммментариев и текст поста. На сегодняшнем семинаре будут изучены основные функции работы с таблицами, потом вы изучите возможности работы со срезами строк, то есть анализ текстов. "
   ]
  },
  {
   "cell_type": "markdown",
   "id": "072f32a1",
   "metadata": {},
   "source": [
    "Выведем первые пять наблюдений таблицы с помощью метода ___.head()___"
   ]
  },
  {
   "cell_type": "code",
   "execution_count": 5,
   "id": "98f8ceb9",
   "metadata": {},
   "outputs": [
    {
     "data": {
      "text/html": [
       "<div>\n",
       "<style scoped>\n",
       "    .dataframe tbody tr th:only-of-type {\n",
       "        vertical-align: middle;\n",
       "    }\n",
       "\n",
       "    .dataframe tbody tr th {\n",
       "        vertical-align: top;\n",
       "    }\n",
       "\n",
       "    .dataframe thead th {\n",
       "        text-align: right;\n",
       "    }\n",
       "</style>\n",
       "<table border=\"1\" class=\"dataframe\">\n",
       "  <thead>\n",
       "    <tr style=\"text-align: right;\">\n",
       "      <th></th>\n",
       "      <th>Unnamed: 0</th>\n",
       "      <th>date</th>\n",
       "      <th>comments</th>\n",
       "      <th>likes</th>\n",
       "      <th>text</th>\n",
       "    </tr>\n",
       "  </thead>\n",
       "  <tbody>\n",
       "    <tr>\n",
       "      <th>0</th>\n",
       "      <td>0</td>\n",
       "      <td>18/10/2021</td>\n",
       "      <td>80</td>\n",
       "      <td>3425</td>\n",
       "      <td>Анализируя клавиатурный почерк сотрудников, ра...</td>\n",
       "    </tr>\n",
       "    <tr>\n",
       "      <th>1</th>\n",
       "      <td>1</td>\n",
       "      <td>18/10/2021</td>\n",
       "      <td>288</td>\n",
       "      <td>3235</td>\n",
       "      <td>Электронные паспорта россиянам будут выдавать ...</td>\n",
       "    </tr>\n",
       "    <tr>\n",
       "      <th>2</th>\n",
       "      <td>2</td>\n",
       "      <td>17/10/2021</td>\n",
       "      <td>251</td>\n",
       "      <td>5028</td>\n",
       "      <td>Рыбы ранимые, а со Скорпионами лучше не связыв...</td>\n",
       "    </tr>\n",
       "    <tr>\n",
       "      <th>3</th>\n",
       "      <td>3</td>\n",
       "      <td>17/10/2021</td>\n",
       "      <td>107</td>\n",
       "      <td>5806</td>\n",
       "      <td>В Керчи открыли мемориал в память о жертвах тр...</td>\n",
       "    </tr>\n",
       "    <tr>\n",
       "      <th>4</th>\n",
       "      <td>4</td>\n",
       "      <td>17/10/2021</td>\n",
       "      <td>109</td>\n",
       "      <td>5728</td>\n",
       "      <td>Рут Порат встретила «черный понедельник» 1987 ...</td>\n",
       "    </tr>\n",
       "    <tr>\n",
       "      <th>5</th>\n",
       "      <td>5</td>\n",
       "      <td>16/10/2021</td>\n",
       "      <td>43</td>\n",
       "      <td>3843</td>\n",
       "      <td>Одна из классификаций предпринимателей предлаг...</td>\n",
       "    </tr>\n",
       "    <tr>\n",
       "      <th>6</th>\n",
       "      <td>6</td>\n",
       "      <td>15/10/2021</td>\n",
       "      <td>59</td>\n",
       "      <td>3498</td>\n",
       "      <td>Стивен Хокинг считал, что черные дыры — это по...</td>\n",
       "    </tr>\n",
       "    <tr>\n",
       "      <th>7</th>\n",
       "      <td>7</td>\n",
       "      <td>14/10/2021</td>\n",
       "      <td>402</td>\n",
       "      <td>10893</td>\n",
       "      <td>С момента выхода «Игры в кальмара» прошел меся...</td>\n",
       "    </tr>\n",
       "    <tr>\n",
       "      <th>8</th>\n",
       "      <td>8</td>\n",
       "      <td>14/10/2021</td>\n",
       "      <td>47</td>\n",
       "      <td>1962</td>\n",
       "      <td>Критика позволяет любому специалисту развивать...</td>\n",
       "    </tr>\n",
       "    <tr>\n",
       "      <th>9</th>\n",
       "      <td>9</td>\n",
       "      <td>14/10/2021</td>\n",
       "      <td>58</td>\n",
       "      <td>11031</td>\n",
       "      <td>Ежегодный международный конкурс фотографий дик...</td>\n",
       "    </tr>\n",
       "  </tbody>\n",
       "</table>\n",
       "</div>"
      ],
      "text/plain": [
       "   Unnamed: 0        date  comments  likes  \\\n",
       "0           0  18/10/2021        80   3425   \n",
       "1           1  18/10/2021       288   3235   \n",
       "2           2  17/10/2021       251   5028   \n",
       "3           3  17/10/2021       107   5806   \n",
       "4           4  17/10/2021       109   5728   \n",
       "5           5  16/10/2021        43   3843   \n",
       "6           6  15/10/2021        59   3498   \n",
       "7           7  14/10/2021       402  10893   \n",
       "8           8  14/10/2021        47   1962   \n",
       "9           9  14/10/2021        58  11031   \n",
       "\n",
       "                                                text  \n",
       "0  Анализируя клавиатурный почерк сотрудников, ра...  \n",
       "1  Электронные паспорта россиянам будут выдавать ...  \n",
       "2  Рыбы ранимые, а со Скорпионами лучше не связыв...  \n",
       "3  В Керчи открыли мемориал в память о жертвах тр...  \n",
       "4  Рут Порат встретила «черный понедельник» 1987 ...  \n",
       "5  Одна из классификаций предпринимателей предлаг...  \n",
       "6  Стивен Хокинг считал, что черные дыры — это по...  \n",
       "7  С момента выхода «Игры в кальмара» прошел меся...  \n",
       "8  Критика позволяет любому специалисту развивать...  \n",
       "9  Ежегодный международный конкурс фотографий дик...  "
      ]
     },
     "execution_count": 5,
     "metadata": {},
     "output_type": "execute_result"
    }
   ],
   "source": [
    "data.head(10)\n",
    "#автоматически выводит 5, но в скобках можно указать любое число наблюдений"
   ]
  },
  {
   "cell_type": "markdown",
   "id": "c40ba534",
   "metadata": {},
   "source": [
    "* Как можно видеть, первый столбец $-$ номера наблюдений, начиная с нуля\n",
    "* Второй - дата поста\n",
    "* Количество комментариев в посте\n",
    "* Количество лайков в посте"
   ]
  },
  {
   "cell_type": "markdown",
   "id": "ef4a5c71",
   "metadata": {},
   "source": [
    "Посмотреть последние пять строк можно с помощью метода ___.tail()___"
   ]
  },
  {
   "cell_type": "code",
   "execution_count": 6,
   "id": "301abf15",
   "metadata": {},
   "outputs": [
    {
     "data": {
      "text/html": [
       "<div>\n",
       "<style scoped>\n",
       "    .dataframe tbody tr th:only-of-type {\n",
       "        vertical-align: middle;\n",
       "    }\n",
       "\n",
       "    .dataframe tbody tr th {\n",
       "        vertical-align: top;\n",
       "    }\n",
       "\n",
       "    .dataframe thead th {\n",
       "        text-align: right;\n",
       "    }\n",
       "</style>\n",
       "<table border=\"1\" class=\"dataframe\">\n",
       "  <thead>\n",
       "    <tr style=\"text-align: right;\">\n",
       "      <th></th>\n",
       "      <th>Unnamed: 0</th>\n",
       "      <th>date</th>\n",
       "      <th>comments</th>\n",
       "      <th>likes</th>\n",
       "      <th>text</th>\n",
       "    </tr>\n",
       "  </thead>\n",
       "  <tbody>\n",
       "    <tr>\n",
       "      <th>195</th>\n",
       "      <td>195</td>\n",
       "      <td>04/08/2021</td>\n",
       "      <td>126</td>\n",
       "      <td>4783</td>\n",
       "      <td>Многие заманчивые инвестиционные предложения —...</td>\n",
       "    </tr>\n",
       "    <tr>\n",
       "      <th>196</th>\n",
       "      <td>196</td>\n",
       "      <td>04/08/2021</td>\n",
       "      <td>93</td>\n",
       "      <td>2802</td>\n",
       "      <td>Новости под заголовком «Британцы раскритиковал...</td>\n",
       "    </tr>\n",
       "    <tr>\n",
       "      <th>197</th>\n",
       "      <td>197</td>\n",
       "      <td>04/08/2021</td>\n",
       "      <td>279</td>\n",
       "      <td>4310</td>\n",
       "      <td>После повышения ключевой ставки Банка России с...</td>\n",
       "    </tr>\n",
       "    <tr>\n",
       "      <th>198</th>\n",
       "      <td>198</td>\n",
       "      <td>03/08/2021</td>\n",
       "      <td>257</td>\n",
       "      <td>8337</td>\n",
       "      <td>UPD: Дизайнера проекта Метро 2030 зовут Конста...</td>\n",
       "    </tr>\n",
       "    <tr>\n",
       "      <th>199</th>\n",
       "      <td>199</td>\n",
       "      <td>03/08/2021</td>\n",
       "      <td>1283</td>\n",
       "      <td>3731</td>\n",
       "      <td>Главврач больницы № 40 в Коммунарке Денис Проц...</td>\n",
       "    </tr>\n",
       "  </tbody>\n",
       "</table>\n",
       "</div>"
      ],
      "text/plain": [
       "     Unnamed: 0        date  comments  likes  \\\n",
       "195         195  04/08/2021       126   4783   \n",
       "196         196  04/08/2021        93   2802   \n",
       "197         197  04/08/2021       279   4310   \n",
       "198         198  03/08/2021       257   8337   \n",
       "199         199  03/08/2021      1283   3731   \n",
       "\n",
       "                                                  text  \n",
       "195  Многие заманчивые инвестиционные предложения —...  \n",
       "196  Новости под заголовком «Британцы раскритиковал...  \n",
       "197  После повышения ключевой ставки Банка России с...  \n",
       "198  UPD: Дизайнера проекта Метро 2030 зовут Конста...  \n",
       "199  Главврач больницы № 40 в Коммунарке Денис Проц...  "
      ]
     },
     "execution_count": 6,
     "metadata": {},
     "output_type": "execute_result"
    }
   ],
   "source": [
    "data.tail()\n",
    "#автоматически выводит 5, но в скобках можно указать любое число наблюдений"
   ]
  },
  {
   "cell_type": "markdown",
   "id": "144db382",
   "metadata": {},
   "source": [
    "Также можно посмотреть размер таблицы, то есть вывести _(число наблюдений х число признаков)_, используя ___.shape___"
   ]
  },
  {
   "cell_type": "code",
   "execution_count": 7,
   "id": "69631d88",
   "metadata": {},
   "outputs": [
    {
     "data": {
      "text/plain": [
       "(200, 5)"
      ]
     },
     "execution_count": 7,
     "metadata": {},
     "output_type": "execute_result"
    }
   ],
   "source": [
    "data.shape"
   ]
  },
  {
   "cell_type": "markdown",
   "id": "19686b64",
   "metadata": {},
   "source": [
    "Получается мы имеем 200 наблюдений и в каждом наблюдении по пять признаков: номер наблюдения, дата, число комментариев, число лайков, текст поста"
   ]
  },
  {
   "cell_type": "markdown",
   "id": "ac93edaf",
   "metadata": {},
   "source": [
    "Посмотреть тип:"
   ]
  },
  {
   "cell_type": "code",
   "execution_count": 8,
   "id": "1de24211",
   "metadata": {},
   "outputs": [
    {
     "data": {
      "text/plain": [
       "pandas.core.frame.DataFrame"
      ]
     },
     "execution_count": 8,
     "metadata": {},
     "output_type": "execute_result"
    }
   ],
   "source": [
    "type(data)"
   ]
  },
  {
   "cell_type": "markdown",
   "id": "ec856b14",
   "metadata": {},
   "source": [
    "Как мы можем видеть, мы имеем ___DataFrame___, то есть многомерный массив значений (просто табличка).\n",
    "Также еще одним популярным типом являтся ___Series___. Series – это проиндексированный одномерный массив значений. \n",
    "\n",
    "Каждый столбец DataFrame является типом структуры Series (то есть столбец датафрейма это series)"
   ]
  },
  {
   "cell_type": "code",
   "execution_count": 9,
   "id": "ffb6ec5a",
   "metadata": {},
   "outputs": [
    {
     "data": {
      "text/plain": [
       "pandas.core.series.Series"
      ]
     },
     "execution_count": 9,
     "metadata": {},
     "output_type": "execute_result"
    }
   ],
   "source": [
    "# Тип одного столбца:\n",
    "type(data['date'])"
   ]
  },
  {
   "cell_type": "markdown",
   "id": "b92c7300",
   "metadata": {},
   "source": [
    "Датафрейм в пандасе можно создавать и вручную:\n",
    "    "
   ]
  },
  {
   "cell_type": "code",
   "execution_count": 10,
   "id": "18e0b4c8",
   "metadata": {},
   "outputs": [
    {
     "data": {
      "text/html": [
       "<div>\n",
       "<style scoped>\n",
       "    .dataframe tbody tr th:only-of-type {\n",
       "        vertical-align: middle;\n",
       "    }\n",
       "\n",
       "    .dataframe tbody tr th {\n",
       "        vertical-align: top;\n",
       "    }\n",
       "\n",
       "    .dataframe thead th {\n",
       "        text-align: right;\n",
       "    }\n",
       "</style>\n",
       "<table border=\"1\" class=\"dataframe\">\n",
       "  <thead>\n",
       "    <tr style=\"text-align: right;\">\n",
       "      <th></th>\n",
       "      <th>col1</th>\n",
       "      <th>col2</th>\n",
       "      <th>col3</th>\n",
       "    </tr>\n",
       "  </thead>\n",
       "  <tbody>\n",
       "    <tr>\n",
       "      <th>0</th>\n",
       "      <td>4</td>\n",
       "      <td>10</td>\n",
       "      <td>100</td>\n",
       "    </tr>\n",
       "    <tr>\n",
       "      <th>1</th>\n",
       "      <td>5</td>\n",
       "      <td>20</td>\n",
       "      <td>50</td>\n",
       "    </tr>\n",
       "    <tr>\n",
       "      <th>2</th>\n",
       "      <td>6</td>\n",
       "      <td>30</td>\n",
       "      <td>-30</td>\n",
       "    </tr>\n",
       "    <tr>\n",
       "      <th>3</th>\n",
       "      <td>7</td>\n",
       "      <td>40</td>\n",
       "      <td>-50</td>\n",
       "    </tr>\n",
       "  </tbody>\n",
       "</table>\n",
       "</div>"
      ],
      "text/plain": [
       "   col1  col2  col3\n",
       "0     4    10   100\n",
       "1     5    20    50\n",
       "2     6    30   -30\n",
       "3     7    40   -50"
      ]
     },
     "execution_count": 10,
     "metadata": {},
     "output_type": "execute_result"
    }
   ],
   "source": [
    "df = pd.DataFrame({'col1' : [4,5,6,7], 'col2' : [10,20,30,40], 'col3' : [100,50,-30,-50]})\n",
    "df"
   ]
  },
  {
   "cell_type": "code",
   "execution_count": 11,
   "id": "f0cfb690",
   "metadata": {},
   "outputs": [],
   "source": [
    "# Посмотреть документацию\n",
    "?pd.DataFrame"
   ]
  },
  {
   "cell_type": "markdown",
   "id": "ab0cdb7d",
   "metadata": {},
   "source": [
    "### Работа со строками и столбцами датафрейма"
   ]
  },
  {
   "cell_type": "markdown",
   "id": "16847c42",
   "metadata": {},
   "source": [
    "Как уже было сказано, датафрейм $-$ это таблица. Можно вывести названия строк (важно, так как иногда полезно в качестве названий строк выбрать какой-то столбец таблицы):"
   ]
  },
  {
   "cell_type": "code",
   "execution_count": 13,
   "id": "c33b336f",
   "metadata": {},
   "outputs": [
    {
     "data": {
      "text/plain": [
       "RangeIndex(start=0, stop=4, step=1)"
      ]
     },
     "execution_count": 13,
     "metadata": {},
     "output_type": "execute_result"
    }
   ],
   "source": [
    "df.index"
   ]
  },
  {
   "cell_type": "markdown",
   "id": "a8124bb9",
   "metadata": {},
   "source": [
    "Названия столбцов:"
   ]
  },
  {
   "cell_type": "code",
   "execution_count": 16,
   "id": "702e50c0",
   "metadata": {},
   "outputs": [
    {
     "data": {
      "text/plain": [
       "Index(['Unnamed: 0', 'date', 'comments', 'likes', 'text'], dtype='object')"
      ]
     },
     "execution_count": 16,
     "metadata": {},
     "output_type": "execute_result"
    }
   ],
   "source": [
    "data.columns"
   ]
  },
  {
   "cell_type": "markdown",
   "id": "6cf6b18c",
   "metadata": {},
   "source": [
    "Полезный функционал:\n",
    "\n",
    "* параметр df.dtypes $-$ типы колонок\n",
    "* метод df.fillna(value), value $-$ на что заменить (скаляр или словарь с ключами-названиями колонок)\n",
    "* методы df.head([N]) и df.tail([N]) $-$ показать N (необязательный аргумент) первых или последних значений\n",
    "* параметры df.index, df.columns и df.values $-$ соответственно индексы строк датафрейма, названия колонок и np.array, составленный из значений датафрейма\n",
    "* метод df.T $-$ транспонировать данные (поменять строки и столбцы местами)\n",
    "* сортировка данных по индексу (по названиям строк) и по значениям колонки, например df.sort_index(axis=1, ascending=False) и df.sort_values(by='B')\n",
    "* метод df.copy() $-$ копировать датафрейм\n",
    "\n",
    "Все структуры данных, показываемые и возвращаемые pandas, имеют тип, придуманный разработчиками pandas (а не стандартный для python список или словарь). Все эти типы имеют удобный интерфейс обращения к своим элементам (индексация, slicing), но иногда кажутся непривычными. Например, df[smth], как указано выше, должен выдать колонку, имеющую название smth (если она существует в датафрейме).\n",
    "\n",
    "В датафрейме могут храниться данные разных типов (главное, чтобы тип был один и тот же внутри колонки), например float, int, string."
   ]
  },
  {
   "cell_type": "markdown",
   "id": "8b7a5a00",
   "metadata": {},
   "source": [
    "Выбор одного столбца:"
   ]
  },
  {
   "cell_type": "code",
   "execution_count": 25,
   "id": "9303982f",
   "metadata": {},
   "outputs": [
    {
     "data": {
      "text/plain": [
       "0      18/10/2021\n",
       "1      18/10/2021\n",
       "2      17/10/2021\n",
       "3      17/10/2021\n",
       "4      17/10/2021\n",
       "          ...    \n",
       "195    04/08/2021\n",
       "196    04/08/2021\n",
       "197    04/08/2021\n",
       "198    03/08/2021\n",
       "199    03/08/2021\n",
       "Name: date, Length: 200, dtype: object"
      ]
     },
     "execution_count": 25,
     "metadata": {},
     "output_type": "execute_result"
    }
   ],
   "source": [
    "data['date']"
   ]
  },
  {
   "cell_type": "markdown",
   "id": "0c452520",
   "metadata": {},
   "source": [
    "Выбор нескольких столбцов:"
   ]
  },
  {
   "cell_type": "code",
   "execution_count": 24,
   "id": "25c144b4",
   "metadata": {},
   "outputs": [
    {
     "data": {
      "text/html": [
       "<div>\n",
       "<style scoped>\n",
       "    .dataframe tbody tr th:only-of-type {\n",
       "        vertical-align: middle;\n",
       "    }\n",
       "\n",
       "    .dataframe tbody tr th {\n",
       "        vertical-align: top;\n",
       "    }\n",
       "\n",
       "    .dataframe thead th {\n",
       "        text-align: right;\n",
       "    }\n",
       "</style>\n",
       "<table border=\"1\" class=\"dataframe\">\n",
       "  <thead>\n",
       "    <tr style=\"text-align: right;\">\n",
       "      <th></th>\n",
       "      <th>date</th>\n",
       "      <th>comments</th>\n",
       "      <th>likes</th>\n",
       "    </tr>\n",
       "  </thead>\n",
       "  <tbody>\n",
       "    <tr>\n",
       "      <th>0</th>\n",
       "      <td>18/10/2021</td>\n",
       "      <td>80</td>\n",
       "      <td>3425</td>\n",
       "    </tr>\n",
       "    <tr>\n",
       "      <th>1</th>\n",
       "      <td>18/10/2021</td>\n",
       "      <td>288</td>\n",
       "      <td>3235</td>\n",
       "    </tr>\n",
       "    <tr>\n",
       "      <th>2</th>\n",
       "      <td>17/10/2021</td>\n",
       "      <td>251</td>\n",
       "      <td>5028</td>\n",
       "    </tr>\n",
       "    <tr>\n",
       "      <th>3</th>\n",
       "      <td>17/10/2021</td>\n",
       "      <td>107</td>\n",
       "      <td>5806</td>\n",
       "    </tr>\n",
       "    <tr>\n",
       "      <th>4</th>\n",
       "      <td>17/10/2021</td>\n",
       "      <td>109</td>\n",
       "      <td>5728</td>\n",
       "    </tr>\n",
       "    <tr>\n",
       "      <th>...</th>\n",
       "      <td>...</td>\n",
       "      <td>...</td>\n",
       "      <td>...</td>\n",
       "    </tr>\n",
       "    <tr>\n",
       "      <th>195</th>\n",
       "      <td>04/08/2021</td>\n",
       "      <td>126</td>\n",
       "      <td>4783</td>\n",
       "    </tr>\n",
       "    <tr>\n",
       "      <th>196</th>\n",
       "      <td>04/08/2021</td>\n",
       "      <td>93</td>\n",
       "      <td>2802</td>\n",
       "    </tr>\n",
       "    <tr>\n",
       "      <th>197</th>\n",
       "      <td>04/08/2021</td>\n",
       "      <td>279</td>\n",
       "      <td>4310</td>\n",
       "    </tr>\n",
       "    <tr>\n",
       "      <th>198</th>\n",
       "      <td>03/08/2021</td>\n",
       "      <td>257</td>\n",
       "      <td>8337</td>\n",
       "    </tr>\n",
       "    <tr>\n",
       "      <th>199</th>\n",
       "      <td>03/08/2021</td>\n",
       "      <td>1283</td>\n",
       "      <td>3731</td>\n",
       "    </tr>\n",
       "  </tbody>\n",
       "</table>\n",
       "<p>200 rows × 3 columns</p>\n",
       "</div>"
      ],
      "text/plain": [
       "           date  comments  likes\n",
       "0    18/10/2021        80   3425\n",
       "1    18/10/2021       288   3235\n",
       "2    17/10/2021       251   5028\n",
       "3    17/10/2021       107   5806\n",
       "4    17/10/2021       109   5728\n",
       "..          ...       ...    ...\n",
       "195  04/08/2021       126   4783\n",
       "196  04/08/2021        93   2802\n",
       "197  04/08/2021       279   4310\n",
       "198  03/08/2021       257   8337\n",
       "199  03/08/2021      1283   3731\n",
       "\n",
       "[200 rows x 3 columns]"
      ]
     },
     "execution_count": 24,
     "metadata": {},
     "output_type": "execute_result"
    }
   ],
   "source": [
    "data[['date', 'comments', 'likes']]"
   ]
  },
  {
   "cell_type": "markdown",
   "id": "00e467e3",
   "metadata": {},
   "source": [
    "Другой способ выбирать столбцы:"
   ]
  },
  {
   "cell_type": "code",
   "execution_count": 26,
   "id": "cff7cb36",
   "metadata": {},
   "outputs": [
    {
     "data": {
      "text/plain": [
       "0      18/10/2021\n",
       "1      18/10/2021\n",
       "2      17/10/2021\n",
       "3      17/10/2021\n",
       "4      17/10/2021\n",
       "          ...    \n",
       "195    04/08/2021\n",
       "196    04/08/2021\n",
       "197    04/08/2021\n",
       "198    03/08/2021\n",
       "199    03/08/2021\n",
       "Name: date, Length: 200, dtype: object"
      ]
     },
     "execution_count": 26,
     "metadata": {},
     "output_type": "execute_result"
    }
   ],
   "source": [
    "data.date"
   ]
  },
  {
   "cell_type": "markdown",
   "id": "cdfd7677",
   "metadata": {},
   "source": [
    "Тип данных в столбцах:"
   ]
  },
  {
   "cell_type": "code",
   "execution_count": 27,
   "id": "4d425cdc",
   "metadata": {},
   "outputs": [
    {
     "data": {
      "text/plain": [
       "Unnamed: 0     int64\n",
       "date          object\n",
       "comments       int64\n",
       "likes          int64\n",
       "text          object\n",
       "dtype: object"
      ]
     },
     "execution_count": 27,
     "metadata": {},
     "output_type": "execute_result"
    }
   ],
   "source": [
    "data.dtypes"
   ]
  },
  {
   "cell_type": "markdown",
   "id": "2ba2fc15",
   "metadata": {},
   "source": [
    "Если мы бы хотели выделить часть датафрейма без какого-либо столбца, мы бы использовали такой код:\n",
    "Например, для того, чтобы обучить модель на данных, не используя целевую переменную, очевидно"
   ]
  },
  {
   "cell_type": "code",
   "execution_count": 31,
   "id": "79496d48",
   "metadata": {},
   "outputs": [
    {
     "data": {
      "text/html": [
       "<div>\n",
       "<style scoped>\n",
       "    .dataframe tbody tr th:only-of-type {\n",
       "        vertical-align: middle;\n",
       "    }\n",
       "\n",
       "    .dataframe tbody tr th {\n",
       "        vertical-align: top;\n",
       "    }\n",
       "\n",
       "    .dataframe thead th {\n",
       "        text-align: right;\n",
       "    }\n",
       "</style>\n",
       "<table border=\"1\" class=\"dataframe\">\n",
       "  <thead>\n",
       "    <tr style=\"text-align: right;\">\n",
       "      <th></th>\n",
       "      <th>Unnamed: 0</th>\n",
       "      <th>date</th>\n",
       "      <th>comments</th>\n",
       "      <th>likes</th>\n",
       "      <th>text</th>\n",
       "    </tr>\n",
       "  </thead>\n",
       "  <tbody>\n",
       "    <tr>\n",
       "      <th>0</th>\n",
       "      <td>0</td>\n",
       "      <td>18/10/2021</td>\n",
       "      <td>80</td>\n",
       "      <td>3425</td>\n",
       "      <td>Анализируя клавиатурный почерк сотрудников, ра...</td>\n",
       "    </tr>\n",
       "    <tr>\n",
       "      <th>1</th>\n",
       "      <td>1</td>\n",
       "      <td>18/10/2021</td>\n",
       "      <td>288</td>\n",
       "      <td>3235</td>\n",
       "      <td>Электронные паспорта россиянам будут выдавать ...</td>\n",
       "    </tr>\n",
       "    <tr>\n",
       "      <th>2</th>\n",
       "      <td>2</td>\n",
       "      <td>17/10/2021</td>\n",
       "      <td>251</td>\n",
       "      <td>5028</td>\n",
       "      <td>Рыбы ранимые, а со Скорпионами лучше не связыв...</td>\n",
       "    </tr>\n",
       "    <tr>\n",
       "      <th>3</th>\n",
       "      <td>3</td>\n",
       "      <td>17/10/2021</td>\n",
       "      <td>107</td>\n",
       "      <td>5806</td>\n",
       "      <td>В Керчи открыли мемориал в память о жертвах тр...</td>\n",
       "    </tr>\n",
       "    <tr>\n",
       "      <th>4</th>\n",
       "      <td>4</td>\n",
       "      <td>17/10/2021</td>\n",
       "      <td>109</td>\n",
       "      <td>5728</td>\n",
       "      <td>Рут Порат встретила «черный понедельник» 1987 ...</td>\n",
       "    </tr>\n",
       "    <tr>\n",
       "      <th>...</th>\n",
       "      <td>...</td>\n",
       "      <td>...</td>\n",
       "      <td>...</td>\n",
       "      <td>...</td>\n",
       "      <td>...</td>\n",
       "    </tr>\n",
       "    <tr>\n",
       "      <th>195</th>\n",
       "      <td>195</td>\n",
       "      <td>04/08/2021</td>\n",
       "      <td>126</td>\n",
       "      <td>4783</td>\n",
       "      <td>Многие заманчивые инвестиционные предложения —...</td>\n",
       "    </tr>\n",
       "    <tr>\n",
       "      <th>196</th>\n",
       "      <td>196</td>\n",
       "      <td>04/08/2021</td>\n",
       "      <td>93</td>\n",
       "      <td>2802</td>\n",
       "      <td>Новости под заголовком «Британцы раскритиковал...</td>\n",
       "    </tr>\n",
       "    <tr>\n",
       "      <th>197</th>\n",
       "      <td>197</td>\n",
       "      <td>04/08/2021</td>\n",
       "      <td>279</td>\n",
       "      <td>4310</td>\n",
       "      <td>После повышения ключевой ставки Банка России с...</td>\n",
       "    </tr>\n",
       "    <tr>\n",
       "      <th>198</th>\n",
       "      <td>198</td>\n",
       "      <td>03/08/2021</td>\n",
       "      <td>257</td>\n",
       "      <td>8337</td>\n",
       "      <td>UPD: Дизайнера проекта Метро 2030 зовут Конста...</td>\n",
       "    </tr>\n",
       "    <tr>\n",
       "      <th>199</th>\n",
       "      <td>199</td>\n",
       "      <td>03/08/2021</td>\n",
       "      <td>1283</td>\n",
       "      <td>3731</td>\n",
       "      <td>Главврач больницы № 40 в Коммунарке Денис Проц...</td>\n",
       "    </tr>\n",
       "  </tbody>\n",
       "</table>\n",
       "<p>200 rows × 5 columns</p>\n",
       "</div>"
      ],
      "text/plain": [
       "     Unnamed: 0        date  comments  likes  \\\n",
       "0             0  18/10/2021        80   3425   \n",
       "1             1  18/10/2021       288   3235   \n",
       "2             2  17/10/2021       251   5028   \n",
       "3             3  17/10/2021       107   5806   \n",
       "4             4  17/10/2021       109   5728   \n",
       "..          ...         ...       ...    ...   \n",
       "195         195  04/08/2021       126   4783   \n",
       "196         196  04/08/2021        93   2802   \n",
       "197         197  04/08/2021       279   4310   \n",
       "198         198  03/08/2021       257   8337   \n",
       "199         199  03/08/2021      1283   3731   \n",
       "\n",
       "                                                  text  \n",
       "0    Анализируя клавиатурный почерк сотрудников, ра...  \n",
       "1    Электронные паспорта россиянам будут выдавать ...  \n",
       "2    Рыбы ранимые, а со Скорпионами лучше не связыв...  \n",
       "3    В Керчи открыли мемориал в память о жертвах тр...  \n",
       "4    Рут Порат встретила «черный понедельник» 1987 ...  \n",
       "..                                                 ...  \n",
       "195  Многие заманчивые инвестиционные предложения —...  \n",
       "196  Новости под заголовком «Британцы раскритиковал...  \n",
       "197  После повышения ключевой ставки Банка России с...  \n",
       "198  UPD: Дизайнера проекта Метро 2030 зовут Конста...  \n",
       "199  Главврач больницы № 40 в Коммунарке Денис Проц...  \n",
       "\n",
       "[200 rows x 5 columns]"
      ]
     },
     "execution_count": 31,
     "metadata": {},
     "output_type": "execute_result"
    }
   ],
   "source": [
    "data"
   ]
  },
  {
   "cell_type": "code",
   "execution_count": 36,
   "id": "1d4ec175",
   "metadata": {},
   "outputs": [
    {
     "data": {
      "text/html": [
       "<div>\n",
       "<style scoped>\n",
       "    .dataframe tbody tr th:only-of-type {\n",
       "        vertical-align: middle;\n",
       "    }\n",
       "\n",
       "    .dataframe tbody tr th {\n",
       "        vertical-align: top;\n",
       "    }\n",
       "\n",
       "    .dataframe thead th {\n",
       "        text-align: right;\n",
       "    }\n",
       "</style>\n",
       "<table border=\"1\" class=\"dataframe\">\n",
       "  <thead>\n",
       "    <tr style=\"text-align: right;\">\n",
       "      <th></th>\n",
       "      <th>date</th>\n",
       "      <th>comments</th>\n",
       "      <th>likes</th>\n",
       "      <th>text</th>\n",
       "    </tr>\n",
       "  </thead>\n",
       "  <tbody>\n",
       "    <tr>\n",
       "      <th>0</th>\n",
       "      <td>18/10/2021</td>\n",
       "      <td>80</td>\n",
       "      <td>3425</td>\n",
       "      <td>Анализируя клавиатурный почерк сотрудников, ра...</td>\n",
       "    </tr>\n",
       "    <tr>\n",
       "      <th>1</th>\n",
       "      <td>18/10/2021</td>\n",
       "      <td>288</td>\n",
       "      <td>3235</td>\n",
       "      <td>Электронные паспорта россиянам будут выдавать ...</td>\n",
       "    </tr>\n",
       "    <tr>\n",
       "      <th>2</th>\n",
       "      <td>17/10/2021</td>\n",
       "      <td>251</td>\n",
       "      <td>5028</td>\n",
       "      <td>Рыбы ранимые, а со Скорпионами лучше не связыв...</td>\n",
       "    </tr>\n",
       "    <tr>\n",
       "      <th>3</th>\n",
       "      <td>17/10/2021</td>\n",
       "      <td>107</td>\n",
       "      <td>5806</td>\n",
       "      <td>В Керчи открыли мемориал в память о жертвах тр...</td>\n",
       "    </tr>\n",
       "    <tr>\n",
       "      <th>4</th>\n",
       "      <td>17/10/2021</td>\n",
       "      <td>109</td>\n",
       "      <td>5728</td>\n",
       "      <td>Рут Порат встретила «черный понедельник» 1987 ...</td>\n",
       "    </tr>\n",
       "  </tbody>\n",
       "</table>\n",
       "</div>"
      ],
      "text/plain": [
       "         date  comments  likes  \\\n",
       "0  18/10/2021        80   3425   \n",
       "1  18/10/2021       288   3235   \n",
       "2  17/10/2021       251   5028   \n",
       "3  17/10/2021       107   5806   \n",
       "4  17/10/2021       109   5728   \n",
       "\n",
       "                                                text  \n",
       "0  Анализируя клавиатурный почерк сотрудников, ра...  \n",
       "1  Электронные паспорта россиянам будут выдавать ...  \n",
       "2  Рыбы ранимые, а со Скорпионами лучше не связыв...  \n",
       "3  В Керчи открыли мемориал в память о жертвах тр...  \n",
       "4  Рут Порат встретила «черный понедельник» 1987 ...  "
      ]
     },
     "execution_count": 36,
     "metadata": {},
     "output_type": "execute_result"
    }
   ],
   "source": [
    "data.drop('Unnamed: 0', axis = 1).head()"
   ]
  },
  {
   "cell_type": "markdown",
   "id": "201047ae",
   "metadata": {},
   "source": [
    "Обратите внимание, что столбец не удалился из датафрейма навсегда. Наоборот, результат нашей операции записан в выводе, и если бы мы хотели его сохранить, мы должны были бы присвоить результат операции новой переменной.\n",
    "Например, вот так:"
   ]
  },
  {
   "cell_type": "code",
   "execution_count": 37,
   "id": "cb11b1c2",
   "metadata": {},
   "outputs": [],
   "source": [
    "data_without_text = data.drop('text', axis = 1).head()"
   ]
  },
  {
   "cell_type": "code",
   "execution_count": 38,
   "id": "a612177b",
   "metadata": {},
   "outputs": [
    {
     "data": {
      "text/html": [
       "<div>\n",
       "<style scoped>\n",
       "    .dataframe tbody tr th:only-of-type {\n",
       "        vertical-align: middle;\n",
       "    }\n",
       "\n",
       "    .dataframe tbody tr th {\n",
       "        vertical-align: top;\n",
       "    }\n",
       "\n",
       "    .dataframe thead th {\n",
       "        text-align: right;\n",
       "    }\n",
       "</style>\n",
       "<table border=\"1\" class=\"dataframe\">\n",
       "  <thead>\n",
       "    <tr style=\"text-align: right;\">\n",
       "      <th></th>\n",
       "      <th>Unnamed: 0</th>\n",
       "      <th>date</th>\n",
       "      <th>comments</th>\n",
       "      <th>likes</th>\n",
       "    </tr>\n",
       "  </thead>\n",
       "  <tbody>\n",
       "    <tr>\n",
       "      <th>0</th>\n",
       "      <td>0</td>\n",
       "      <td>18/10/2021</td>\n",
       "      <td>80</td>\n",
       "      <td>3425</td>\n",
       "    </tr>\n",
       "    <tr>\n",
       "      <th>1</th>\n",
       "      <td>1</td>\n",
       "      <td>18/10/2021</td>\n",
       "      <td>288</td>\n",
       "      <td>3235</td>\n",
       "    </tr>\n",
       "    <tr>\n",
       "      <th>2</th>\n",
       "      <td>2</td>\n",
       "      <td>17/10/2021</td>\n",
       "      <td>251</td>\n",
       "      <td>5028</td>\n",
       "    </tr>\n",
       "    <tr>\n",
       "      <th>3</th>\n",
       "      <td>3</td>\n",
       "      <td>17/10/2021</td>\n",
       "      <td>107</td>\n",
       "      <td>5806</td>\n",
       "    </tr>\n",
       "    <tr>\n",
       "      <th>4</th>\n",
       "      <td>4</td>\n",
       "      <td>17/10/2021</td>\n",
       "      <td>109</td>\n",
       "      <td>5728</td>\n",
       "    </tr>\n",
       "  </tbody>\n",
       "</table>\n",
       "</div>"
      ],
      "text/plain": [
       "   Unnamed: 0        date  comments  likes\n",
       "0           0  18/10/2021        80   3425\n",
       "1           1  18/10/2021       288   3235\n",
       "2           2  17/10/2021       251   5028\n",
       "3           3  17/10/2021       107   5806\n",
       "4           4  17/10/2021       109   5728"
      ]
     },
     "execution_count": 38,
     "metadata": {},
     "output_type": "execute_result"
    }
   ],
   "source": [
    "data_without_text.head()"
   ]
  },
  {
   "cell_type": "code",
   "execution_count": 40,
   "id": "e46dc695",
   "metadata": {},
   "outputs": [
    {
     "data": {
      "text/html": [
       "<div>\n",
       "<style scoped>\n",
       "    .dataframe tbody tr th:only-of-type {\n",
       "        vertical-align: middle;\n",
       "    }\n",
       "\n",
       "    .dataframe tbody tr th {\n",
       "        vertical-align: top;\n",
       "    }\n",
       "\n",
       "    .dataframe thead th {\n",
       "        text-align: right;\n",
       "    }\n",
       "</style>\n",
       "<table border=\"1\" class=\"dataframe\">\n",
       "  <thead>\n",
       "    <tr style=\"text-align: right;\">\n",
       "      <th></th>\n",
       "      <th>Unnamed: 0</th>\n",
       "      <th>date</th>\n",
       "      <th>comments</th>\n",
       "      <th>likes</th>\n",
       "      <th>text</th>\n",
       "    </tr>\n",
       "  </thead>\n",
       "  <tbody>\n",
       "    <tr>\n",
       "      <th>0</th>\n",
       "      <td>0</td>\n",
       "      <td>18/10/2021</td>\n",
       "      <td>80</td>\n",
       "      <td>3425</td>\n",
       "      <td>Анализируя клавиатурный почерк сотрудников, ра...</td>\n",
       "    </tr>\n",
       "    <tr>\n",
       "      <th>1</th>\n",
       "      <td>1</td>\n",
       "      <td>18/10/2021</td>\n",
       "      <td>288</td>\n",
       "      <td>3235</td>\n",
       "      <td>Электронные паспорта россиянам будут выдавать ...</td>\n",
       "    </tr>\n",
       "    <tr>\n",
       "      <th>2</th>\n",
       "      <td>2</td>\n",
       "      <td>17/10/2021</td>\n",
       "      <td>251</td>\n",
       "      <td>5028</td>\n",
       "      <td>Рыбы ранимые, а со Скорпионами лучше не связыв...</td>\n",
       "    </tr>\n",
       "    <tr>\n",
       "      <th>3</th>\n",
       "      <td>3</td>\n",
       "      <td>17/10/2021</td>\n",
       "      <td>107</td>\n",
       "      <td>5806</td>\n",
       "      <td>В Керчи открыли мемориал в память о жертвах тр...</td>\n",
       "    </tr>\n",
       "    <tr>\n",
       "      <th>4</th>\n",
       "      <td>4</td>\n",
       "      <td>17/10/2021</td>\n",
       "      <td>109</td>\n",
       "      <td>5728</td>\n",
       "      <td>Рут Порат встретила «черный понедельник» 1987 ...</td>\n",
       "    </tr>\n",
       "    <tr>\n",
       "      <th>...</th>\n",
       "      <td>...</td>\n",
       "      <td>...</td>\n",
       "      <td>...</td>\n",
       "      <td>...</td>\n",
       "      <td>...</td>\n",
       "    </tr>\n",
       "    <tr>\n",
       "      <th>195</th>\n",
       "      <td>195</td>\n",
       "      <td>04/08/2021</td>\n",
       "      <td>126</td>\n",
       "      <td>4783</td>\n",
       "      <td>Многие заманчивые инвестиционные предложения —...</td>\n",
       "    </tr>\n",
       "    <tr>\n",
       "      <th>196</th>\n",
       "      <td>196</td>\n",
       "      <td>04/08/2021</td>\n",
       "      <td>93</td>\n",
       "      <td>2802</td>\n",
       "      <td>Новости под заголовком «Британцы раскритиковал...</td>\n",
       "    </tr>\n",
       "    <tr>\n",
       "      <th>197</th>\n",
       "      <td>197</td>\n",
       "      <td>04/08/2021</td>\n",
       "      <td>279</td>\n",
       "      <td>4310</td>\n",
       "      <td>После повышения ключевой ставки Банка России с...</td>\n",
       "    </tr>\n",
       "    <tr>\n",
       "      <th>198</th>\n",
       "      <td>198</td>\n",
       "      <td>03/08/2021</td>\n",
       "      <td>257</td>\n",
       "      <td>8337</td>\n",
       "      <td>UPD: Дизайнера проекта Метро 2030 зовут Конста...</td>\n",
       "    </tr>\n",
       "    <tr>\n",
       "      <th>199</th>\n",
       "      <td>199</td>\n",
       "      <td>03/08/2021</td>\n",
       "      <td>1283</td>\n",
       "      <td>3731</td>\n",
       "      <td>Главврач больницы № 40 в Коммунарке Денис Проц...</td>\n",
       "    </tr>\n",
       "  </tbody>\n",
       "</table>\n",
       "<p>200 rows × 5 columns</p>\n",
       "</div>"
      ],
      "text/plain": [
       "     Unnamed: 0        date  comments  likes  \\\n",
       "0             0  18/10/2021        80   3425   \n",
       "1             1  18/10/2021       288   3235   \n",
       "2             2  17/10/2021       251   5028   \n",
       "3             3  17/10/2021       107   5806   \n",
       "4             4  17/10/2021       109   5728   \n",
       "..          ...         ...       ...    ...   \n",
       "195         195  04/08/2021       126   4783   \n",
       "196         196  04/08/2021        93   2802   \n",
       "197         197  04/08/2021       279   4310   \n",
       "198         198  03/08/2021       257   8337   \n",
       "199         199  03/08/2021      1283   3731   \n",
       "\n",
       "                                                  text  \n",
       "0    Анализируя клавиатурный почерк сотрудников, ра...  \n",
       "1    Электронные паспорта россиянам будут выдавать ...  \n",
       "2    Рыбы ранимые, а со Скорпионами лучше не связыв...  \n",
       "3    В Керчи открыли мемориал в память о жертвах тр...  \n",
       "4    Рут Порат встретила «черный понедельник» 1987 ...  \n",
       "..                                                 ...  \n",
       "195  Многие заманчивые инвестиционные предложения —...  \n",
       "196  Новости под заголовком «Британцы раскритиковал...  \n",
       "197  После повышения ключевой ставки Банка России с...  \n",
       "198  UPD: Дизайнера проекта Метро 2030 зовут Конста...  \n",
       "199  Главврач больницы № 40 в Коммунарке Денис Проц...  \n",
       "\n",
       "[200 rows x 5 columns]"
      ]
     },
     "execution_count": 40,
     "metadata": {},
     "output_type": "execute_result"
    }
   ],
   "source": [
    "data"
   ]
  },
  {
   "cell_type": "markdown",
   "id": "9585e014",
   "metadata": {},
   "source": [
    "Как можно видеть, столбец не удалился из исходной таблицы, как уже было сказано, однако, в новой таблице его нет, поскольку мы так прописали в коде"
   ]
  },
  {
   "cell_type": "markdown",
   "id": "ce8e255f",
   "metadata": {},
   "source": [
    "Индексация по строкам (схоже с обычной индексацией в Python):"
   ]
  },
  {
   "cell_type": "code",
   "execution_count": 42,
   "id": "8bf8beba",
   "metadata": {},
   "outputs": [
    {
     "data": {
      "text/html": [
       "<div>\n",
       "<style scoped>\n",
       "    .dataframe tbody tr th:only-of-type {\n",
       "        vertical-align: middle;\n",
       "    }\n",
       "\n",
       "    .dataframe tbody tr th {\n",
       "        vertical-align: top;\n",
       "    }\n",
       "\n",
       "    .dataframe thead th {\n",
       "        text-align: right;\n",
       "    }\n",
       "</style>\n",
       "<table border=\"1\" class=\"dataframe\">\n",
       "  <thead>\n",
       "    <tr style=\"text-align: right;\">\n",
       "      <th></th>\n",
       "      <th>Unnamed: 0</th>\n",
       "      <th>date</th>\n",
       "      <th>comments</th>\n",
       "      <th>likes</th>\n",
       "      <th>text</th>\n",
       "    </tr>\n",
       "  </thead>\n",
       "  <tbody>\n",
       "    <tr>\n",
       "      <th>0</th>\n",
       "      <td>0</td>\n",
       "      <td>18/10/2021</td>\n",
       "      <td>80</td>\n",
       "      <td>3425</td>\n",
       "      <td>Анализируя клавиатурный почерк сотрудников, ра...</td>\n",
       "    </tr>\n",
       "    <tr>\n",
       "      <th>1</th>\n",
       "      <td>1</td>\n",
       "      <td>18/10/2021</td>\n",
       "      <td>288</td>\n",
       "      <td>3235</td>\n",
       "      <td>Электронные паспорта россиянам будут выдавать ...</td>\n",
       "    </tr>\n",
       "    <tr>\n",
       "      <th>2</th>\n",
       "      <td>2</td>\n",
       "      <td>17/10/2021</td>\n",
       "      <td>251</td>\n",
       "      <td>5028</td>\n",
       "      <td>Рыбы ранимые, а со Скорпионами лучше не связыв...</td>\n",
       "    </tr>\n",
       "    <tr>\n",
       "      <th>3</th>\n",
       "      <td>3</td>\n",
       "      <td>17/10/2021</td>\n",
       "      <td>107</td>\n",
       "      <td>5806</td>\n",
       "      <td>В Керчи открыли мемориал в память о жертвах тр...</td>\n",
       "    </tr>\n",
       "    <tr>\n",
       "      <th>4</th>\n",
       "      <td>4</td>\n",
       "      <td>17/10/2021</td>\n",
       "      <td>109</td>\n",
       "      <td>5728</td>\n",
       "      <td>Рут Порат встретила «черный понедельник» 1987 ...</td>\n",
       "    </tr>\n",
       "    <tr>\n",
       "      <th>5</th>\n",
       "      <td>5</td>\n",
       "      <td>16/10/2021</td>\n",
       "      <td>43</td>\n",
       "      <td>3843</td>\n",
       "      <td>Одна из классификаций предпринимателей предлаг...</td>\n",
       "    </tr>\n",
       "    <tr>\n",
       "      <th>6</th>\n",
       "      <td>6</td>\n",
       "      <td>15/10/2021</td>\n",
       "      <td>59</td>\n",
       "      <td>3498</td>\n",
       "      <td>Стивен Хокинг считал, что черные дыры — это по...</td>\n",
       "    </tr>\n",
       "    <tr>\n",
       "      <th>7</th>\n",
       "      <td>7</td>\n",
       "      <td>14/10/2021</td>\n",
       "      <td>402</td>\n",
       "      <td>10893</td>\n",
       "      <td>С момента выхода «Игры в кальмара» прошел меся...</td>\n",
       "    </tr>\n",
       "  </tbody>\n",
       "</table>\n",
       "</div>"
      ],
      "text/plain": [
       "   Unnamed: 0        date  comments  likes  \\\n",
       "0           0  18/10/2021        80   3425   \n",
       "1           1  18/10/2021       288   3235   \n",
       "2           2  17/10/2021       251   5028   \n",
       "3           3  17/10/2021       107   5806   \n",
       "4           4  17/10/2021       109   5728   \n",
       "5           5  16/10/2021        43   3843   \n",
       "6           6  15/10/2021        59   3498   \n",
       "7           7  14/10/2021       402  10893   \n",
       "\n",
       "                                                text  \n",
       "0  Анализируя клавиатурный почерк сотрудников, ра...  \n",
       "1  Электронные паспорта россиянам будут выдавать ...  \n",
       "2  Рыбы ранимые, а со Скорпионами лучше не связыв...  \n",
       "3  В Керчи открыли мемориал в память о жертвах тр...  \n",
       "4  Рут Порат встретила «черный понедельник» 1987 ...  \n",
       "5  Одна из классификаций предпринимателей предлаг...  \n",
       "6  Стивен Хокинг считал, что черные дыры — это по...  \n",
       "7  С момента выхода «Игры в кальмара» прошел меся...  "
      ]
     },
     "execution_count": 42,
     "metadata": {},
     "output_type": "execute_result"
    }
   ],
   "source": [
    "data.iloc[0:7 + 1]"
   ]
  },
  {
   "cell_type": "markdown",
   "id": "0a68ab3b",
   "metadata": {},
   "source": [
    "То есть мы вывели с нулевого наблюдения по седьмое, не включая его"
   ]
  },
  {
   "cell_type": "code",
   "execution_count": 43,
   "id": "9cb94294",
   "metadata": {},
   "outputs": [
    {
     "data": {
      "text/plain": [
       "0    0\n",
       "1    1\n",
       "2    2\n",
       "3    3\n",
       "4    4\n",
       "5    5\n",
       "6    6\n",
       "Name: Unnamed: 0, dtype: int64"
      ]
     },
     "execution_count": 43,
     "metadata": {},
     "output_type": "execute_result"
    }
   ],
   "source": [
    "#индексы как числа\n",
    "data.iloc[0:7, 0]"
   ]
  },
  {
   "cell_type": "markdown",
   "id": "d71edf2f",
   "metadata": {},
   "source": [
    "__Задание__\n",
    "\n",
    "Выведите только четные строки, написав условие в квадратных скобках, используя метод ___index___"
   ]
  },
  {
   "cell_type": "code",
   "execution_count": 45,
   "id": "2763c241",
   "metadata": {},
   "outputs": [
    {
     "data": {
      "text/plain": [
       "array([ True, False,  True, False,  True, False,  True, False,  True,\n",
       "       False,  True, False,  True, False,  True, False,  True, False,\n",
       "        True, False,  True, False,  True, False,  True, False,  True,\n",
       "       False,  True, False,  True, False,  True, False,  True, False,\n",
       "        True, False,  True, False,  True, False,  True, False,  True,\n",
       "       False,  True, False,  True, False,  True, False,  True, False,\n",
       "        True, False,  True, False,  True, False,  True, False,  True,\n",
       "       False,  True, False,  True, False,  True, False,  True, False,\n",
       "        True, False,  True, False,  True, False,  True, False,  True,\n",
       "       False,  True, False,  True, False,  True, False,  True, False,\n",
       "        True, False,  True, False,  True, False,  True, False,  True,\n",
       "       False,  True, False,  True, False,  True, False,  True, False,\n",
       "        True, False,  True, False,  True, False,  True, False,  True,\n",
       "       False,  True, False,  True, False,  True, False,  True, False,\n",
       "        True, False,  True, False,  True, False,  True, False,  True,\n",
       "       False,  True, False,  True, False,  True, False,  True, False,\n",
       "        True, False,  True, False,  True, False,  True, False,  True,\n",
       "       False,  True, False,  True, False,  True, False,  True, False,\n",
       "        True, False,  True, False,  True, False,  True, False,  True,\n",
       "       False,  True, False,  True, False,  True, False,  True, False,\n",
       "        True, False,  True, False,  True, False,  True, False,  True,\n",
       "       False,  True, False,  True, False,  True, False,  True, False,\n",
       "        True, False])"
      ]
     },
     "execution_count": 45,
     "metadata": {},
     "output_type": "execute_result"
    }
   ],
   "source": []
  },
  {
   "cell_type": "code",
   "execution_count": 46,
   "id": "75dc0be6",
   "metadata": {},
   "outputs": [
    {
     "data": {
      "text/html": [
       "<div>\n",
       "<style scoped>\n",
       "    .dataframe tbody tr th:only-of-type {\n",
       "        vertical-align: middle;\n",
       "    }\n",
       "\n",
       "    .dataframe tbody tr th {\n",
       "        vertical-align: top;\n",
       "    }\n",
       "\n",
       "    .dataframe thead th {\n",
       "        text-align: right;\n",
       "    }\n",
       "</style>\n",
       "<table border=\"1\" class=\"dataframe\">\n",
       "  <thead>\n",
       "    <tr style=\"text-align: right;\">\n",
       "      <th></th>\n",
       "      <th>Unnamed: 0</th>\n",
       "      <th>date</th>\n",
       "      <th>comments</th>\n",
       "      <th>likes</th>\n",
       "      <th>text</th>\n",
       "    </tr>\n",
       "  </thead>\n",
       "  <tbody>\n",
       "    <tr>\n",
       "      <th>0</th>\n",
       "      <td>0</td>\n",
       "      <td>18/10/2021</td>\n",
       "      <td>80</td>\n",
       "      <td>3425</td>\n",
       "      <td>Анализируя клавиатурный почерк сотрудников, ра...</td>\n",
       "    </tr>\n",
       "    <tr>\n",
       "      <th>2</th>\n",
       "      <td>2</td>\n",
       "      <td>17/10/2021</td>\n",
       "      <td>251</td>\n",
       "      <td>5028</td>\n",
       "      <td>Рыбы ранимые, а со Скорпионами лучше не связыв...</td>\n",
       "    </tr>\n",
       "    <tr>\n",
       "      <th>4</th>\n",
       "      <td>4</td>\n",
       "      <td>17/10/2021</td>\n",
       "      <td>109</td>\n",
       "      <td>5728</td>\n",
       "      <td>Рут Порат встретила «черный понедельник» 1987 ...</td>\n",
       "    </tr>\n",
       "    <tr>\n",
       "      <th>6</th>\n",
       "      <td>6</td>\n",
       "      <td>15/10/2021</td>\n",
       "      <td>59</td>\n",
       "      <td>3498</td>\n",
       "      <td>Стивен Хокинг считал, что черные дыры — это по...</td>\n",
       "    </tr>\n",
       "    <tr>\n",
       "      <th>8</th>\n",
       "      <td>8</td>\n",
       "      <td>14/10/2021</td>\n",
       "      <td>47</td>\n",
       "      <td>1962</td>\n",
       "      <td>Критика позволяет любому специалисту развивать...</td>\n",
       "    </tr>\n",
       "    <tr>\n",
       "      <th>...</th>\n",
       "      <td>...</td>\n",
       "      <td>...</td>\n",
       "      <td>...</td>\n",
       "      <td>...</td>\n",
       "      <td>...</td>\n",
       "    </tr>\n",
       "    <tr>\n",
       "      <th>190</th>\n",
       "      <td>190</td>\n",
       "      <td>06/08/2021</td>\n",
       "      <td>194</td>\n",
       "      <td>7227</td>\n",
       "      <td>Помните фото вяжущего спортсмена на Олимпийски...</td>\n",
       "    </tr>\n",
       "    <tr>\n",
       "      <th>192</th>\n",
       "      <td>192</td>\n",
       "      <td>05/08/2021</td>\n",
       "      <td>60</td>\n",
       "      <td>3772</td>\n",
       "      <td>Надеть на голову маску и потребовать деньги — ...</td>\n",
       "    </tr>\n",
       "    <tr>\n",
       "      <th>194</th>\n",
       "      <td>194</td>\n",
       "      <td>04/08/2021</td>\n",
       "      <td>286</td>\n",
       "      <td>4212</td>\n",
       "      <td>🐝</td>\n",
       "    </tr>\n",
       "    <tr>\n",
       "      <th>196</th>\n",
       "      <td>196</td>\n",
       "      <td>04/08/2021</td>\n",
       "      <td>93</td>\n",
       "      <td>2802</td>\n",
       "      <td>Новости под заголовком «Британцы раскритиковал...</td>\n",
       "    </tr>\n",
       "    <tr>\n",
       "      <th>198</th>\n",
       "      <td>198</td>\n",
       "      <td>03/08/2021</td>\n",
       "      <td>257</td>\n",
       "      <td>8337</td>\n",
       "      <td>UPD: Дизайнера проекта Метро 2030 зовут Конста...</td>\n",
       "    </tr>\n",
       "  </tbody>\n",
       "</table>\n",
       "<p>100 rows × 5 columns</p>\n",
       "</div>"
      ],
      "text/plain": [
       "     Unnamed: 0        date  comments  likes  \\\n",
       "0             0  18/10/2021        80   3425   \n",
       "2             2  17/10/2021       251   5028   \n",
       "4             4  17/10/2021       109   5728   \n",
       "6             6  15/10/2021        59   3498   \n",
       "8             8  14/10/2021        47   1962   \n",
       "..          ...         ...       ...    ...   \n",
       "190         190  06/08/2021       194   7227   \n",
       "192         192  05/08/2021        60   3772   \n",
       "194         194  04/08/2021       286   4212   \n",
       "196         196  04/08/2021        93   2802   \n",
       "198         198  03/08/2021       257   8337   \n",
       "\n",
       "                                                  text  \n",
       "0    Анализируя клавиатурный почерк сотрудников, ра...  \n",
       "2    Рыбы ранимые, а со Скорпионами лучше не связыв...  \n",
       "4    Рут Порат встретила «черный понедельник» 1987 ...  \n",
       "6    Стивен Хокинг считал, что черные дыры — это по...  \n",
       "8    Критика позволяет любому специалисту развивать...  \n",
       "..                                                 ...  \n",
       "190  Помните фото вяжущего спортсмена на Олимпийски...  \n",
       "192  Надеть на голову маску и потребовать деньги — ...  \n",
       "194                                                  🐝  \n",
       "196  Новости под заголовком «Британцы раскритиковал...  \n",
       "198  UPD: Дизайнера проекта Метро 2030 зовут Конста...  \n",
       "\n",
       "[100 rows x 5 columns]"
      ]
     },
     "execution_count": 46,
     "metadata": {},
     "output_type": "execute_result"
    }
   ],
   "source": [
    "#заготовка\n",
    "data_only_even = data.iloc[data.index % 2 == 0]\n",
    "data_only_even"
   ]
  },
  {
   "cell_type": "markdown",
   "id": "342abed9",
   "metadata": {},
   "source": [
    "В качестве примера используем какой-то столбец для задания названий строк:\n",
    "Будем использовать копию нашего изначального датафрейма, чтобы не менять его"
   ]
  },
  {
   "cell_type": "code",
   "execution_count": 47,
   "id": "cde1a86d",
   "metadata": {},
   "outputs": [
    {
     "data": {
      "text/html": [
       "<div>\n",
       "<style scoped>\n",
       "    .dataframe tbody tr th:only-of-type {\n",
       "        vertical-align: middle;\n",
       "    }\n",
       "\n",
       "    .dataframe tbody tr th {\n",
       "        vertical-align: top;\n",
       "    }\n",
       "\n",
       "    .dataframe thead th {\n",
       "        text-align: right;\n",
       "    }\n",
       "</style>\n",
       "<table border=\"1\" class=\"dataframe\">\n",
       "  <thead>\n",
       "    <tr style=\"text-align: right;\">\n",
       "      <th></th>\n",
       "      <th>Unnamed: 0</th>\n",
       "      <th>date</th>\n",
       "      <th>comments</th>\n",
       "      <th>likes</th>\n",
       "      <th>text</th>\n",
       "    </tr>\n",
       "    <tr>\n",
       "      <th>date</th>\n",
       "      <th></th>\n",
       "      <th></th>\n",
       "      <th></th>\n",
       "      <th></th>\n",
       "      <th></th>\n",
       "    </tr>\n",
       "  </thead>\n",
       "  <tbody>\n",
       "    <tr>\n",
       "      <th>18/10/2021</th>\n",
       "      <td>0</td>\n",
       "      <td>18/10/2021</td>\n",
       "      <td>80</td>\n",
       "      <td>3425</td>\n",
       "      <td>Анализируя клавиатурный почерк сотрудников, ра...</td>\n",
       "    </tr>\n",
       "    <tr>\n",
       "      <th>18/10/2021</th>\n",
       "      <td>1</td>\n",
       "      <td>18/10/2021</td>\n",
       "      <td>288</td>\n",
       "      <td>3235</td>\n",
       "      <td>Электронные паспорта россиянам будут выдавать ...</td>\n",
       "    </tr>\n",
       "    <tr>\n",
       "      <th>17/10/2021</th>\n",
       "      <td>2</td>\n",
       "      <td>17/10/2021</td>\n",
       "      <td>251</td>\n",
       "      <td>5028</td>\n",
       "      <td>Рыбы ранимые, а со Скорпионами лучше не связыв...</td>\n",
       "    </tr>\n",
       "    <tr>\n",
       "      <th>17/10/2021</th>\n",
       "      <td>3</td>\n",
       "      <td>17/10/2021</td>\n",
       "      <td>107</td>\n",
       "      <td>5806</td>\n",
       "      <td>В Керчи открыли мемориал в память о жертвах тр...</td>\n",
       "    </tr>\n",
       "    <tr>\n",
       "      <th>17/10/2021</th>\n",
       "      <td>4</td>\n",
       "      <td>17/10/2021</td>\n",
       "      <td>109</td>\n",
       "      <td>5728</td>\n",
       "      <td>Рут Порат встретила «черный понедельник» 1987 ...</td>\n",
       "    </tr>\n",
       "  </tbody>\n",
       "</table>\n",
       "</div>"
      ],
      "text/plain": [
       "            Unnamed: 0        date  comments  likes  \\\n",
       "date                                                  \n",
       "18/10/2021           0  18/10/2021        80   3425   \n",
       "18/10/2021           1  18/10/2021       288   3235   \n",
       "17/10/2021           2  17/10/2021       251   5028   \n",
       "17/10/2021           3  17/10/2021       107   5806   \n",
       "17/10/2021           4  17/10/2021       109   5728   \n",
       "\n",
       "                                                         text  \n",
       "date                                                           \n",
       "18/10/2021  Анализируя клавиатурный почерк сотрудников, ра...  \n",
       "18/10/2021  Электронные паспорта россиянам будут выдавать ...  \n",
       "17/10/2021  Рыбы ранимые, а со Скорпионами лучше не связыв...  \n",
       "17/10/2021  В Керчи открыли мемориал в память о жертвах тр...  \n",
       "17/10/2021  Рут Порат встретила «черный понедельник» 1987 ...  "
      ]
     },
     "execution_count": 47,
     "metadata": {},
     "output_type": "execute_result"
    }
   ],
   "source": [
    "data_c = data.copy()\n",
    "data_c.set_index(data[\"date\"], inplace=True)\n",
    "data_c.head()"
   ]
  },
  {
   "cell_type": "markdown",
   "id": "b4e58fee",
   "metadata": {},
   "source": [
    "Теперь строки индексируются с помощью ___date___ (выделено жирным в начале каждой строки)"
   ]
  },
  {
   "cell_type": "markdown",
   "id": "0404e710",
   "metadata": {},
   "source": [
    "__Задание__\n",
    "\n",
    "Создайте небользой датасет с помощью ___pd.DataFrame___ и сделайте так, чтобы строки индексировались любым из столбцов вашего нового датафрейма"
   ]
  },
  {
   "cell_type": "code",
   "execution_count": 54,
   "id": "475871bc",
   "metadata": {},
   "outputs": [],
   "source": [
    "df = pd.DataFrame({'col1' : [4,5,6,7], 'col2' : [10,20,30,40], 'col3' : [100,50,-30,-50]})\n",
    "df = df.set_index(df['col1'])"
   ]
  },
  {
   "cell_type": "code",
   "execution_count": 56,
   "id": "be2e10d3",
   "metadata": {},
   "outputs": [
    {
     "data": {
      "text/html": [
       "<div>\n",
       "<style scoped>\n",
       "    .dataframe tbody tr th:only-of-type {\n",
       "        vertical-align: middle;\n",
       "    }\n",
       "\n",
       "    .dataframe tbody tr th {\n",
       "        vertical-align: top;\n",
       "    }\n",
       "\n",
       "    .dataframe thead th {\n",
       "        text-align: right;\n",
       "    }\n",
       "</style>\n",
       "<table border=\"1\" class=\"dataframe\">\n",
       "  <thead>\n",
       "    <tr style=\"text-align: right;\">\n",
       "      <th></th>\n",
       "      <th>col2</th>\n",
       "      <th>col3</th>\n",
       "    </tr>\n",
       "    <tr>\n",
       "      <th>col1</th>\n",
       "      <th></th>\n",
       "      <th></th>\n",
       "    </tr>\n",
       "  </thead>\n",
       "  <tbody>\n",
       "    <tr>\n",
       "      <th>4</th>\n",
       "      <td>10</td>\n",
       "      <td>100</td>\n",
       "    </tr>\n",
       "    <tr>\n",
       "      <th>5</th>\n",
       "      <td>20</td>\n",
       "      <td>50</td>\n",
       "    </tr>\n",
       "    <tr>\n",
       "      <th>6</th>\n",
       "      <td>30</td>\n",
       "      <td>-30</td>\n",
       "    </tr>\n",
       "    <tr>\n",
       "      <th>7</th>\n",
       "      <td>40</td>\n",
       "      <td>-50</td>\n",
       "    </tr>\n",
       "  </tbody>\n",
       "</table>\n",
       "</div>"
      ],
      "text/plain": [
       "      col2  col3\n",
       "col1            \n",
       "4       10   100\n",
       "5       20    50\n",
       "6       30   -30\n",
       "7       40   -50"
      ]
     },
     "execution_count": 56,
     "metadata": {},
     "output_type": "execute_result"
    }
   ],
   "source": [
    "df.drop('col1', axis=1)"
   ]
  },
  {
   "cell_type": "markdown",
   "id": "cf985d0d",
   "metadata": {},
   "source": [
    "### Анализ и преобразование датафрейма"
   ]
  },
  {
   "cell_type": "markdown",
   "id": "80868570",
   "metadata": {},
   "source": [
    "Основная информация по датафрейму:\n"
   ]
  },
  {
   "cell_type": "code",
   "execution_count": 58,
   "id": "b6b8bd4f",
   "metadata": {},
   "outputs": [
    {
     "data": {
      "text/html": [
       "<div>\n",
       "<style scoped>\n",
       "    .dataframe tbody tr th:only-of-type {\n",
       "        vertical-align: middle;\n",
       "    }\n",
       "\n",
       "    .dataframe tbody tr th {\n",
       "        vertical-align: top;\n",
       "    }\n",
       "\n",
       "    .dataframe thead th {\n",
       "        text-align: right;\n",
       "    }\n",
       "</style>\n",
       "<table border=\"1\" class=\"dataframe\">\n",
       "  <thead>\n",
       "    <tr style=\"text-align: right;\">\n",
       "      <th></th>\n",
       "      <th>Unnamed: 0</th>\n",
       "      <th>date</th>\n",
       "      <th>comments</th>\n",
       "      <th>likes</th>\n",
       "      <th>text</th>\n",
       "    </tr>\n",
       "  </thead>\n",
       "  <tbody>\n",
       "    <tr>\n",
       "      <th>0</th>\n",
       "      <td>0</td>\n",
       "      <td>18/10/2021</td>\n",
       "      <td>80</td>\n",
       "      <td>3425</td>\n",
       "      <td>Анализируя клавиатурный почерк сотрудников, ра...</td>\n",
       "    </tr>\n",
       "    <tr>\n",
       "      <th>1</th>\n",
       "      <td>1</td>\n",
       "      <td>18/10/2021</td>\n",
       "      <td>288</td>\n",
       "      <td>3235</td>\n",
       "      <td>Электронные паспорта россиянам будут выдавать ...</td>\n",
       "    </tr>\n",
       "    <tr>\n",
       "      <th>2</th>\n",
       "      <td>2</td>\n",
       "      <td>17/10/2021</td>\n",
       "      <td>251</td>\n",
       "      <td>5028</td>\n",
       "      <td>Рыбы ранимые, а со Скорпионами лучше не связыв...</td>\n",
       "    </tr>\n",
       "    <tr>\n",
       "      <th>3</th>\n",
       "      <td>3</td>\n",
       "      <td>17/10/2021</td>\n",
       "      <td>107</td>\n",
       "      <td>5806</td>\n",
       "      <td>В Керчи открыли мемориал в память о жертвах тр...</td>\n",
       "    </tr>\n",
       "    <tr>\n",
       "      <th>4</th>\n",
       "      <td>4</td>\n",
       "      <td>17/10/2021</td>\n",
       "      <td>109</td>\n",
       "      <td>5728</td>\n",
       "      <td>Рут Порат встретила «черный понедельник» 1987 ...</td>\n",
       "    </tr>\n",
       "    <tr>\n",
       "      <th>...</th>\n",
       "      <td>...</td>\n",
       "      <td>...</td>\n",
       "      <td>...</td>\n",
       "      <td>...</td>\n",
       "      <td>...</td>\n",
       "    </tr>\n",
       "    <tr>\n",
       "      <th>195</th>\n",
       "      <td>195</td>\n",
       "      <td>04/08/2021</td>\n",
       "      <td>126</td>\n",
       "      <td>4783</td>\n",
       "      <td>Многие заманчивые инвестиционные предложения —...</td>\n",
       "    </tr>\n",
       "    <tr>\n",
       "      <th>196</th>\n",
       "      <td>196</td>\n",
       "      <td>04/08/2021</td>\n",
       "      <td>93</td>\n",
       "      <td>2802</td>\n",
       "      <td>Новости под заголовком «Британцы раскритиковал...</td>\n",
       "    </tr>\n",
       "    <tr>\n",
       "      <th>197</th>\n",
       "      <td>197</td>\n",
       "      <td>04/08/2021</td>\n",
       "      <td>279</td>\n",
       "      <td>4310</td>\n",
       "      <td>После повышения ключевой ставки Банка России с...</td>\n",
       "    </tr>\n",
       "    <tr>\n",
       "      <th>198</th>\n",
       "      <td>198</td>\n",
       "      <td>03/08/2021</td>\n",
       "      <td>257</td>\n",
       "      <td>8337</td>\n",
       "      <td>UPD: Дизайнера проекта Метро 2030 зовут Конста...</td>\n",
       "    </tr>\n",
       "    <tr>\n",
       "      <th>199</th>\n",
       "      <td>199</td>\n",
       "      <td>03/08/2021</td>\n",
       "      <td>1283</td>\n",
       "      <td>3731</td>\n",
       "      <td>Главврач больницы № 40 в Коммунарке Денис Проц...</td>\n",
       "    </tr>\n",
       "  </tbody>\n",
       "</table>\n",
       "<p>200 rows × 5 columns</p>\n",
       "</div>"
      ],
      "text/plain": [
       "     Unnamed: 0        date  comments  likes  \\\n",
       "0             0  18/10/2021        80   3425   \n",
       "1             1  18/10/2021       288   3235   \n",
       "2             2  17/10/2021       251   5028   \n",
       "3             3  17/10/2021       107   5806   \n",
       "4             4  17/10/2021       109   5728   \n",
       "..          ...         ...       ...    ...   \n",
       "195         195  04/08/2021       126   4783   \n",
       "196         196  04/08/2021        93   2802   \n",
       "197         197  04/08/2021       279   4310   \n",
       "198         198  03/08/2021       257   8337   \n",
       "199         199  03/08/2021      1283   3731   \n",
       "\n",
       "                                                  text  \n",
       "0    Анализируя клавиатурный почерк сотрудников, ра...  \n",
       "1    Электронные паспорта россиянам будут выдавать ...  \n",
       "2    Рыбы ранимые, а со Скорпионами лучше не связыв...  \n",
       "3    В Керчи открыли мемориал в память о жертвах тр...  \n",
       "4    Рут Порат встретила «черный понедельник» 1987 ...  \n",
       "..                                                 ...  \n",
       "195  Многие заманчивые инвестиционные предложения —...  \n",
       "196  Новости под заголовком «Британцы раскритиковал...  \n",
       "197  После повышения ключевой ставки Банка России с...  \n",
       "198  UPD: Дизайнера проекта Метро 2030 зовут Конста...  \n",
       "199  Главврач больницы № 40 в Коммунарке Денис Проц...  \n",
       "\n",
       "[200 rows x 5 columns]"
      ]
     },
     "execution_count": 58,
     "metadata": {},
     "output_type": "execute_result"
    }
   ],
   "source": [
    "data"
   ]
  },
  {
   "cell_type": "code",
   "execution_count": 61,
   "id": "4447d586",
   "metadata": {},
   "outputs": [
    {
     "data": {
      "text/html": [
       "<div>\n",
       "<style scoped>\n",
       "    .dataframe tbody tr th:only-of-type {\n",
       "        vertical-align: middle;\n",
       "    }\n",
       "\n",
       "    .dataframe tbody tr th {\n",
       "        vertical-align: top;\n",
       "    }\n",
       "\n",
       "    .dataframe thead th {\n",
       "        text-align: right;\n",
       "    }\n",
       "</style>\n",
       "<table border=\"1\" class=\"dataframe\">\n",
       "  <thead>\n",
       "    <tr style=\"text-align: right;\">\n",
       "      <th></th>\n",
       "      <th>comments</th>\n",
       "      <th>likes</th>\n",
       "    </tr>\n",
       "  </thead>\n",
       "  <tbody>\n",
       "    <tr>\n",
       "      <th>count</th>\n",
       "      <td>200.000000</td>\n",
       "      <td>200.000000</td>\n",
       "    </tr>\n",
       "    <tr>\n",
       "      <th>mean</th>\n",
       "      <td>230.525000</td>\n",
       "      <td>5850.270000</td>\n",
       "    </tr>\n",
       "    <tr>\n",
       "      <th>std</th>\n",
       "      <td>275.662053</td>\n",
       "      <td>4130.661357</td>\n",
       "    </tr>\n",
       "    <tr>\n",
       "      <th>min</th>\n",
       "      <td>15.000000</td>\n",
       "      <td>697.000000</td>\n",
       "    </tr>\n",
       "    <tr>\n",
       "      <th>25%</th>\n",
       "      <td>68.750000</td>\n",
       "      <td>3076.500000</td>\n",
       "    </tr>\n",
       "    <tr>\n",
       "      <th>50%</th>\n",
       "      <td>138.000000</td>\n",
       "      <td>4566.500000</td>\n",
       "    </tr>\n",
       "    <tr>\n",
       "      <th>75%</th>\n",
       "      <td>284.500000</td>\n",
       "      <td>7199.500000</td>\n",
       "    </tr>\n",
       "    <tr>\n",
       "      <th>max</th>\n",
       "      <td>1748.000000</td>\n",
       "      <td>24232.000000</td>\n",
       "    </tr>\n",
       "  </tbody>\n",
       "</table>\n",
       "</div>"
      ],
      "text/plain": [
       "          comments         likes\n",
       "count   200.000000    200.000000\n",
       "mean    230.525000   5850.270000\n",
       "std     275.662053   4130.661357\n",
       "min      15.000000    697.000000\n",
       "25%      68.750000   3076.500000\n",
       "50%     138.000000   4566.500000\n",
       "75%     284.500000   7199.500000\n",
       "max    1748.000000  24232.000000"
      ]
     },
     "execution_count": 61,
     "metadata": {},
     "output_type": "execute_result"
    }
   ],
   "source": [
    "data.drop('Unnamed: 0', axis=1).describe()"
   ]
  },
  {
   "cell_type": "markdown",
   "id": "4bce082b",
   "metadata": {},
   "source": [
    "Обратите внимание, что в конце метода describe ставятся скобочки, попробуйте вывести без них :)\n",
    "\n",
    "Выводится количество значений, среднее значение по столбцу, СКО, минимальное значение, максимальное значение и квантилиь"
   ]
  },
  {
   "cell_type": "markdown",
   "id": "85e7a82e",
   "metadata": {},
   "source": [
    "Можем вывести уникальные значения в столбце:\n",
    "    "
   ]
  },
  {
   "cell_type": "code",
   "execution_count": 64,
   "id": "b651027b",
   "metadata": {},
   "outputs": [
    {
     "data": {
      "text/plain": [
       "0      18/10/2021\n",
       "1      18/10/2021\n",
       "2      17/10/2021\n",
       "3      17/10/2021\n",
       "4      17/10/2021\n",
       "          ...    \n",
       "195    04/08/2021\n",
       "196    04/08/2021\n",
       "197    04/08/2021\n",
       "198    03/08/2021\n",
       "199    03/08/2021\n",
       "Name: date, Length: 200, dtype: object"
      ]
     },
     "execution_count": 64,
     "metadata": {},
     "output_type": "execute_result"
    }
   ],
   "source": [
    "data['date']"
   ]
  },
  {
   "cell_type": "code",
   "execution_count": 65,
   "id": "e50adce4",
   "metadata": {},
   "outputs": [
    {
     "data": {
      "text/plain": [
       "{'01/09/2021',\n",
       " '01/10/2021',\n",
       " '02/09/2021',\n",
       " '02/10/2021',\n",
       " '03/08/2021',\n",
       " '03/09/2021',\n",
       " '03/10/2021',\n",
       " '04/08/2021',\n",
       " '04/09/2021',\n",
       " '04/10/2021',\n",
       " '05/08/2021',\n",
       " '05/09/2021',\n",
       " '05/10/2021',\n",
       " '06/08/2021',\n",
       " '06/09/2021',\n",
       " '06/10/2021',\n",
       " '07/08/2021',\n",
       " '07/09/2021',\n",
       " '07/10/2021',\n",
       " '08/08/2021',\n",
       " '08/09/2021',\n",
       " '08/10/2021',\n",
       " '09/08/2021',\n",
       " '09/09/2021',\n",
       " '09/10/2021',\n",
       " '10/08/2021',\n",
       " '10/09/2021',\n",
       " '10/10/2021',\n",
       " '11/08/2021',\n",
       " '11/09/2021',\n",
       " '11/10/2021',\n",
       " '12/08/2021',\n",
       " '12/09/2021',\n",
       " '12/10/2021',\n",
       " '13/08/2021',\n",
       " '13/09/2021',\n",
       " '13/10/2021',\n",
       " '14/08/2021',\n",
       " '14/09/2021',\n",
       " '14/10/2021',\n",
       " '15/08/2021',\n",
       " '15/09/2021',\n",
       " '15/10/2021',\n",
       " '16/08/2021',\n",
       " '16/09/2021',\n",
       " '16/10/2021',\n",
       " '17/08/2021',\n",
       " '17/09/2021',\n",
       " '17/10/2021',\n",
       " '18/08/2021',\n",
       " '18/09/2021',\n",
       " '18/10/2021',\n",
       " '19/08/2021',\n",
       " '19/09/2021',\n",
       " '20/08/2021',\n",
       " '20/09/2021',\n",
       " '21/08/2021',\n",
       " '21/09/2021',\n",
       " '22/08/2021',\n",
       " '22/09/2021',\n",
       " '23/08/2021',\n",
       " '23/09/2021',\n",
       " '24/08/2021',\n",
       " '24/09/2021',\n",
       " '25/08/2021',\n",
       " '25/09/2021',\n",
       " '26/08/2021',\n",
       " '26/09/2021',\n",
       " '27/08/2021',\n",
       " '27/09/2021',\n",
       " '28/08/2021',\n",
       " '28/09/2021',\n",
       " '29/08/2021',\n",
       " '29/09/2021',\n",
       " '30/08/2021',\n",
       " '30/09/2021',\n",
       " '31/08/2021'}"
      ]
     },
     "execution_count": 65,
     "metadata": {},
     "output_type": "execute_result"
    }
   ],
   "source": [
    "set(data['date'])"
   ]
  },
  {
   "cell_type": "markdown",
   "id": "1d302178",
   "metadata": {},
   "source": [
    "Или вот так:\n"
   ]
  },
  {
   "cell_type": "code",
   "execution_count": 68,
   "id": "5f2282da",
   "metadata": {},
   "outputs": [
    {
     "data": {
      "text/plain": [
       "77"
      ]
     },
     "execution_count": 68,
     "metadata": {},
     "output_type": "execute_result"
    }
   ],
   "source": [
    "len(data['date'].unique())"
   ]
  },
  {
   "cell_type": "markdown",
   "id": "19511e93",
   "metadata": {},
   "source": [
    "Уникальные значения в столбце с числом строк с таким значением:"
   ]
  },
  {
   "cell_type": "code",
   "execution_count": 67,
   "id": "6c9ec1da",
   "metadata": {},
   "outputs": [
    {
     "data": {
      "text/plain": [
       "24/09/2021    5\n",
       "10/08/2021    5\n",
       "04/08/2021    4\n",
       "02/09/2021    4\n",
       "21/09/2021    4\n",
       "             ..\n",
       "12/09/2021    1\n",
       "05/09/2021    1\n",
       "28/08/2021    1\n",
       "15/10/2021    1\n",
       "16/10/2021    1\n",
       "Name: date, Length: 77, dtype: int64"
      ]
     },
     "execution_count": 67,
     "metadata": {},
     "output_type": "execute_result"
    }
   ],
   "source": [
    "data['date'].value_counts()"
   ]
  },
  {
   "cell_type": "markdown",
   "id": "b3f642fa",
   "metadata": {},
   "source": [
    "\n",
    "Функция apply: применение функции поэлементно к столбцу или строке (+ создание нового столбца, потому что apply возвращает результат и никак не модифицирует датафрейм)\n",
    "\n",
    "Сделаем нумерацию наблюдений с единицы а не с нуля:"
   ]
  },
  {
   "cell_type": "code",
   "execution_count": 69,
   "id": "1e180224",
   "metadata": {},
   "outputs": [],
   "source": [
    "def func(x):\n",
    "    return x+1   "
   ]
  },
  {
   "cell_type": "code",
   "execution_count": 70,
   "id": "e5edbfea",
   "metadata": {},
   "outputs": [
    {
     "data": {
      "text/html": [
       "<div>\n",
       "<style scoped>\n",
       "    .dataframe tbody tr th:only-of-type {\n",
       "        vertical-align: middle;\n",
       "    }\n",
       "\n",
       "    .dataframe tbody tr th {\n",
       "        vertical-align: top;\n",
       "    }\n",
       "\n",
       "    .dataframe thead th {\n",
       "        text-align: right;\n",
       "    }\n",
       "</style>\n",
       "<table border=\"1\" class=\"dataframe\">\n",
       "  <thead>\n",
       "    <tr style=\"text-align: right;\">\n",
       "      <th></th>\n",
       "      <th>Unnamed: 0</th>\n",
       "      <th>date</th>\n",
       "      <th>comments</th>\n",
       "      <th>likes</th>\n",
       "      <th>text</th>\n",
       "    </tr>\n",
       "  </thead>\n",
       "  <tbody>\n",
       "    <tr>\n",
       "      <th>0</th>\n",
       "      <td>0</td>\n",
       "      <td>18/10/2021</td>\n",
       "      <td>80</td>\n",
       "      <td>3425</td>\n",
       "      <td>Анализируя клавиатурный почерк сотрудников, ра...</td>\n",
       "    </tr>\n",
       "    <tr>\n",
       "      <th>1</th>\n",
       "      <td>1</td>\n",
       "      <td>18/10/2021</td>\n",
       "      <td>288</td>\n",
       "      <td>3235</td>\n",
       "      <td>Электронные паспорта россиянам будут выдавать ...</td>\n",
       "    </tr>\n",
       "    <tr>\n",
       "      <th>2</th>\n",
       "      <td>2</td>\n",
       "      <td>17/10/2021</td>\n",
       "      <td>251</td>\n",
       "      <td>5028</td>\n",
       "      <td>Рыбы ранимые, а со Скорпионами лучше не связыв...</td>\n",
       "    </tr>\n",
       "    <tr>\n",
       "      <th>3</th>\n",
       "      <td>3</td>\n",
       "      <td>17/10/2021</td>\n",
       "      <td>107</td>\n",
       "      <td>5806</td>\n",
       "      <td>В Керчи открыли мемориал в память о жертвах тр...</td>\n",
       "    </tr>\n",
       "    <tr>\n",
       "      <th>4</th>\n",
       "      <td>4</td>\n",
       "      <td>17/10/2021</td>\n",
       "      <td>109</td>\n",
       "      <td>5728</td>\n",
       "      <td>Рут Порат встретила «черный понедельник» 1987 ...</td>\n",
       "    </tr>\n",
       "    <tr>\n",
       "      <th>...</th>\n",
       "      <td>...</td>\n",
       "      <td>...</td>\n",
       "      <td>...</td>\n",
       "      <td>...</td>\n",
       "      <td>...</td>\n",
       "    </tr>\n",
       "    <tr>\n",
       "      <th>195</th>\n",
       "      <td>195</td>\n",
       "      <td>04/08/2021</td>\n",
       "      <td>126</td>\n",
       "      <td>4783</td>\n",
       "      <td>Многие заманчивые инвестиционные предложения —...</td>\n",
       "    </tr>\n",
       "    <tr>\n",
       "      <th>196</th>\n",
       "      <td>196</td>\n",
       "      <td>04/08/2021</td>\n",
       "      <td>93</td>\n",
       "      <td>2802</td>\n",
       "      <td>Новости под заголовком «Британцы раскритиковал...</td>\n",
       "    </tr>\n",
       "    <tr>\n",
       "      <th>197</th>\n",
       "      <td>197</td>\n",
       "      <td>04/08/2021</td>\n",
       "      <td>279</td>\n",
       "      <td>4310</td>\n",
       "      <td>После повышения ключевой ставки Банка России с...</td>\n",
       "    </tr>\n",
       "    <tr>\n",
       "      <th>198</th>\n",
       "      <td>198</td>\n",
       "      <td>03/08/2021</td>\n",
       "      <td>257</td>\n",
       "      <td>8337</td>\n",
       "      <td>UPD: Дизайнера проекта Метро 2030 зовут Конста...</td>\n",
       "    </tr>\n",
       "    <tr>\n",
       "      <th>199</th>\n",
       "      <td>199</td>\n",
       "      <td>03/08/2021</td>\n",
       "      <td>1283</td>\n",
       "      <td>3731</td>\n",
       "      <td>Главврач больницы № 40 в Коммунарке Денис Проц...</td>\n",
       "    </tr>\n",
       "  </tbody>\n",
       "</table>\n",
       "<p>200 rows × 5 columns</p>\n",
       "</div>"
      ],
      "text/plain": [
       "     Unnamed: 0        date  comments  likes  \\\n",
       "0             0  18/10/2021        80   3425   \n",
       "1             1  18/10/2021       288   3235   \n",
       "2             2  17/10/2021       251   5028   \n",
       "3             3  17/10/2021       107   5806   \n",
       "4             4  17/10/2021       109   5728   \n",
       "..          ...         ...       ...    ...   \n",
       "195         195  04/08/2021       126   4783   \n",
       "196         196  04/08/2021        93   2802   \n",
       "197         197  04/08/2021       279   4310   \n",
       "198         198  03/08/2021       257   8337   \n",
       "199         199  03/08/2021      1283   3731   \n",
       "\n",
       "                                                  text  \n",
       "0    Анализируя клавиатурный почерк сотрудников, ра...  \n",
       "1    Электронные паспорта россиянам будут выдавать ...  \n",
       "2    Рыбы ранимые, а со Скорпионами лучше не связыв...  \n",
       "3    В Керчи открыли мемориал в память о жертвах тр...  \n",
       "4    Рут Порат встретила «черный понедельник» 1987 ...  \n",
       "..                                                 ...  \n",
       "195  Многие заманчивые инвестиционные предложения —...  \n",
       "196  Новости под заголовком «Британцы раскритиковал...  \n",
       "197  После повышения ключевой ставки Банка России с...  \n",
       "198  UPD: Дизайнера проекта Метро 2030 зовут Конста...  \n",
       "199  Главврач больницы № 40 в Коммунарке Денис Проц...  \n",
       "\n",
       "[200 rows x 5 columns]"
      ]
     },
     "execution_count": 70,
     "metadata": {},
     "output_type": "execute_result"
    }
   ],
   "source": [
    "data"
   ]
  },
  {
   "cell_type": "code",
   "execution_count": 71,
   "id": "46942218",
   "metadata": {},
   "outputs": [],
   "source": [
    "data['Number'] = data['Unnamed: 0'].apply(lambda x: x+1)"
   ]
  },
  {
   "cell_type": "code",
   "execution_count": 73,
   "id": "26289d79",
   "metadata": {},
   "outputs": [],
   "source": [
    "data['Number2'] = data['Unnamed: 0'] + 1 "
   ]
  },
  {
   "cell_type": "code",
   "execution_count": 76,
   "id": "8b61fe93",
   "metadata": {},
   "outputs": [
    {
     "data": {
      "text/plain": [
       "0      3426\n",
       "1      3237\n",
       "2      5031\n",
       "3      5810\n",
       "4      5733\n",
       "       ... \n",
       "195    4979\n",
       "196    2999\n",
       "197    4508\n",
       "198    8536\n",
       "199    3931\n",
       "Length: 200, dtype: int64"
      ]
     },
     "execution_count": 76,
     "metadata": {},
     "output_type": "execute_result"
    }
   ],
   "source": [
    "data['Number2'] + data['likes']"
   ]
  },
  {
   "cell_type": "markdown",
   "id": "eabd4fec",
   "metadata": {},
   "source": [
    "Сделаем индексацию строк с помощью столбца Number и удалим столбец Unnamed"
   ]
  },
  {
   "cell_type": "code",
   "execution_count": 77,
   "id": "deec3557",
   "metadata": {},
   "outputs": [
    {
     "data": {
      "text/html": [
       "<div>\n",
       "<style scoped>\n",
       "    .dataframe tbody tr th:only-of-type {\n",
       "        vertical-align: middle;\n",
       "    }\n",
       "\n",
       "    .dataframe tbody tr th {\n",
       "        vertical-align: top;\n",
       "    }\n",
       "\n",
       "    .dataframe thead th {\n",
       "        text-align: right;\n",
       "    }\n",
       "</style>\n",
       "<table border=\"1\" class=\"dataframe\">\n",
       "  <thead>\n",
       "    <tr style=\"text-align: right;\">\n",
       "      <th></th>\n",
       "      <th>date</th>\n",
       "      <th>comments</th>\n",
       "      <th>likes</th>\n",
       "      <th>text</th>\n",
       "      <th>Number</th>\n",
       "      <th>Number2</th>\n",
       "    </tr>\n",
       "    <tr>\n",
       "      <th>Number</th>\n",
       "      <th></th>\n",
       "      <th></th>\n",
       "      <th></th>\n",
       "      <th></th>\n",
       "      <th></th>\n",
       "      <th></th>\n",
       "    </tr>\n",
       "  </thead>\n",
       "  <tbody>\n",
       "    <tr>\n",
       "      <th>1</th>\n",
       "      <td>18/10/2021</td>\n",
       "      <td>80</td>\n",
       "      <td>3425</td>\n",
       "      <td>Анализируя клавиатурный почерк сотрудников, ра...</td>\n",
       "      <td>1</td>\n",
       "      <td>1</td>\n",
       "    </tr>\n",
       "    <tr>\n",
       "      <th>2</th>\n",
       "      <td>18/10/2021</td>\n",
       "      <td>288</td>\n",
       "      <td>3235</td>\n",
       "      <td>Электронные паспорта россиянам будут выдавать ...</td>\n",
       "      <td>2</td>\n",
       "      <td>2</td>\n",
       "    </tr>\n",
       "    <tr>\n",
       "      <th>3</th>\n",
       "      <td>17/10/2021</td>\n",
       "      <td>251</td>\n",
       "      <td>5028</td>\n",
       "      <td>Рыбы ранимые, а со Скорпионами лучше не связыв...</td>\n",
       "      <td>3</td>\n",
       "      <td>3</td>\n",
       "    </tr>\n",
       "    <tr>\n",
       "      <th>4</th>\n",
       "      <td>17/10/2021</td>\n",
       "      <td>107</td>\n",
       "      <td>5806</td>\n",
       "      <td>В Керчи открыли мемориал в память о жертвах тр...</td>\n",
       "      <td>4</td>\n",
       "      <td>4</td>\n",
       "    </tr>\n",
       "    <tr>\n",
       "      <th>5</th>\n",
       "      <td>17/10/2021</td>\n",
       "      <td>109</td>\n",
       "      <td>5728</td>\n",
       "      <td>Рут Порат встретила «черный понедельник» 1987 ...</td>\n",
       "      <td>5</td>\n",
       "      <td>5</td>\n",
       "    </tr>\n",
       "    <tr>\n",
       "      <th>...</th>\n",
       "      <td>...</td>\n",
       "      <td>...</td>\n",
       "      <td>...</td>\n",
       "      <td>...</td>\n",
       "      <td>...</td>\n",
       "      <td>...</td>\n",
       "    </tr>\n",
       "    <tr>\n",
       "      <th>196</th>\n",
       "      <td>04/08/2021</td>\n",
       "      <td>126</td>\n",
       "      <td>4783</td>\n",
       "      <td>Многие заманчивые инвестиционные предложения —...</td>\n",
       "      <td>196</td>\n",
       "      <td>196</td>\n",
       "    </tr>\n",
       "    <tr>\n",
       "      <th>197</th>\n",
       "      <td>04/08/2021</td>\n",
       "      <td>93</td>\n",
       "      <td>2802</td>\n",
       "      <td>Новости под заголовком «Британцы раскритиковал...</td>\n",
       "      <td>197</td>\n",
       "      <td>197</td>\n",
       "    </tr>\n",
       "    <tr>\n",
       "      <th>198</th>\n",
       "      <td>04/08/2021</td>\n",
       "      <td>279</td>\n",
       "      <td>4310</td>\n",
       "      <td>После повышения ключевой ставки Банка России с...</td>\n",
       "      <td>198</td>\n",
       "      <td>198</td>\n",
       "    </tr>\n",
       "    <tr>\n",
       "      <th>199</th>\n",
       "      <td>03/08/2021</td>\n",
       "      <td>257</td>\n",
       "      <td>8337</td>\n",
       "      <td>UPD: Дизайнера проекта Метро 2030 зовут Конста...</td>\n",
       "      <td>199</td>\n",
       "      <td>199</td>\n",
       "    </tr>\n",
       "    <tr>\n",
       "      <th>200</th>\n",
       "      <td>03/08/2021</td>\n",
       "      <td>1283</td>\n",
       "      <td>3731</td>\n",
       "      <td>Главврач больницы № 40 в Коммунарке Денис Проц...</td>\n",
       "      <td>200</td>\n",
       "      <td>200</td>\n",
       "    </tr>\n",
       "  </tbody>\n",
       "</table>\n",
       "<p>200 rows × 6 columns</p>\n",
       "</div>"
      ],
      "text/plain": [
       "              date  comments  likes  \\\n",
       "Number                                \n",
       "1       18/10/2021        80   3425   \n",
       "2       18/10/2021       288   3235   \n",
       "3       17/10/2021       251   5028   \n",
       "4       17/10/2021       107   5806   \n",
       "5       17/10/2021       109   5728   \n",
       "...            ...       ...    ...   \n",
       "196     04/08/2021       126   4783   \n",
       "197     04/08/2021        93   2802   \n",
       "198     04/08/2021       279   4310   \n",
       "199     03/08/2021       257   8337   \n",
       "200     03/08/2021      1283   3731   \n",
       "\n",
       "                                                     text  Number  Number2  \n",
       "Number                                                                      \n",
       "1       Анализируя клавиатурный почерк сотрудников, ра...       1        1  \n",
       "2       Электронные паспорта россиянам будут выдавать ...       2        2  \n",
       "3       Рыбы ранимые, а со Скорпионами лучше не связыв...       3        3  \n",
       "4       В Керчи открыли мемориал в память о жертвах тр...       4        4  \n",
       "5       Рут Порат встретила «черный понедельник» 1987 ...       5        5  \n",
       "...                                                   ...     ...      ...  \n",
       "196     Многие заманчивые инвестиционные предложения —...     196      196  \n",
       "197     Новости под заголовком «Британцы раскритиковал...     197      197  \n",
       "198     После повышения ключевой ставки Банка России с...     198      198  \n",
       "199     UPD: Дизайнера проекта Метро 2030 зовут Конста...     199      199  \n",
       "200     Главврач больницы № 40 в Коммунарке Денис Проц...     200      200  \n",
       "\n",
       "[200 rows x 6 columns]"
      ]
     },
     "execution_count": 77,
     "metadata": {},
     "output_type": "execute_result"
    }
   ],
   "source": [
    "data.set_index(data[\"Number\"], inplace=True)\n",
    "data.drop('Unnamed: 0', axis = 1)"
   ]
  },
  {
   "cell_type": "markdown",
   "id": "286420bc",
   "metadata": {},
   "source": [
    "Красота!"
   ]
  },
  {
   "cell_type": "markdown",
   "id": "21e206da",
   "metadata": {},
   "source": [
    "Функция ___groupby___: создание групп по значению какого-то столбца (или группы столбцов)\n",
    "\n",
    "Например выведем среднее значение лайков по датам постов"
   ]
  },
  {
   "cell_type": "code",
   "execution_count": 81,
   "id": "187194d3",
   "metadata": {},
   "outputs": [
    {
     "data": {
      "text/plain": [
       "date\n",
       "01/09/2021    3473.500000\n",
       "01/10/2021    5386.500000\n",
       "02/09/2021    6057.750000\n",
       "02/10/2021    4820.000000\n",
       "03/08/2021    6034.000000\n",
       "                 ...     \n",
       "29/08/2021    3751.500000\n",
       "29/09/2021    4524.000000\n",
       "30/08/2021    7309.666667\n",
       "30/09/2021    4067.000000\n",
       "31/08/2021    5869.500000\n",
       "Name: likes, Length: 77, dtype: float64"
      ]
     },
     "execution_count": 81,
     "metadata": {},
     "output_type": "execute_result"
    }
   ],
   "source": [
    "data.groupby('date')['likes'].mean()"
   ]
  },
  {
   "cell_type": "code",
   "execution_count": null,
   "id": "08a84617",
   "metadata": {},
   "outputs": [],
   "source": [
    "data.groupby('date')['likes'].mean()"
   ]
  },
  {
   "cell_type": "code",
   "execution_count": 83,
   "id": "a33e4fbe",
   "metadata": {},
   "outputs": [
    {
     "data": {
      "text/plain": [
       "date\n",
       "01/09/2021     265\n",
       "01/10/2021     318\n",
       "02/09/2021     504\n",
       "02/10/2021      90\n",
       "03/08/2021    1283\n",
       "              ... \n",
       "29/08/2021      84\n",
       "29/09/2021     136\n",
       "30/08/2021    1389\n",
       "30/09/2021     301\n",
       "31/08/2021     290\n",
       "Name: comments, Length: 77, dtype: int64"
      ]
     },
     "execution_count": 83,
     "metadata": {},
     "output_type": "execute_result"
    }
   ],
   "source": [
    "data.groupby('date')['comments'].max()"
   ]
  },
  {
   "cell_type": "code",
   "execution_count": 84,
   "id": "d28c3e11",
   "metadata": {},
   "outputs": [
    {
     "data": {
      "text/plain": [
       "date\n",
       "01/09/2021     3863\n",
       "01/10/2021    11075\n",
       "02/09/2021     7328\n",
       "02/10/2021     4820\n",
       "03/08/2021     8337\n",
       "              ...  \n",
       "29/08/2021     3760\n",
       "29/09/2021     5908\n",
       "30/08/2021    11741\n",
       "30/09/2021     5167\n",
       "31/08/2021     9924\n",
       "Name: likes, Length: 77, dtype: int64"
      ]
     },
     "execution_count": 84,
     "metadata": {},
     "output_type": "execute_result"
    }
   ],
   "source": [
    "#Можно сделать с помощью функции:\n",
    "\n",
    "data.groupby('date')['likes'].apply(lambda x: x.max())"
   ]
  },
  {
   "cell_type": "markdown",
   "id": "dbf0c959",
   "metadata": {},
   "source": [
    "__Задание__ \n",
    "\n",
    "Выведите сумму комментариев за каждый день "
   ]
  },
  {
   "cell_type": "code",
   "execution_count": 86,
   "id": "a2893168",
   "metadata": {},
   "outputs": [
    {
     "data": {
      "text/plain": [
       "date\n",
       "01/09/2021     326\n",
       "01/10/2021     612\n",
       "02/09/2021    1143\n",
       "02/10/2021      90\n",
       "03/08/2021    1540\n",
       "              ... \n",
       "29/08/2021     147\n",
       "29/09/2021     206\n",
       "30/08/2021    1743\n",
       "30/09/2021     493\n",
       "31/08/2021     317\n",
       "Name: comments, Length: 77, dtype: int64"
      ]
     },
     "execution_count": 86,
     "metadata": {},
     "output_type": "execute_result"
    }
   ],
   "source": [
    "#Напишите свой код здесь\n",
    "data.groupby('date')['comments'].sum()\n",
    "\n"
   ]
  },
  {
   "cell_type": "markdown",
   "id": "f20f5eee",
   "metadata": {},
   "source": [
    "Сколько было дней, когда сумма лайков за посты за день превышало 10000?"
   ]
  },
  {
   "cell_type": "code",
   "execution_count": 89,
   "id": "e520ea41",
   "metadata": {},
   "outputs": [
    {
     "data": {
      "text/plain": [
       "55"
      ]
     },
     "execution_count": 89,
     "metadata": {},
     "output_type": "execute_result"
    }
   ],
   "source": [
    "(data.groupby('date')['likes'].sum() > 10000).sum()"
   ]
  },
  {
   "cell_type": "code",
   "execution_count": 90,
   "id": "e6ee54b0",
   "metadata": {},
   "outputs": [
    {
     "data": {
      "text/plain": [
       "55"
      ]
     },
     "execution_count": 90,
     "metadata": {},
     "output_type": "execute_result"
    }
   ],
   "source": [
    "(data.groupby('date')['likes'].sum() > 10000).sum()"
   ]
  },
  {
   "cell_type": "markdown",
   "id": "a5969144",
   "metadata": {},
   "source": [
    "А сколько когда меньше 1000?"
   ]
  },
  {
   "cell_type": "code",
   "execution_count": 91,
   "id": "0d2e5aa1",
   "metadata": {},
   "outputs": [
    {
     "data": {
      "text/plain": [
       "0"
      ]
     },
     "execution_count": 91,
     "metadata": {},
     "output_type": "execute_result"
    }
   ],
   "source": [
    "(data.groupby('date')['likes'].sum() < 1000).sum()"
   ]
  },
  {
   "cell_type": "markdown",
   "id": "18a361e2",
   "metadata": {},
   "source": [
    "Выбор строк по условию (индексация по строкам по массиву из True и False)\n",
    "Выведем строки за 4 августа 2021, когда количество комментариев было больше 100:"
   ]
  },
  {
   "cell_type": "code",
   "execution_count": 94,
   "id": "fb3168cf",
   "metadata": {},
   "outputs": [
    {
     "data": {
      "text/html": [
       "<div>\n",
       "<style scoped>\n",
       "    .dataframe tbody tr th:only-of-type {\n",
       "        vertical-align: middle;\n",
       "    }\n",
       "\n",
       "    .dataframe tbody tr th {\n",
       "        vertical-align: top;\n",
       "    }\n",
       "\n",
       "    .dataframe thead th {\n",
       "        text-align: right;\n",
       "    }\n",
       "</style>\n",
       "<table border=\"1\" class=\"dataframe\">\n",
       "  <thead>\n",
       "    <tr style=\"text-align: right;\">\n",
       "      <th></th>\n",
       "      <th>Unnamed: 0</th>\n",
       "      <th>date</th>\n",
       "      <th>comments</th>\n",
       "      <th>likes</th>\n",
       "      <th>text</th>\n",
       "      <th>Number</th>\n",
       "      <th>Number2</th>\n",
       "    </tr>\n",
       "    <tr>\n",
       "      <th>Number</th>\n",
       "      <th></th>\n",
       "      <th></th>\n",
       "      <th></th>\n",
       "      <th></th>\n",
       "      <th></th>\n",
       "      <th></th>\n",
       "      <th></th>\n",
       "    </tr>\n",
       "  </thead>\n",
       "  <tbody>\n",
       "    <tr>\n",
       "      <th>195</th>\n",
       "      <td>194</td>\n",
       "      <td>04/08/2021</td>\n",
       "      <td>286</td>\n",
       "      <td>4212</td>\n",
       "      <td>🐝</td>\n",
       "      <td>195</td>\n",
       "      <td>195</td>\n",
       "    </tr>\n",
       "    <tr>\n",
       "      <th>196</th>\n",
       "      <td>195</td>\n",
       "      <td>04/08/2021</td>\n",
       "      <td>126</td>\n",
       "      <td>4783</td>\n",
       "      <td>Многие заманчивые инвестиционные предложения —...</td>\n",
       "      <td>196</td>\n",
       "      <td>196</td>\n",
       "    </tr>\n",
       "    <tr>\n",
       "      <th>198</th>\n",
       "      <td>197</td>\n",
       "      <td>04/08/2021</td>\n",
       "      <td>279</td>\n",
       "      <td>4310</td>\n",
       "      <td>После повышения ключевой ставки Банка России с...</td>\n",
       "      <td>198</td>\n",
       "      <td>198</td>\n",
       "    </tr>\n",
       "  </tbody>\n",
       "</table>\n",
       "</div>"
      ],
      "text/plain": [
       "        Unnamed: 0        date  comments  likes  \\\n",
       "Number                                            \n",
       "195            194  04/08/2021       286   4212   \n",
       "196            195  04/08/2021       126   4783   \n",
       "198            197  04/08/2021       279   4310   \n",
       "\n",
       "                                                     text  Number  Number2  \n",
       "Number                                                                      \n",
       "195                                                     🐝     195      195  \n",
       "196     Многие заманчивые инвестиционные предложения —...     196      196  \n",
       "198     После повышения ключевой ставки Банка России с...     198      198  "
      ]
     },
     "execution_count": 94,
     "metadata": {},
     "output_type": "execute_result"
    }
   ],
   "source": [
    "data[(data.comments > 100) & (data.date == \"04/08/2021\")]"
   ]
  },
  {
   "cell_type": "code",
   "execution_count": null,
   "id": "47f36a3a",
   "metadata": {},
   "outputs": [],
   "source": [
    "data[(data.comments > 100) & (data.date == \"04/08/2021\")]"
   ]
  },
  {
   "cell_type": "markdown",
   "id": "fd783263",
   "metadata": {},
   "source": [
    "Когда меньше 100:"
   ]
  },
  {
   "cell_type": "code",
   "execution_count": null,
   "id": "0902eb8d",
   "metadata": {},
   "outputs": [],
   "source": [
    "data[(data.comments < 100) & (data.date == \"04/08/2021\")]"
   ]
  },
  {
   "cell_type": "markdown",
   "id": "27bd9691",
   "metadata": {},
   "source": [
    "### Задания "
   ]
  },
  {
   "cell_type": "markdown",
   "id": "179ce03d",
   "metadata": {},
   "source": [
    "1. Какова доля постов, когда минимальное количество комментариев было больше 100?"
   ]
  },
  {
   "cell_type": "code",
   "execution_count": 104,
   "id": "0a90f5c0",
   "metadata": {},
   "outputs": [
    {
     "data": {
      "text/plain": [
       "0.2077922077922078"
      ]
     },
     "execution_count": 104,
     "metadata": {},
     "output_type": "execute_result"
    }
   ],
   "source": [
    "(data.groupby(\"date\")['comments'].min() > 100).sum() / len(data['date'].unique())"
   ]
  },
  {
   "cell_type": "markdown",
   "id": "a49b024b",
   "metadata": {},
   "source": [
    "2. Выведите датафрейм за 17/10/21 при условии, что количество лайков за пост меньше 5500"
   ]
  },
  {
   "cell_type": "code",
   "execution_count": 105,
   "id": "0e2ddbb4",
   "metadata": {},
   "outputs": [
    {
     "data": {
      "text/html": [
       "<div>\n",
       "<style scoped>\n",
       "    .dataframe tbody tr th:only-of-type {\n",
       "        vertical-align: middle;\n",
       "    }\n",
       "\n",
       "    .dataframe tbody tr th {\n",
       "        vertical-align: top;\n",
       "    }\n",
       "\n",
       "    .dataframe thead th {\n",
       "        text-align: right;\n",
       "    }\n",
       "</style>\n",
       "<table border=\"1\" class=\"dataframe\">\n",
       "  <thead>\n",
       "    <tr style=\"text-align: right;\">\n",
       "      <th></th>\n",
       "      <th>Unnamed: 0</th>\n",
       "      <th>date</th>\n",
       "      <th>comments</th>\n",
       "      <th>likes</th>\n",
       "      <th>text</th>\n",
       "      <th>Number</th>\n",
       "      <th>Number2</th>\n",
       "    </tr>\n",
       "    <tr>\n",
       "      <th>Number</th>\n",
       "      <th></th>\n",
       "      <th></th>\n",
       "      <th></th>\n",
       "      <th></th>\n",
       "      <th></th>\n",
       "      <th></th>\n",
       "      <th></th>\n",
       "    </tr>\n",
       "  </thead>\n",
       "  <tbody>\n",
       "    <tr>\n",
       "      <th>3</th>\n",
       "      <td>2</td>\n",
       "      <td>17/10/2021</td>\n",
       "      <td>251</td>\n",
       "      <td>5028</td>\n",
       "      <td>Рыбы ранимые, а со Скорпионами лучше не связыв...</td>\n",
       "      <td>3</td>\n",
       "      <td>3</td>\n",
       "    </tr>\n",
       "  </tbody>\n",
       "</table>\n",
       "</div>"
      ],
      "text/plain": [
       "        Unnamed: 0        date  comments  likes  \\\n",
       "Number                                            \n",
       "3                2  17/10/2021       251   5028   \n",
       "\n",
       "                                                     text  Number  Number2  \n",
       "Number                                                                      \n",
       "3       Рыбы ранимые, а со Скорпионами лучше не связыв...       3        3  "
      ]
     },
     "execution_count": 105,
     "metadata": {},
     "output_type": "execute_result"
    }
   ],
   "source": [
    "data[(data.likes < 5500) & (data.date == \"17/10/2021\")]"
   ]
  },
  {
   "cell_type": "markdown",
   "id": "36896be5",
   "metadata": {},
   "source": [
    "3. Сколько было дней, когда среднее значение количества комментариев за посты за день было меньше 100?"
   ]
  },
  {
   "cell_type": "code",
   "execution_count": 106,
   "id": "d5e43a3b",
   "metadata": {},
   "outputs": [
    {
     "data": {
      "text/plain": [
       "16"
      ]
     },
     "execution_count": 106,
     "metadata": {},
     "output_type": "execute_result"
    }
   ],
   "source": [
    "(data.groupby('date')['comments'].mean() < 100).sum()"
   ]
  },
  {
   "cell_type": "code",
   "execution_count": null,
   "id": "9d3cf893",
   "metadata": {},
   "outputs": [],
   "source": []
  }
 ],
 "metadata": {
  "kernelspec": {
   "display_name": "Python 3 (ipykernel)",
   "language": "python",
   "name": "python3"
  },
  "language_info": {
   "codemirror_mode": {
    "name": "ipython",
    "version": 3
   },
   "file_extension": ".py",
   "mimetype": "text/x-python",
   "name": "python",
   "nbconvert_exporter": "python",
   "pygments_lexer": "ipython3",
   "version": "3.8.12"
  }
 },
 "nbformat": 4,
 "nbformat_minor": 5
}
