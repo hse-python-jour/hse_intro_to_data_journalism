{
 "cells": [
  {
   "cell_type": "code",
   "execution_count": 1,
   "id": "f719e97c",
   "metadata": {},
   "outputs": [
    {
     "data": {
      "text/html": [
       "<div>\n",
       "<style scoped>\n",
       "    .dataframe tbody tr th:only-of-type {\n",
       "        vertical-align: middle;\n",
       "    }\n",
       "\n",
       "    .dataframe tbody tr th {\n",
       "        vertical-align: top;\n",
       "    }\n",
       "\n",
       "    .dataframe thead th {\n",
       "        text-align: right;\n",
       "    }\n",
       "</style>\n",
       "<table border=\"1\" class=\"dataframe\">\n",
       "  <thead>\n",
       "    <tr style=\"text-align: right;\">\n",
       "      <th></th>\n",
       "      <th>date</th>\n",
       "      <th>comments</th>\n",
       "      <th>likes</th>\n",
       "      <th>text</th>\n",
       "      <th>url</th>\n",
       "    </tr>\n",
       "  </thead>\n",
       "  <tbody>\n",
       "    <tr>\n",
       "      <th>0</th>\n",
       "      <td>10/11/2021 16:11:33</td>\n",
       "      <td>25</td>\n",
       "      <td>1812</td>\n",
       "      <td>Переговоры — это столкновение двух и более про...</td>\n",
       "      <td>https://www.instagram.com/p/CWGgCllIUjK/</td>\n",
       "    </tr>\n",
       "    <tr>\n",
       "      <th>1</th>\n",
       "      <td>10/11/2021 11:10:42</td>\n",
       "      <td>327</td>\n",
       "      <td>2338</td>\n",
       "      <td>У белорусско-польской границы мигранты, в боль...</td>\n",
       "      <td>https://www.instagram.com/p/CWF9nA6opvy/</td>\n",
       "    </tr>\n",
       "    <tr>\n",
       "      <th>2</th>\n",
       "      <td>09/11/2021 16:52:42</td>\n",
       "      <td>83</td>\n",
       "      <td>4252</td>\n",
       "      <td>Большинство из нас слышали про необходимость п...</td>\n",
       "      <td>https://www.instagram.com/p/CWD_9EHIf_K/</td>\n",
       "    </tr>\n",
       "    <tr>\n",
       "      <th>3</th>\n",
       "      <td>09/11/2021 13:29:03</td>\n",
       "      <td>27</td>\n",
       "      <td>1500</td>\n",
       "      <td>Покупка мужского костюма — интересный процесс,...</td>\n",
       "      <td>https://www.instagram.com/p/CWDophIN18s/</td>\n",
       "    </tr>\n",
       "    <tr>\n",
       "      <th>4</th>\n",
       "      <td>08/11/2021 15:45:42</td>\n",
       "      <td>44</td>\n",
       "      <td>2214</td>\n",
       "      <td>Предприниматели грядущих десятилетий будут отл...</td>\n",
       "      <td>https://www.instagram.com/p/CWBTfdnISbq/</td>\n",
       "    </tr>\n",
       "    <tr>\n",
       "      <th>...</th>\n",
       "      <td>...</td>\n",
       "      <td>...</td>\n",
       "      <td>...</td>\n",
       "      <td>...</td>\n",
       "      <td>...</td>\n",
       "    </tr>\n",
       "    <tr>\n",
       "      <th>2706</th>\n",
       "      <td>21/03/2016 14:14:22</td>\n",
       "      <td>0</td>\n",
       "      <td>6</td>\n",
       "      <td>Строительство космодрома Восточный. \\n\\nФото: ...</td>\n",
       "      <td>https://www.instagram.com/p/BDN9F0TFF9k/</td>\n",
       "    </tr>\n",
       "    <tr>\n",
       "      <th>2707</th>\n",
       "      <td>21/03/2016 14:13:27</td>\n",
       "      <td>0</td>\n",
       "      <td>21</td>\n",
       "      <td>Отдыхающие на набержной Ялты. \\n\\nФото: Катери...</td>\n",
       "      <td>https://www.instagram.com/p/BDN8_EPlF9S/</td>\n",
       "    </tr>\n",
       "    <tr>\n",
       "      <th>2708</th>\n",
       "      <td>21/03/2016 14:12:37</td>\n",
       "      <td>2</td>\n",
       "      <td>16</td>\n",
       "      <td>Уничтожение санкционных продуктов, Подмосковье...</td>\n",
       "      <td>https://www.instagram.com/p/BDN84-lFF9C/</td>\n",
       "    </tr>\n",
       "    <tr>\n",
       "      <th>2709</th>\n",
       "      <td>21/03/2016 13:58:48</td>\n",
       "      <td>0</td>\n",
       "      <td>5</td>\n",
       "      <td>Лечебно-реабилитационный центр для пожилых люд...</td>\n",
       "      <td>https://www.instagram.com/p/BDN7TsklF47/</td>\n",
       "    </tr>\n",
       "    <tr>\n",
       "      <th>2710</th>\n",
       "      <td>21/03/2016 13:19:41</td>\n",
       "      <td>0</td>\n",
       "      <td>22</td>\n",
       "      <td>Портрет президента Американской торговой палат...</td>\n",
       "      <td>https://www.instagram.com/p/BDN21QRFF_D/</td>\n",
       "    </tr>\n",
       "  </tbody>\n",
       "</table>\n",
       "<p>2711 rows × 5 columns</p>\n",
       "</div>"
      ],
      "text/plain": [
       "                     date  comments  likes  \\\n",
       "0     10/11/2021 16:11:33        25   1812   \n",
       "1     10/11/2021 11:10:42       327   2338   \n",
       "2     09/11/2021 16:52:42        83   4252   \n",
       "3     09/11/2021 13:29:03        27   1500   \n",
       "4     08/11/2021 15:45:42        44   2214   \n",
       "...                   ...       ...    ...   \n",
       "2706  21/03/2016 14:14:22         0      6   \n",
       "2707  21/03/2016 14:13:27         0     21   \n",
       "2708  21/03/2016 14:12:37         2     16   \n",
       "2709  21/03/2016 13:58:48         0      5   \n",
       "2710  21/03/2016 13:19:41         0     22   \n",
       "\n",
       "                                                   text  \\\n",
       "0     Переговоры — это столкновение двух и более про...   \n",
       "1     У белорусско-польской границы мигранты, в боль...   \n",
       "2     Большинство из нас слышали про необходимость п...   \n",
       "3     Покупка мужского костюма — интересный процесс,...   \n",
       "4     Предприниматели грядущих десятилетий будут отл...   \n",
       "...                                                 ...   \n",
       "2706  Строительство космодрома Восточный. \\n\\nФото: ...   \n",
       "2707  Отдыхающие на набержной Ялты. \\n\\nФото: Катери...   \n",
       "2708  Уничтожение санкционных продуктов, Подмосковье...   \n",
       "2709  Лечебно-реабилитационный центр для пожилых люд...   \n",
       "2710  Портрет президента Американской торговой палат...   \n",
       "\n",
       "                                           url  \n",
       "0     https://www.instagram.com/p/CWGgCllIUjK/  \n",
       "1     https://www.instagram.com/p/CWF9nA6opvy/  \n",
       "2     https://www.instagram.com/p/CWD_9EHIf_K/  \n",
       "3     https://www.instagram.com/p/CWDophIN18s/  \n",
       "4     https://www.instagram.com/p/CWBTfdnISbq/  \n",
       "...                                        ...  \n",
       "2706  https://www.instagram.com/p/BDN9F0TFF9k/  \n",
       "2707  https://www.instagram.com/p/BDN8_EPlF9S/  \n",
       "2708  https://www.instagram.com/p/BDN84-lFF9C/  \n",
       "2709  https://www.instagram.com/p/BDN7TsklF47/  \n",
       "2710  https://www.instagram.com/p/BDN21QRFF_D/  \n",
       "\n",
       "[2711 rows x 5 columns]"
      ]
     },
     "execution_count": 1,
     "metadata": {},
     "output_type": "execute_result"
    }
   ],
   "source": [
    "import pandas as pd\n",
    "data = pd.read_csv('rbc_df.csv')\n",
    "data"
   ]
  },
  {
   "cell_type": "code",
   "execution_count": 2,
   "id": "f13a2295",
   "metadata": {},
   "outputs": [
    {
     "data": {
      "text/html": [
       "<div>\n",
       "<style scoped>\n",
       "    .dataframe tbody tr th:only-of-type {\n",
       "        vertical-align: middle;\n",
       "    }\n",
       "\n",
       "    .dataframe tbody tr th {\n",
       "        vertical-align: top;\n",
       "    }\n",
       "\n",
       "    .dataframe thead th {\n",
       "        text-align: right;\n",
       "    }\n",
       "</style>\n",
       "<table border=\"1\" class=\"dataframe\">\n",
       "  <thead>\n",
       "    <tr style=\"text-align: right;\">\n",
       "      <th></th>\n",
       "      <th>comments</th>\n",
       "      <th>likes</th>\n",
       "    </tr>\n",
       "  </thead>\n",
       "  <tbody>\n",
       "    <tr>\n",
       "      <th>count</th>\n",
       "      <td>2711.000000</td>\n",
       "      <td>2711.000000</td>\n",
       "    </tr>\n",
       "    <tr>\n",
       "      <th>mean</th>\n",
       "      <td>131.238657</td>\n",
       "      <td>2163.443379</td>\n",
       "    </tr>\n",
       "    <tr>\n",
       "      <th>std</th>\n",
       "      <td>203.748409</td>\n",
       "      <td>2728.772495</td>\n",
       "    </tr>\n",
       "    <tr>\n",
       "      <th>min</th>\n",
       "      <td>0.000000</td>\n",
       "      <td>4.000000</td>\n",
       "    </tr>\n",
       "    <tr>\n",
       "      <th>25%</th>\n",
       "      <td>14.000000</td>\n",
       "      <td>352.000000</td>\n",
       "    </tr>\n",
       "    <tr>\n",
       "      <th>50%</th>\n",
       "      <td>55.000000</td>\n",
       "      <td>1302.000000</td>\n",
       "    </tr>\n",
       "    <tr>\n",
       "      <th>75%</th>\n",
       "      <td>160.000000</td>\n",
       "      <td>2923.500000</td>\n",
       "    </tr>\n",
       "    <tr>\n",
       "      <th>max</th>\n",
       "      <td>2458.000000</td>\n",
       "      <td>24298.000000</td>\n",
       "    </tr>\n",
       "  </tbody>\n",
       "</table>\n",
       "</div>"
      ],
      "text/plain": [
       "          comments         likes\n",
       "count  2711.000000   2711.000000\n",
       "mean    131.238657   2163.443379\n",
       "std     203.748409   2728.772495\n",
       "min       0.000000      4.000000\n",
       "25%      14.000000    352.000000\n",
       "50%      55.000000   1302.000000\n",
       "75%     160.000000   2923.500000\n",
       "max    2458.000000  24298.000000"
      ]
     },
     "execution_count": 2,
     "metadata": {},
     "output_type": "execute_result"
    }
   ],
   "source": [
    "data.describe()"
   ]
  },
  {
   "cell_type": "markdown",
   "id": "d1b49cfa",
   "metadata": {},
   "source": [
    "# Слабые выбросы"
   ]
  },
  {
   "cell_type": "code",
   "execution_count": 4,
   "id": "7da0595a",
   "metadata": {},
   "outputs": [
    {
     "data": {
      "text/plain": [
       "2571.5"
      ]
     },
     "execution_count": 4,
     "metadata": {},
     "output_type": "execute_result"
    }
   ],
   "source": [
    "IQR = data.likes.quantile(.75) - data.likes.quantile(.25)\n",
    "IQR"
   ]
  },
  {
   "cell_type": "code",
   "execution_count": 6,
   "id": "914367d6",
   "metadata": {},
   "outputs": [
    {
     "data": {
      "text/plain": [
       "3857.25"
      ]
     },
     "execution_count": 6,
     "metadata": {},
     "output_type": "execute_result"
    }
   ],
   "source": [
    "weak_outliers_iqr = IQR * 1.5\n",
    "weak_outliers_iqr"
   ]
  },
  {
   "cell_type": "code",
   "execution_count": 7,
   "id": "e2223e39",
   "metadata": {
    "scrolled": true
   },
   "outputs": [
    {
     "name": "stdout",
     "output_type": "stream",
     "text": [
      "-3505.25 6780.75\n"
     ]
    }
   ],
   "source": [
    "left_margin = data.likes.quantile(.25) - weak_outliers_iqr\n",
    "right_margin = data.likes.quantile(.75) + weak_outliers_iqr\n",
    "print(left_margin, right_margin)"
   ]
  },
  {
   "cell_type": "code",
   "execution_count": 9,
   "id": "aca570fc",
   "metadata": {},
   "outputs": [
    {
     "data": {
      "image/png": "[encoded data removed]",
      "text/plain": [
       "<Figure size 432x288 with 1 Axes>"
      ]
     },
     "metadata": {
      "needs_background": "light"
     },
     "output_type": "display_data"
    }
   ],
   "source": [
    "data.likes.hist();"
   ]
  },
  {
   "cell_type": "code",
   "execution_count": 17,
   "id": "05e796bd",
   "metadata": {},
   "outputs": [
    {
     "data": {
      "text/plain": [
       "155"
      ]
     },
     "execution_count": 17,
     "metadata": {},
     "output_type": "execute_result"
    }
   ],
   "source": [
    "data[data['likes'] > 6781].shape[0] #логическая маска (фильтр)"
   ]
  },
  {
   "cell_type": "code",
   "execution_count": 22,
   "id": "addc6bf0",
   "metadata": {},
   "outputs": [
    {
     "data": {
      "text/plain": [
       "0.06"
      ]
     },
     "execution_count": 22,
     "metadata": {},
     "output_type": "execute_result"
    }
   ],
   "source": [
    "round(155/data.shape[0], 2) #процент слабых выбросов "
   ]
  },
  {
   "cell_type": "code",
   "execution_count": 23,
   "id": "eaea5c9a",
   "metadata": {},
   "outputs": [
    {
     "data": {
      "text/plain": [
       "0.02"
      ]
     },
     "execution_count": 23,
     "metadata": {},
     "output_type": "execute_result"
    }
   ],
   "source": [
    "round(54/data.shape[0], 2) #процент сильных выбросов "
   ]
  },
  {
   "cell_type": "code",
   "execution_count": 13,
   "id": "32ddf018",
   "metadata": {},
   "outputs": [
    {
     "data": {
      "text/plain": [
       "0       1812\n",
       "1       2338\n",
       "2       4252\n",
       "3       1500\n",
       "4       2214\n",
       "        ... \n",
       "2706       6\n",
       "2707      21\n",
       "2708      16\n",
       "2709       5\n",
       "2710      22\n",
       "Name: likes, Length: 2711, dtype: int64"
      ]
     },
     "execution_count": 13,
     "metadata": {},
     "output_type": "execute_result"
    }
   ],
   "source": [
    "data['likes']"
   ]
  },
  {
   "cell_type": "markdown",
   "id": "c5377cd7",
   "metadata": {},
   "source": [
    "# Сильные выбросы"
   ]
  },
  {
   "cell_type": "code",
   "execution_count": 18,
   "id": "61b69c53",
   "metadata": {},
   "outputs": [
    {
     "data": {
      "text/plain": [
       "7714.5"
      ]
     },
     "execution_count": 18,
     "metadata": {},
     "output_type": "execute_result"
    }
   ],
   "source": [
    "strong_outliers_iqr = IQR * 3\n",
    "strong_outliers_iqr"
   ]
  },
  {
   "cell_type": "code",
   "execution_count": 19,
   "id": "703e0dc6",
   "metadata": {},
   "outputs": [
    {
     "data": {
      "text/plain": [
       "10638.0"
      ]
     },
     "execution_count": 19,
     "metadata": {},
     "output_type": "execute_result"
    }
   ],
   "source": [
    "right_margin = data.likes.quantile(.75) + strong_outliers_iqr\n",
    "right_margin"
   ]
  },
  {
   "cell_type": "code",
   "execution_count": 20,
   "id": "9984997b",
   "metadata": {},
   "outputs": [
    {
     "data": {
      "text/plain": [
       "54"
      ]
     },
     "execution_count": 20,
     "metadata": {},
     "output_type": "execute_result"
    }
   ],
   "source": [
    "data[data['likes'] > 10638.0].shape[0] #логическая маска (фильтр)"
   ]
  },
  {
   "cell_type": "code",
   "execution_count": 28,
   "id": "61291114",
   "metadata": {},
   "outputs": [
    {
     "data": {
      "text/plain": [
       "pandas.core.frame.DataFrame"
      ]
     },
     "execution_count": 28,
     "metadata": {},
     "output_type": "execute_result"
    }
   ],
   "source": [
    "type(data.head(3))"
   ]
  },
  {
   "cell_type": "code",
   "execution_count": 27,
   "id": "c92740b5",
   "metadata": {},
   "outputs": [
    {
     "data": {
      "text/plain": [
       "pandas.core.series.Series"
      ]
     },
     "execution_count": 27,
     "metadata": {},
     "output_type": "execute_result"
    }
   ],
   "source": [
    "type(data['likes']) #ряд значений"
   ]
  },
  {
   "cell_type": "code",
   "execution_count": 32,
   "id": "3efbc603",
   "metadata": {},
   "outputs": [
    {
     "data": {
      "text/html": [
       "<div>\n",
       "<style scoped>\n",
       "    .dataframe tbody tr th:only-of-type {\n",
       "        vertical-align: middle;\n",
       "    }\n",
       "\n",
       "    .dataframe tbody tr th {\n",
       "        vertical-align: top;\n",
       "    }\n",
       "\n",
       "    .dataframe thead th {\n",
       "        text-align: right;\n",
       "    }\n",
       "</style>\n",
       "<table border=\"1\" class=\"dataframe\">\n",
       "  <thead>\n",
       "    <tr style=\"text-align: right;\">\n",
       "      <th></th>\n",
       "      <th>date</th>\n",
       "      <th>comments</th>\n",
       "      <th>likes</th>\n",
       "      <th>text</th>\n",
       "      <th>url</th>\n",
       "    </tr>\n",
       "  </thead>\n",
       "  <tbody>\n",
       "    <tr>\n",
       "      <th>480</th>\n",
       "      <td>27/05/2021 14:47:42</td>\n",
       "      <td>8</td>\n",
       "      <td>346</td>\n",
       "      <td>ЧЭЗ Next - ежедневный информационный марафон в...</td>\n",
       "      <td>https://www.instagram.com/p/CPYVoBoIVPV/</td>\n",
       "    </tr>\n",
       "    <tr>\n",
       "      <th>516</th>\n",
       "      <td>20/05/2021 14:39:33</td>\n",
       "      <td>3</td>\n",
       "      <td>359</td>\n",
       "      <td>ЧЭЗ Next - ежедневный информационный марафон в...</td>\n",
       "      <td>https://www.instagram.com/p/CPGTINVoY35/</td>\n",
       "    </tr>\n",
       "    <tr>\n",
       "      <th>541</th>\n",
       "      <td>13/05/2021 14:34:40</td>\n",
       "      <td>7</td>\n",
       "      <td>320</td>\n",
       "      <td>ЧЭЗ Next - ежедневный информационный марафон в...</td>\n",
       "      <td>https://www.instagram.com/p/CO0RCliIW4K/</td>\n",
       "    </tr>\n",
       "    <tr>\n",
       "      <th>590</th>\n",
       "      <td>29/04/2021 14:37:16</td>\n",
       "      <td>6</td>\n",
       "      <td>278</td>\n",
       "      <td>ЧЭЗ Next - ежедневный информационный марафон в...</td>\n",
       "      <td>https://www.instagram.com/p/COQOM6moI0H/</td>\n",
       "    </tr>\n",
       "    <tr>\n",
       "      <th>611</th>\n",
       "      <td>22/04/2021 17:33:02</td>\n",
       "      <td>7</td>\n",
       "      <td>299</td>\n",
       "      <td>ЧЭЗ Next - ежедневный информационный марафон в...</td>\n",
       "      <td>https://www.instagram.com/p/CN-gwxnImfJ/</td>\n",
       "    </tr>\n",
       "    <tr>\n",
       "      <th>...</th>\n",
       "      <td>...</td>\n",
       "      <td>...</td>\n",
       "      <td>...</td>\n",
       "      <td>...</td>\n",
       "      <td>...</td>\n",
       "    </tr>\n",
       "    <tr>\n",
       "      <th>2609</th>\n",
       "      <td>08/12/2017 14:45:50</td>\n",
       "      <td>9</td>\n",
       "      <td>112</td>\n",
       "      <td>Вспомним, как это было. \\n#рбк #rbc #rbcnews #...</td>\n",
       "      <td>https://www.instagram.com/p/BccfG2sjTte/</td>\n",
       "    </tr>\n",
       "    <tr>\n",
       "      <th>2621</th>\n",
       "      <td>29/11/2017 16:03:07</td>\n",
       "      <td>6</td>\n",
       "      <td>113</td>\n",
       "      <td>Конкурс «Мисс Америка» удивил мир. В 2017 году...</td>\n",
       "      <td>https://www.instagram.com/p/BcFczBZjsRL/</td>\n",
       "    </tr>\n",
       "    <tr>\n",
       "      <th>2628</th>\n",
       "      <td>23/11/2017 18:57:00</td>\n",
       "      <td>4</td>\n",
       "      <td>126</td>\n",
       "      <td>Илон Маск поспорил, что его компания за 100 дн...</td>\n",
       "      <td>https://www.instagram.com/p/Bb2TwWej_D4/</td>\n",
       "    </tr>\n",
       "    <tr>\n",
       "      <th>2629</th>\n",
       "      <td>22/11/2017 15:24:18</td>\n",
       "      <td>2</td>\n",
       "      <td>118</td>\n",
       "      <td>\"Там, где кончается человеческий голос речи, ч...</td>\n",
       "      <td>https://www.instagram.com/p/BbzWylXj_0n/</td>\n",
       "    </tr>\n",
       "    <tr>\n",
       "      <th>2633</th>\n",
       "      <td>17/11/2017 22:02:37</td>\n",
       "      <td>7</td>\n",
       "      <td>160</td>\n",
       "      <td>Tesla Motors представила беспилотный электрогр...</td>\n",
       "      <td>https://www.instagram.com/p/BbnMZjpjZ66/</td>\n",
       "    </tr>\n",
       "  </tbody>\n",
       "</table>\n",
       "<p>371 rows × 5 columns</p>\n",
       "</div>"
      ],
      "text/plain": [
       "                     date  comments  likes  \\\n",
       "480   27/05/2021 14:47:42         8    346   \n",
       "516   20/05/2021 14:39:33         3    359   \n",
       "541   13/05/2021 14:34:40         7    320   \n",
       "590   29/04/2021 14:37:16         6    278   \n",
       "611   22/04/2021 17:33:02         7    299   \n",
       "...                   ...       ...    ...   \n",
       "2609  08/12/2017 14:45:50         9    112   \n",
       "2621  29/11/2017 16:03:07         6    113   \n",
       "2628  23/11/2017 18:57:00         4    126   \n",
       "2629  22/11/2017 15:24:18         2    118   \n",
       "2633  17/11/2017 22:02:37         7    160   \n",
       "\n",
       "                                                   text  \\\n",
       "480   ЧЭЗ Next - ежедневный информационный марафон в...   \n",
       "516   ЧЭЗ Next - ежедневный информационный марафон в...   \n",
       "541   ЧЭЗ Next - ежедневный информационный марафон в...   \n",
       "590   ЧЭЗ Next - ежедневный информационный марафон в...   \n",
       "611   ЧЭЗ Next - ежедневный информационный марафон в...   \n",
       "...                                                 ...   \n",
       "2609  Вспомним, как это было. \\n#рбк #rbc #rbcnews #...   \n",
       "2621  Конкурс «Мисс Америка» удивил мир. В 2017 году...   \n",
       "2628  Илон Маск поспорил, что его компания за 100 дн...   \n",
       "2629  \"Там, где кончается человеческий голос речи, ч...   \n",
       "2633  Tesla Motors представила беспилотный электрогр...   \n",
       "\n",
       "                                           url  \n",
       "480   https://www.instagram.com/p/CPYVoBoIVPV/  \n",
       "516   https://www.instagram.com/p/CPGTINVoY35/  \n",
       "541   https://www.instagram.com/p/CO0RCliIW4K/  \n",
       "590   https://www.instagram.com/p/COQOM6moI0H/  \n",
       "611   https://www.instagram.com/p/CN-gwxnImfJ/  \n",
       "...                                        ...  \n",
       "2609  https://www.instagram.com/p/BccfG2sjTte/  \n",
       "2621  https://www.instagram.com/p/BcFczBZjsRL/  \n",
       "2628  https://www.instagram.com/p/Bb2TwWej_D4/  \n",
       "2629  https://www.instagram.com/p/BbzWylXj_0n/  \n",
       "2633  https://www.instagram.com/p/BbnMZjpjZ66/  \n",
       "\n",
       "[371 rows x 5 columns]"
      ]
     },
     "execution_count": 32,
     "metadata": {},
     "output_type": "execute_result"
    }
   ],
   "source": [
    "data[(data['likes'] > 100) & (data['comments'] < 10)]"
   ]
  },
  {
   "cell_type": "code",
   "execution_count": 40,
   "id": "734d4544",
   "metadata": {},
   "outputs": [
    {
     "name": "stdout",
     "output_type": "stream",
     "text": [
      "4.25 2.384848003542364\n"
     ]
    }
   ],
   "source": [
    "import numpy as np #numperical python\n",
    "lst = (1,3,6,7)\n",
    "print(np.mean(lst), np.std(lst))"
   ]
  },
  {
   "cell_type": "code",
   "execution_count": 34,
   "id": "e6b53878",
   "metadata": {},
   "outputs": [
    {
     "data": {
      "text/plain": [
       "2728.77"
      ]
     },
     "execution_count": 34,
     "metadata": {},
     "output_type": "execute_result"
    }
   ],
   "source": [
    "round(data.likes.std(), 2) #standard deviation"
   ]
  },
  {
   "cell_type": "code",
   "execution_count": 36,
   "id": "049ce99d",
   "metadata": {},
   "outputs": [
    {
     "data": {
      "text/plain": [
       "0.61"
      ]
     },
     "execution_count": 36,
     "metadata": {},
     "output_type": "execute_result"
    }
   ],
   "source": [
    "from scipy import stats\n",
    "round(stats.pearsonr(data.comments, data.likes)[0], 2) #подсчет корреляции"
   ]
  },
  {
   "cell_type": "code",
   "execution_count": null,
   "id": "530cff54",
   "metadata": {},
   "outputs": [],
   "source": [
    "https://www.kommersant.ru/search/results?search_query=%22синхронное+плавание%22+Россия&sort_type=1&search_full=1&time_range=2&dateStart=2020-11-16&dateEnd=2021-11-16"
   ]
  },
  {
   "cell_type": "markdown",
   "id": "dec63422",
   "metadata": {},
   "source": [
    "# Лемматизация (нормальная форма)"
   ]
  },
  {
   "cell_type": "markdown",
   "id": "2097f329",
   "metadata": {},
   "source": [
    "корреспондентов --> корреспондент\n",
    "спродюссировали --> продюссировать"
   ]
  },
  {
   "cell_type": "markdown",
   "id": "66a3c537",
   "metadata": {},
   "source": [
    "# Стемминг (основа слова)"
   ]
  },
  {
   "cell_type": "markdown",
   "id": "11b6836e",
   "metadata": {},
   "source": [
    "спродюссировали --> продюссир"
   ]
  },
  {
   "cell_type": "code",
   "execution_count": null,
   "id": "5cc72dbb",
   "metadata": {},
   "outputs": [],
   "source": [
    "'продюссер' in data_project['text']"
   ]
  }
 ],
 "metadata": {
  "kernelspec": {
   "display_name": "Python 3",
   "language": "python",
   "name": "python3"
  },
  "language_info": {
   "codemirror_mode": {
    "name": "ipython",
    "version": 3
   },
   "file_extension": ".py",
   "mimetype": "text/x-python",
   "name": "python",
   "nbconvert_exporter": "python",
   "pygments_lexer": "ipython3",
   "version": "3.8.5"
  }
 },
 "nbformat": 4,
 "nbformat_minor": 5
}
