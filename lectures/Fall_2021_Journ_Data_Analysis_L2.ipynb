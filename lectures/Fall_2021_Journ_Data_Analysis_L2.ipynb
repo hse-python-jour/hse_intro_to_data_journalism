{
 "cells": [
  {
   "cell_type": "code",
   "execution_count": 1,
   "id": "4739a8d6",
   "metadata": {},
   "outputs": [
    {
     "data": {
      "text/plain": [
       "True"
      ]
     },
     "execution_count": 1,
     "metadata": {},
     "output_type": "execute_result"
    }
   ],
   "source": [
    "2 != 3"
   ]
  },
  {
   "cell_type": "code",
   "execution_count": 2,
   "id": "51612e2e",
   "metadata": {},
   "outputs": [
    {
     "data": {
      "text/plain": [
       "False"
      ]
     },
     "execution_count": 2,
     "metadata": {},
     "output_type": "execute_result"
    }
   ],
   "source": [
    "2 == 3"
   ]
  },
  {
   "cell_type": "code",
   "execution_count": 3,
   "id": "cbbc9caf",
   "metadata": {},
   "outputs": [
    {
     "data": {
      "text/plain": [
       "4"
      ]
     },
     "execution_count": 3,
     "metadata": {},
     "output_type": "execute_result"
    }
   ],
   "source": [
    "round(3.6)"
   ]
  },
  {
   "cell_type": "code",
   "execution_count": 4,
   "id": "b9bbf96e",
   "metadata": {},
   "outputs": [
    {
     "data": {
      "text/plain": [
       "2"
      ]
     },
     "execution_count": 4,
     "metadata": {},
     "output_type": "execute_result"
    }
   ],
   "source": [
    "round(2.5)"
   ]
  },
  {
   "cell_type": "code",
   "execution_count": 5,
   "id": "5d6fe792",
   "metadata": {},
   "outputs": [
    {
     "data": {
      "text/plain": [
       "3"
      ]
     },
     "execution_count": 5,
     "metadata": {},
     "output_type": "execute_result"
    }
   ],
   "source": [
    "round(2.51)"
   ]
  },
  {
   "cell_type": "code",
   "execution_count": 6,
   "id": "30fa69ab",
   "metadata": {},
   "outputs": [
    {
     "data": {
      "text/plain": [
       "'hello world'"
      ]
     },
     "execution_count": 6,
     "metadata": {},
     "output_type": "execute_result"
    }
   ],
   "source": [
    "'    hello world  '.strip()"
   ]
  },
  {
   "cell_type": "code",
   "execution_count": 7,
   "id": "56e3d446",
   "metadata": {},
   "outputs": [
    {
     "data": {
      "text/plain": [
       "'    hello world'"
      ]
     },
     "execution_count": 7,
     "metadata": {},
     "output_type": "execute_result"
    }
   ],
   "source": [
    "'    hello world  '.rstrip() #right strip"
   ]
  },
  {
   "cell_type": "code",
   "execution_count": 8,
   "id": "a16a05d8",
   "metadata": {},
   "outputs": [
    {
     "data": {
      "text/plain": [
       "'hello world  '"
      ]
     },
     "execution_count": 8,
     "metadata": {},
     "output_type": "execute_result"
    }
   ],
   "source": [
    "'    hello world  '.lstrip()"
   ]
  },
  {
   "cell_type": "code",
   "execution_count": 14,
   "id": "2e7e6889",
   "metadata": {},
   "outputs": [
    {
     "data": {
      "text/plain": [
       "6"
      ]
     },
     "execution_count": 14,
     "metadata": {},
     "output_type": "execute_result"
    }
   ],
   "source": [
    "s = [1, 2, 3, 4, 5, 6]\n",
    "s[1:-1:2]\n",
    "s[2]\n",
    "\n",
    "len(s)"
   ]
  },
  {
   "cell_type": "code",
   "execution_count": 10,
   "id": "b6cd3419",
   "metadata": {},
   "outputs": [
    {
     "data": {
      "text/plain": [
       "[2, 4, 6]"
      ]
     },
     "execution_count": 10,
     "metadata": {},
     "output_type": "execute_result"
    }
   ],
   "source": [
    "s[1::2]"
   ]
  },
  {
   "cell_type": "code",
   "execution_count": 26,
   "id": "f4fcbc2b",
   "metadata": {},
   "outputs": [
    {
     "name": "stdout",
     "output_type": "stream",
     "text": [
      "helloworld, bonjour, guten tag\tgood morning\tgood evening\n"
     ]
    }
   ],
   "source": [
    "print('helloworld', 'bonjour', 'guten tag', sep=', ', end='\\t') #separator\n",
    "print('good morning', end='\\t')\n",
    "print('good evening')\n",
    "\n",
    "#\\n - new line\n",
    "#\\t - tab"
   ]
  },
  {
   "cell_type": "code",
   "execution_count": 30,
   "id": "f85cfb77",
   "metadata": {},
   "outputs": [
    {
     "data": {
      "text/plain": [
       "True"
      ]
     },
     "execution_count": 30,
     "metadata": {},
     "output_type": "execute_result"
    }
   ],
   "source": [
    "round(0.2 + 0.1) == 0"
   ]
  },
  {
   "cell_type": "code",
   "execution_count": 28,
   "id": "b37b8723",
   "metadata": {},
   "outputs": [
    {
     "data": {
      "text/plain": [
       "0.30000000000000004"
      ]
     },
     "execution_count": 28,
     "metadata": {},
     "output_type": "execute_result"
    }
   ],
   "source": [
    "0.2 + 0.1"
   ]
  },
  {
   "cell_type": "code",
   "execution_count": 29,
   "id": "44ae51b6",
   "metadata": {},
   "outputs": [
    {
     "data": {
      "text/plain": [
       "2"
      ]
     },
     "execution_count": 29,
     "metadata": {},
     "output_type": "execute_result"
    }
   ],
   "source": [
    "round(2.3)"
   ]
  },
  {
   "cell_type": "code",
   "execution_count": 31,
   "id": "fdb5548b",
   "metadata": {},
   "outputs": [],
   "source": [
    "import math #вспомогательная библиотека \"математика\""
   ]
  },
  {
   "cell_type": "code",
   "execution_count": 33,
   "id": "9e44c6a8",
   "metadata": {},
   "outputs": [
    {
     "data": {
      "text/plain": [
       "2"
      ]
     },
     "execution_count": 33,
     "metadata": {},
     "output_type": "execute_result"
    }
   ],
   "source": [
    "math.floor(2.7)"
   ]
  },
  {
   "cell_type": "code",
   "execution_count": 34,
   "id": "3a52d89f",
   "metadata": {},
   "outputs": [
    {
     "data": {
      "text/plain": [
       "3"
      ]
     },
     "execution_count": 34,
     "metadata": {},
     "output_type": "execute_result"
    }
   ],
   "source": [
    "math.ceil(2.2)"
   ]
  },
  {
   "cell_type": "markdown",
   "id": "3f7e838d",
   "metadata": {},
   "source": [
    "#m - markdown (текстовая ячейка)"
   ]
  },
  {
   "cell_type": "markdown",
   "id": "59cc64bb",
   "metadata": {},
   "source": [
    "### Форматирование строк f-string"
   ]
  },
  {
   "cell_type": "code",
   "execution_count": 37,
   "id": "25b75214",
   "metadata": {},
   "outputs": [
    {
     "name": "stdout",
     "output_type": "stream",
     "text": [
      "Ваше имя Вася, возраст 20\n"
     ]
    }
   ],
   "source": [
    "name = 'Вася'\n",
    "age = 20\n",
    "print(f'Ваше имя {name}, возраст {age}') #пример f-string"
   ]
  },
  {
   "cell_type": "code",
   "execution_count": 40,
   "id": "d024d868",
   "metadata": {},
   "outputs": [],
   "source": [
    "s1 = [1, 2, 5, 7, 3]"
   ]
  },
  {
   "cell_type": "markdown",
   "id": "f6a42150",
   "metadata": {},
   "source": [
    "## Функции и методы"
   ]
  },
  {
   "cell_type": "code",
   "execution_count": 41,
   "id": "2f6c7bc1",
   "metadata": {},
   "outputs": [
    {
     "data": {
      "text/plain": [
       "[1, 2, 3, 5, 7]"
      ]
     },
     "execution_count": 41,
     "metadata": {},
     "output_type": "execute_result"
    }
   ],
   "source": [
    "sorted(s1) #(встроенная) функция \n",
    "print('hello')\n",
    "int('2') #приведение к целочисленному типу"
   ]
  },
  {
   "cell_type": "code",
   "execution_count": 52,
   "id": "7cb5b9ee",
   "metadata": {},
   "outputs": [
    {
     "data": {
      "text/plain": [
       "['a', 'b', 'd', 'f', 'f', 'f', 'k', 's', 's']"
      ]
     },
     "execution_count": 52,
     "metadata": {},
     "output_type": "execute_result"
    }
   ],
   "source": [
    "sorted('bdsafkfsf')"
   ]
  },
  {
   "cell_type": "code",
   "execution_count": 42,
   "id": "ee3b6923",
   "metadata": {},
   "outputs": [
    {
     "data": {
      "text/plain": [
       "[7, 5, 3, 2, 1]"
      ]
     },
     "execution_count": 42,
     "metadata": {},
     "output_type": "execute_result"
    }
   ],
   "source": [
    "sorted(s1, reverse=True) #shift + tab + tab"
   ]
  },
  {
   "cell_type": "code",
   "execution_count": 58,
   "id": "53578998",
   "metadata": {},
   "outputs": [
    {
     "data": {
      "text/plain": [
       "[1, 2, 3, 5, 7]"
      ]
     },
     "execution_count": 58,
     "metadata": {},
     "output_type": "execute_result"
    }
   ],
   "source": [
    "sorted(s1)"
   ]
  },
  {
   "cell_type": "code",
   "execution_count": 59,
   "id": "52d62f8a",
   "metadata": {},
   "outputs": [
    {
     "data": {
      "text/plain": [
       "[1, 2, 5, 7, 3]"
      ]
     },
     "execution_count": 59,
     "metadata": {},
     "output_type": "execute_result"
    }
   ],
   "source": [
    "s1"
   ]
  },
  {
   "cell_type": "code",
   "execution_count": 54,
   "id": "afac0ffc",
   "metadata": {},
   "outputs": [
    {
     "data": {
      "text/plain": [
       "[1, 2, 3, 5, 7]"
      ]
     },
     "execution_count": 54,
     "metadata": {},
     "output_type": "execute_result"
    }
   ],
   "source": [
    "s2 = s1.copy()\n",
    "s2.sort() #метод сортировки у объекта s2\n",
    "s2"
   ]
  },
  {
   "cell_type": "code",
   "execution_count": 55,
   "id": "250e511d",
   "metadata": {},
   "outputs": [
    {
     "data": {
      "text/plain": [
       "[1, 2, 3, 5, 7]"
      ]
     },
     "execution_count": 55,
     "metadata": {},
     "output_type": "execute_result"
    }
   ],
   "source": [
    "s2"
   ]
  },
  {
   "cell_type": "code",
   "execution_count": 46,
   "id": "78bf258f",
   "metadata": {},
   "outputs": [],
   "source": [
    "s2.append(7) #метод добавления элемента в конце списка"
   ]
  },
  {
   "cell_type": "code",
   "execution_count": 49,
   "id": "4578a7ac",
   "metadata": {},
   "outputs": [],
   "source": [
    "s2.remove(7) #метод удаления конкретного элемента из списка"
   ]
  },
  {
   "cell_type": "code",
   "execution_count": 50,
   "id": "0a3a5cbb",
   "metadata": {},
   "outputs": [
    {
     "data": {
      "text/plain": [
       "[1, 3, 5, 7]"
      ]
     },
     "execution_count": 50,
     "metadata": {},
     "output_type": "execute_result"
    }
   ],
   "source": [
    "s2"
   ]
  },
  {
   "cell_type": "markdown",
   "id": "51f3d0d7",
   "metadata": {},
   "source": [
    "1. **Функция** – универсальная операция с любым возможным для этой операции объектом\n",
    "\n",
    "1.1 Встроенная в Python (подсвечивается светло-зеленым цветом)\n",
    "\n",
    "1.2 Или вызывается из библиотеки (math, pandas, ...)\n",
    "\n",
    "2. **Метод вызывается** у конкретного объекта и изменяет его.\n",
    "Пример у списков: методы  append(), remove(), pop()"
   ]
  },
  {
   "cell_type": "code",
   "execution_count": 60,
   "id": "444e6fe7",
   "metadata": {},
   "outputs": [],
   "source": [
    "products = {'milk' : 100, 'apple' : 20, 'Coca Cola': 50}"
   ]
  },
  {
   "cell_type": "code",
   "execution_count": 61,
   "id": "b4dc5a84",
   "metadata": {},
   "outputs": [
    {
     "data": {
      "text/plain": [
       "dict_keys(['milk', 'apple', 'Coca Cola'])"
      ]
     },
     "execution_count": 61,
     "metadata": {},
     "output_type": "execute_result"
    }
   ],
   "source": [
    "products.keys()"
   ]
  },
  {
   "cell_type": "code",
   "execution_count": 62,
   "id": "374dcc05",
   "metadata": {},
   "outputs": [
    {
     "data": {
      "text/plain": [
       "['milk', 'apple', 'Coca Cola']"
      ]
     },
     "execution_count": 62,
     "metadata": {},
     "output_type": "execute_result"
    }
   ],
   "source": [
    "list(products.keys())"
   ]
  },
  {
   "cell_type": "code",
   "execution_count": 63,
   "id": "6f459316",
   "metadata": {},
   "outputs": [
    {
     "data": {
      "text/plain": [
       "[100, 20, 50]"
      ]
     },
     "execution_count": 63,
     "metadata": {},
     "output_type": "execute_result"
    }
   ],
   "source": [
    "list(products.values())"
   ]
  },
  {
   "cell_type": "code",
   "execution_count": 65,
   "id": "0959e112",
   "metadata": {},
   "outputs": [
    {
     "data": {
      "text/plain": [
       "[('milk', 100), ('apple', 20), ('Coca Cola', 50)]"
      ]
     },
     "execution_count": 65,
     "metadata": {},
     "output_type": "execute_result"
    }
   ],
   "source": [
    "list(products.items())"
   ]
  },
  {
   "cell_type": "code",
   "execution_count": 66,
   "id": "20525a65",
   "metadata": {},
   "outputs": [],
   "source": [
    "a = 5\n",
    "b = -2"
   ]
  },
  {
   "cell_type": "code",
   "execution_count": 67,
   "id": "82ebab86",
   "metadata": {},
   "outputs": [],
   "source": [
    "def min1(a, b): #заголовок функции def (definition)\n",
    "    if a < b:\n",
    "        return a #возвращает внутри функции переменную\n",
    "    else:\n",
    "        return b"
   ]
  },
  {
   "cell_type": "code",
   "execution_count": 68,
   "id": "7790c1ba",
   "metadata": {},
   "outputs": [
    {
     "data": {
      "text/plain": [
       "-2"
      ]
     },
     "execution_count": 68,
     "metadata": {},
     "output_type": "execute_result"
    }
   ],
   "source": [
    "min1(a, b)"
   ]
  }
 ],
 "metadata": {
  "kernelspec": {
   "display_name": "Python 3",
   "language": "python",
   "name": "python3"
  },
  "language_info": {
   "codemirror_mode": {
    "name": "ipython",
    "version": 3
   },
   "file_extension": ".py",
   "mimetype": "text/x-python",
   "name": "python",
   "nbconvert_exporter": "python",
   "pygments_lexer": "ipython3",
   "version": "3.8.5"
  }
 },
 "nbformat": 4,
 "nbformat_minor": 5
}
