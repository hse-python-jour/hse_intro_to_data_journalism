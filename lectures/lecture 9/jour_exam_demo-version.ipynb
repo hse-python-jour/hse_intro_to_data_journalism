{
 "cells": [
  {
   "cell_type": "code",
   "execution_count": 1,
   "id": "885cc8b9",
   "metadata": {},
   "outputs": [],
   "source": [
    "#pip install scipy"
   ]
  },
  {
   "cell_type": "code",
   "execution_count": 2,
   "id": "24b57b6b",
   "metadata": {},
   "outputs": [],
   "source": [
    "#16\n",
    "from scipy import stats"
   ]
  },
  {
   "cell_type": "code",
   "execution_count": 3,
   "id": "df24197c",
   "metadata": {
    "scrolled": true
   },
   "outputs": [
    {
     "data": {
      "text/plain": [
       "0.28"
      ]
     },
     "execution_count": 3,
     "metadata": {},
     "output_type": "execute_result"
    }
   ],
   "source": [
    "l = [15, 12.1, 20, 24.2, 18.7]\n",
    "m = [800, 495, 302, 1001, 256]\n",
    "\n",
    "round(stats.pearsonr(l, m)[0], 2)"
   ]
  },
  {
   "cell_type": "code",
   "execution_count": 4,
   "id": "eb701aa0",
   "metadata": {},
   "outputs": [],
   "source": [
    "#17\n",
    "import pandas as pd"
   ]
  },
  {
   "cell_type": "code",
   "execution_count": 5,
   "id": "46785d1a",
   "metadata": {},
   "outputs": [
    {
     "data": {
      "text/html": [
       "<div>\n",
       "<style scoped>\n",
       "    .dataframe tbody tr th:only-of-type {\n",
       "        vertical-align: middle;\n",
       "    }\n",
       "\n",
       "    .dataframe tbody tr th {\n",
       "        vertical-align: top;\n",
       "    }\n",
       "\n",
       "    .dataframe thead th {\n",
       "        text-align: right;\n",
       "    }\n",
       "</style>\n",
       "<table border=\"1\" class=\"dataframe\">\n",
       "  <thead>\n",
       "    <tr style=\"text-align: right;\">\n",
       "      <th></th>\n",
       "      <th>n</th>\n",
       "      <th>price</th>\n",
       "      <th>totsp</th>\n",
       "      <th>livesp</th>\n",
       "      <th>kitsp</th>\n",
       "      <th>dist</th>\n",
       "      <th>metrdist</th>\n",
       "      <th>walk</th>\n",
       "      <th>brick</th>\n",
       "      <th>floor</th>\n",
       "      <th>code</th>\n",
       "    </tr>\n",
       "  </thead>\n",
       "  <tbody>\n",
       "    <tr>\n",
       "      <th>0</th>\n",
       "      <td>1</td>\n",
       "      <td>81</td>\n",
       "      <td>58</td>\n",
       "      <td>40</td>\n",
       "      <td>6.0</td>\n",
       "      <td>12.5</td>\n",
       "      <td>7</td>\n",
       "      <td>1</td>\n",
       "      <td>1</td>\n",
       "      <td>1</td>\n",
       "      <td>3</td>\n",
       "    </tr>\n",
       "    <tr>\n",
       "      <th>1</th>\n",
       "      <td>2</td>\n",
       "      <td>75</td>\n",
       "      <td>44</td>\n",
       "      <td>28</td>\n",
       "      <td>6.0</td>\n",
       "      <td>13.5</td>\n",
       "      <td>7</td>\n",
       "      <td>1</td>\n",
       "      <td>0</td>\n",
       "      <td>1</td>\n",
       "      <td>6</td>\n",
       "    </tr>\n",
       "    <tr>\n",
       "      <th>2</th>\n",
       "      <td>3</td>\n",
       "      <td>128</td>\n",
       "      <td>70</td>\n",
       "      <td>42</td>\n",
       "      <td>6.0</td>\n",
       "      <td>14.5</td>\n",
       "      <td>3</td>\n",
       "      <td>1</td>\n",
       "      <td>1</td>\n",
       "      <td>1</td>\n",
       "      <td>3</td>\n",
       "    </tr>\n",
       "    <tr>\n",
       "      <th>3</th>\n",
       "      <td>4</td>\n",
       "      <td>95</td>\n",
       "      <td>61</td>\n",
       "      <td>37</td>\n",
       "      <td>6.0</td>\n",
       "      <td>13.5</td>\n",
       "      <td>7</td>\n",
       "      <td>1</td>\n",
       "      <td>0</td>\n",
       "      <td>1</td>\n",
       "      <td>1</td>\n",
       "    </tr>\n",
       "    <tr>\n",
       "      <th>4</th>\n",
       "      <td>5</td>\n",
       "      <td>330</td>\n",
       "      <td>104</td>\n",
       "      <td>60</td>\n",
       "      <td>11.0</td>\n",
       "      <td>10.5</td>\n",
       "      <td>7</td>\n",
       "      <td>0</td>\n",
       "      <td>1</td>\n",
       "      <td>1</td>\n",
       "      <td>3</td>\n",
       "    </tr>\n",
       "  </tbody>\n",
       "</table>\n",
       "</div>"
      ],
      "text/plain": [
       "   n  price  totsp  livesp  kitsp  dist  metrdist  walk  brick  floor  code\n",
       "0  1     81     58      40    6.0  12.5         7     1      1      1     3\n",
       "1  2     75     44      28    6.0  13.5         7     1      0      1     6\n",
       "2  3    128     70      42    6.0  14.5         3     1      1      1     3\n",
       "3  4     95     61      37    6.0  13.5         7     1      0      1     1\n",
       "4  5    330    104      60   11.0  10.5         7     0      1      1     3"
      ]
     },
     "execution_count": 5,
     "metadata": {},
     "output_type": "execute_result"
    }
   ],
   "source": [
    "data = pd.read_csv('moscow_flats.csv', sep='\\t')\n",
    "data.head()"
   ]
  },
  {
   "cell_type": "code",
   "execution_count": 6,
   "id": "9cee8ea6",
   "metadata": {},
   "outputs": [
    {
     "data": {
      "text/plain": [
       "(2040, 11)"
      ]
     },
     "execution_count": 6,
     "metadata": {},
     "output_type": "execute_result"
    }
   ],
   "source": [
    "data.shape"
   ]
  },
  {
   "cell_type": "code",
   "execution_count": 7,
   "id": "1cf0b3f8",
   "metadata": {},
   "outputs": [
    {
     "data": {
      "text/plain": [
       "(1399, 11)"
      ]
     },
     "execution_count": 7,
     "metadata": {},
     "output_type": "execute_result"
    }
   ],
   "source": [
    "data_metro = data[data['walk'] == 1]\n",
    "data_metro.shape"
   ]
  },
  {
   "cell_type": "code",
   "execution_count": 8,
   "id": "16120707",
   "metadata": {},
   "outputs": [
    {
     "data": {
      "text/plain": [
       "metrdist\n",
       "1     171.358974\n",
       "2     151.571429\n",
       "3     152.896552\n",
       "4     153.500000\n",
       "5     137.107143\n",
       "6     141.666667\n",
       "7     124.819149\n",
       "8     130.666667\n",
       "9      90.000000\n",
       "10    126.884793\n",
       "12    116.233333\n",
       "15    122.931937\n",
       "20    137.333333\n",
       "Name: price, dtype: float64"
      ]
     },
     "execution_count": 8,
     "metadata": {},
     "output_type": "execute_result"
    }
   ],
   "source": [
    "data_metro.groupby('metrdist')['price'].mean()"
   ]
  },
  {
   "cell_type": "code",
   "execution_count": 9,
   "id": "d9031371",
   "metadata": {},
   "outputs": [
    {
     "data": {
      "text/plain": [
       "90.0"
      ]
     },
     "execution_count": 9,
     "metadata": {},
     "output_type": "execute_result"
    }
   ],
   "source": [
    "data_metro.groupby('metrdist')['price'].mean().min()"
   ]
  },
  {
   "cell_type": "code",
   "execution_count": 10,
   "id": "8ea82b0b",
   "metadata": {},
   "outputs": [
    {
     "data": {
      "text/plain": [
       "171"
      ]
     },
     "execution_count": 10,
     "metadata": {},
     "output_type": "execute_result"
    }
   ],
   "source": [
    "int(round(data_metro.groupby('metrdist')['price'].mean().max(), 0))"
   ]
  },
  {
   "cell_type": "code",
   "execution_count": 11,
   "id": "23fe1e3a",
   "metadata": {},
   "outputs": [
    {
     "data": {
      "text/plain": [
       "13"
      ]
     },
     "execution_count": 11,
     "metadata": {},
     "output_type": "execute_result"
    }
   ],
   "source": [
    "len(data_metro.groupby('metrdist')['price'].mean())"
   ]
  },
  {
   "cell_type": "code",
   "execution_count": 12,
   "id": "efa522e4",
   "metadata": {},
   "outputs": [],
   "source": [
    "import matplotlib.pyplot as plt"
   ]
  },
  {
   "cell_type": "code",
   "execution_count": 13,
   "id": "339e468b",
   "metadata": {},
   "outputs": [
    {
     "data": {
      "image/png": "[encoded data removed]",
      "text/plain": [
       "<Figure size 720x360 with 1 Axes>"
      ]
     },
     "metadata": {
      "needs_background": "light"
     },
     "output_type": "display_data"
    }
   ],
   "source": [
    "fig, ax = plt.subplots(1,1, figsize=(10,5))\n",
    "ax.locator_params(integer=True)\n",
    "plt.plot(data_metro.groupby('metrdist')['price'].mean());"
   ]
  },
  {
   "cell_type": "code",
   "execution_count": 14,
   "id": "a1d07660",
   "metadata": {},
   "outputs": [
    {
     "data": {
      "text/html": [
       "<div>\n",
       "<style scoped>\n",
       "    .dataframe tbody tr th:only-of-type {\n",
       "        vertical-align: middle;\n",
       "    }\n",
       "\n",
       "    .dataframe tbody tr th {\n",
       "        vertical-align: top;\n",
       "    }\n",
       "\n",
       "    .dataframe thead th {\n",
       "        text-align: right;\n",
       "    }\n",
       "</style>\n",
       "<table border=\"1\" class=\"dataframe\">\n",
       "  <thead>\n",
       "    <tr style=\"text-align: right;\">\n",
       "      <th></th>\n",
       "      <th>category</th>\n",
       "      <th>item</th>\n",
       "      <th>calories</th>\n",
       "      <th>total_fat</th>\n",
       "      <th>calcium</th>\n",
       "      <th>sugars</th>\n",
       "      <th>protein</th>\n",
       "    </tr>\n",
       "  </thead>\n",
       "  <tbody>\n",
       "    <tr>\n",
       "      <th>0</th>\n",
       "      <td>Breakfast</td>\n",
       "      <td>Egg McMuffin</td>\n",
       "      <td>300</td>\n",
       "      <td>20</td>\n",
       "      <td>25</td>\n",
       "      <td>3</td>\n",
       "      <td>17</td>\n",
       "    </tr>\n",
       "    <tr>\n",
       "      <th>1</th>\n",
       "      <td>Breakfast</td>\n",
       "      <td>Egg White Delight</td>\n",
       "      <td>250</td>\n",
       "      <td>12</td>\n",
       "      <td>25</td>\n",
       "      <td>3</td>\n",
       "      <td>18</td>\n",
       "    </tr>\n",
       "    <tr>\n",
       "      <th>2</th>\n",
       "      <td>Breakfast</td>\n",
       "      <td>Sausage McMuffin</td>\n",
       "      <td>370</td>\n",
       "      <td>35</td>\n",
       "      <td>25</td>\n",
       "      <td>2</td>\n",
       "      <td>14</td>\n",
       "    </tr>\n",
       "    <tr>\n",
       "      <th>3</th>\n",
       "      <td>Breakfast</td>\n",
       "      <td>Sausage McMuffin with Egg</td>\n",
       "      <td>450</td>\n",
       "      <td>43</td>\n",
       "      <td>30</td>\n",
       "      <td>2</td>\n",
       "      <td>21</td>\n",
       "    </tr>\n",
       "    <tr>\n",
       "      <th>4</th>\n",
       "      <td>Breakfast</td>\n",
       "      <td>Sausage McMuffin with Egg Whites</td>\n",
       "      <td>400</td>\n",
       "      <td>35</td>\n",
       "      <td>25</td>\n",
       "      <td>2</td>\n",
       "      <td>21</td>\n",
       "    </tr>\n",
       "  </tbody>\n",
       "</table>\n",
       "</div>"
      ],
      "text/plain": [
       "    category                              item  calories  total_fat  calcium  \\\n",
       "0  Breakfast                      Egg McMuffin       300         20       25   \n",
       "1  Breakfast                 Egg White Delight       250         12       25   \n",
       "2  Breakfast                  Sausage McMuffin       370         35       25   \n",
       "3  Breakfast         Sausage McMuffin with Egg       450         43       30   \n",
       "4  Breakfast  Sausage McMuffin with Egg Whites       400         35       25   \n",
       "\n",
       "   sugars  protein  \n",
       "0       3       17  \n",
       "1       3       18  \n",
       "2       2       14  \n",
       "3       2       21  \n",
       "4       2       21  "
      ]
     },
     "execution_count": 14,
     "metadata": {},
     "output_type": "execute_result"
    }
   ],
   "source": [
    "#18\n",
    "df = pd.read_csv('mcdonalds.csv')\n",
    "df.head()"
   ]
  },
  {
   "cell_type": "code",
   "execution_count": 15,
   "id": "3a4b361f",
   "metadata": {},
   "outputs": [
    {
     "name": "stdout",
     "output_type": "stream",
     "text": [
      "['Breakfast' 'Beef & Pork' 'Chicken & Fish' 'Salads' 'Snacks & Sides'\n",
      " 'Desserts' 'Beverages' 'Coffee & Tea' 'Smoothies & Shakes']\n"
     ]
    }
   ],
   "source": [
    "print(df.category.unique())"
   ]
  },
  {
   "cell_type": "code",
   "execution_count": 16,
   "id": "4f106071",
   "metadata": {},
   "outputs": [
    {
     "data": {
      "text/plain": [
       "(260, 7)"
      ]
     },
     "execution_count": 16,
     "metadata": {},
     "output_type": "execute_result"
    }
   ],
   "source": [
    "df.shape"
   ]
  },
  {
   "cell_type": "code",
   "execution_count": 17,
   "id": "63a8f78e",
   "metadata": {},
   "outputs": [
    {
     "data": {
      "text/plain": [
       "128"
      ]
     },
     "execution_count": 17,
     "metadata": {},
     "output_type": "execute_result"
    }
   ],
   "source": [
    "df.sugars.max() - df.sugars.min()"
   ]
  },
  {
   "cell_type": "code",
   "execution_count": 18,
   "id": "1ace42fd",
   "metadata": {},
   "outputs": [
    {
     "data": {
      "text/plain": [
       "15.0"
      ]
     },
     "execution_count": 18,
     "metadata": {},
     "output_type": "execute_result"
    }
   ],
   "source": [
    "df.protein.quantile(0.75) - df.protein.quantile(0.25)"
   ]
  },
  {
   "cell_type": "code",
   "execution_count": 19,
   "id": "9057fd20",
   "metadata": {},
   "outputs": [
    {
     "data": {
      "text/plain": [
       "17.0"
      ]
     },
     "execution_count": 19,
     "metadata": {},
     "output_type": "execute_result"
    }
   ],
   "source": [
    "df.total_fat.median()"
   ]
  },
  {
   "cell_type": "code",
   "execution_count": 20,
   "id": "0b62b908",
   "metadata": {},
   "outputs": [
    {
     "data": {
      "text/plain": [
       "17.0"
      ]
     },
     "execution_count": 20,
     "metadata": {},
     "output_type": "execute_result"
    }
   ],
   "source": [
    "df.total_fat.quantile(0.50)"
   ]
  },
  {
   "cell_type": "code",
   "execution_count": 21,
   "id": "9d4a3495",
   "metadata": {},
   "outputs": [
    {
     "data": {
      "text/plain": [
       "240.27"
      ]
     },
     "execution_count": 21,
     "metadata": {},
     "output_type": "execute_result"
    }
   ],
   "source": [
    "round(df.calories.std(), 2) #STandard Deviation"
   ]
  },
  {
   "cell_type": "code",
   "execution_count": 22,
   "id": "096f480a",
   "metadata": {},
   "outputs": [
    {
     "data": {
      "text/plain": [
       "526.67"
      ]
     },
     "execution_count": 22,
     "metadata": {},
     "output_type": "execute_result"
    }
   ],
   "source": [
    "#19\n",
    "round(df[df['category'] == 'Breakfast'].calories.mean(), 2)"
   ]
  },
  {
   "cell_type": "code",
   "execution_count": 23,
   "id": "f77c52a8",
   "metadata": {},
   "outputs": [
    {
     "data": {
      "text/plain": [
       "8.55"
      ]
     },
     "execution_count": 23,
     "metadata": {},
     "output_type": "execute_result"
    }
   ],
   "source": [
    "round(df[df['category'] == 'Chicken & Fish'].calcium.std(), 2)"
   ]
  },
  {
   "cell_type": "code",
   "execution_count": 24,
   "id": "708bb649",
   "metadata": {},
   "outputs": [
    {
     "data": {
      "text/plain": [
       "1880"
      ]
     },
     "execution_count": 24,
     "metadata": {},
     "output_type": "execute_result"
    }
   ],
   "source": [
    "df.calories.max()"
   ]
  },
  {
   "cell_type": "code",
   "execution_count": 25,
   "id": "aabd1c61",
   "metadata": {},
   "outputs": [
    {
     "data": {
      "text/html": [
       "<div>\n",
       "<style scoped>\n",
       "    .dataframe tbody tr th:only-of-type {\n",
       "        vertical-align: middle;\n",
       "    }\n",
       "\n",
       "    .dataframe tbody tr th {\n",
       "        vertical-align: top;\n",
       "    }\n",
       "\n",
       "    .dataframe thead th {\n",
       "        text-align: right;\n",
       "    }\n",
       "</style>\n",
       "<table border=\"1\" class=\"dataframe\">\n",
       "  <thead>\n",
       "    <tr style=\"text-align: right;\">\n",
       "      <th></th>\n",
       "      <th>category</th>\n",
       "      <th>item</th>\n",
       "      <th>calories</th>\n",
       "      <th>total_fat</th>\n",
       "      <th>calcium</th>\n",
       "      <th>sugars</th>\n",
       "      <th>protein</th>\n",
       "    </tr>\n",
       "  </thead>\n",
       "  <tbody>\n",
       "    <tr>\n",
       "      <th>82</th>\n",
       "      <td>Chicken &amp; Fish</td>\n",
       "      <td>Chicken McNuggets (40 piece)</td>\n",
       "      <td>1880</td>\n",
       "      <td>182</td>\n",
       "      <td>8</td>\n",
       "      <td>1</td>\n",
       "      <td>87</td>\n",
       "    </tr>\n",
       "  </tbody>\n",
       "</table>\n",
       "</div>"
      ],
      "text/plain": [
       "          category                          item  calories  total_fat  \\\n",
       "82  Chicken & Fish  Chicken McNuggets (40 piece)      1880        182   \n",
       "\n",
       "    calcium  sugars  protein  \n",
       "82        8       1       87  "
      ]
     },
     "execution_count": 25,
     "metadata": {},
     "output_type": "execute_result"
    }
   ],
   "source": [
    "df[df.calories == 1880]"
   ]
  },
  {
   "cell_type": "code",
   "execution_count": 26,
   "id": "96768c15",
   "metadata": {},
   "outputs": [
    {
     "data": {
      "text/plain": [
       "category\n",
       "Beef & Pork            750\n",
       "Beverages              280\n",
       "Breakfast             1150\n",
       "Chicken & Fish        1880\n",
       "Coffee & Tea           760\n",
       "Desserts               340\n",
       "Salads                 450\n",
       "Smoothies & Shakes     930\n",
       "Snacks & Sides         510\n",
       "Name: calories, dtype: int64"
      ]
     },
     "execution_count": 26,
     "metadata": {},
     "output_type": "execute_result"
    }
   ],
   "source": [
    "df.groupby('category')['calories'].max()"
   ]
  },
  {
   "cell_type": "code",
   "execution_count": 27,
   "id": "a9bb80b5",
   "metadata": {},
   "outputs": [
    {
     "data": {
      "text/plain": [
       "category\n",
       "Beef & Pork           240\n",
       "Beverages               0\n",
       "Breakfast             150\n",
       "Chicken & Fish        190\n",
       "Coffee & Tea            0\n",
       "Desserts               45\n",
       "Salads                140\n",
       "Smoothies & Shakes    210\n",
       "Snacks & Sides         15\n",
       "Name: calories, dtype: int64"
      ]
     },
     "execution_count": 27,
     "metadata": {},
     "output_type": "execute_result"
    }
   ],
   "source": [
    "df.groupby('category')['calories'].min()"
   ]
  },
  {
   "cell_type": "code",
   "execution_count": 28,
   "id": "0c386a5a",
   "metadata": {},
   "outputs": [
    {
     "data": {
      "text/plain": [
       "category\n",
       "Beef & Pork            510\n",
       "Beverages              280\n",
       "Breakfast             1000\n",
       "Chicken & Fish        1690\n",
       "Coffee & Tea           760\n",
       "Desserts               295\n",
       "Salads                 310\n",
       "Smoothies & Shakes     720\n",
       "Snacks & Sides         495\n",
       "Name: calories, dtype: int64"
      ]
     },
     "execution_count": 28,
     "metadata": {},
     "output_type": "execute_result"
    }
   ],
   "source": [
    "df.groupby('category')['calories'].max() - \\\n",
    "df.groupby('category')['calories'].min()"
   ]
  },
  {
   "cell_type": "code",
   "execution_count": 29,
   "id": "8d8d61d8",
   "metadata": {},
   "outputs": [
    {
     "name": "stdout",
     "output_type": "stream",
     "text": [
      "16\n"
     ]
    }
   ],
   "source": [
    "#20\n",
    "count = 0\n",
    "for item in df['item']:\n",
    "    if 'Cheese' in item:\n",
    "        count += 1\n",
    "print(count)        "
   ]
  },
  {
   "cell_type": "code",
   "execution_count": 30,
   "id": "937f6136",
   "metadata": {},
   "outputs": [
    {
     "data": {
      "text/plain": [
       "240.26988649145852"
      ]
     },
     "execution_count": 30,
     "metadata": {},
     "output_type": "execute_result"
    }
   ],
   "source": [
    "df.calories.std()"
   ]
  },
  {
   "cell_type": "code",
   "execution_count": 31,
   "id": "cea22542",
   "metadata": {},
   "outputs": [
    {
     "data": {
      "text/html": [
       "<div>\n",
       "<style scoped>\n",
       "    .dataframe tbody tr th:only-of-type {\n",
       "        vertical-align: middle;\n",
       "    }\n",
       "\n",
       "    .dataframe tbody tr th {\n",
       "        vertical-align: top;\n",
       "    }\n",
       "\n",
       "    .dataframe thead th {\n",
       "        text-align: right;\n",
       "    }\n",
       "</style>\n",
       "<table border=\"1\" class=\"dataframe\">\n",
       "  <thead>\n",
       "    <tr style=\"text-align: right;\">\n",
       "      <th></th>\n",
       "      <th>category</th>\n",
       "      <th>item</th>\n",
       "      <th>calories</th>\n",
       "      <th>total_fat</th>\n",
       "      <th>calcium</th>\n",
       "      <th>sugars</th>\n",
       "      <th>protein</th>\n",
       "    </tr>\n",
       "  </thead>\n",
       "  <tbody>\n",
       "    <tr>\n",
       "      <th>82</th>\n",
       "      <td>Chicken &amp; Fish</td>\n",
       "      <td>Chicken McNuggets (40 piece)</td>\n",
       "      <td>1880</td>\n",
       "      <td>182</td>\n",
       "      <td>8</td>\n",
       "      <td>1</td>\n",
       "      <td>87</td>\n",
       "    </tr>\n",
       "  </tbody>\n",
       "</table>\n",
       "</div>"
      ],
      "text/plain": [
       "          category                          item  calories  total_fat  \\\n",
       "82  Chicken & Fish  Chicken McNuggets (40 piece)      1880        182   \n",
       "\n",
       "    calcium  sugars  protein  \n",
       "82        8       1       87  "
      ]
     },
     "execution_count": 31,
     "metadata": {},
     "output_type": "execute_result"
    }
   ],
   "source": [
    "df[df['calories'] == 1880]"
   ]
  },
  {
   "cell_type": "code",
   "execution_count": 32,
   "id": "1c7b7189",
   "metadata": {},
   "outputs": [
    {
     "data": {
      "image/png": "[encoded data removed]",
      "text/plain": [
       "<Figure size 432x288 with 1 Axes>"
      ]
     },
     "metadata": {
      "needs_background": "light"
     },
     "output_type": "display_data"
    }
   ],
   "source": [
    "#21\n",
    "#plt.bar(df.total_fat, df.calcium) напоминание про такой тип графика гистограмма\n",
    "plt.scatter(df.total_fat, df.calcium);\n",
    "\n",
    "#График рассеяния/ Точечный график = plt.scatter\n",
    "#Круговая диаграмма - plt.pie()\n",
    "#Линейный график - plt.plot()\n",
    "\n",
    "#sns.boxplot() import seaborn as sns ящик-с-усами"
   ]
  },
  {
   "cell_type": "code",
   "execution_count": 33,
   "id": "bb2abe6b",
   "metadata": {},
   "outputs": [
    {
     "data": {
      "text/html": [
       "<div>\n",
       "<style scoped>\n",
       "    .dataframe tbody tr th:only-of-type {\n",
       "        vertical-align: middle;\n",
       "    }\n",
       "\n",
       "    .dataframe tbody tr th {\n",
       "        vertical-align: top;\n",
       "    }\n",
       "\n",
       "    .dataframe thead th {\n",
       "        text-align: right;\n",
       "    }\n",
       "</style>\n",
       "<table border=\"1\" class=\"dataframe\">\n",
       "  <thead>\n",
       "    <tr style=\"text-align: right;\">\n",
       "      <th></th>\n",
       "      <th>category</th>\n",
       "      <th>item</th>\n",
       "      <th>calories</th>\n",
       "      <th>total_fat</th>\n",
       "      <th>calcium</th>\n",
       "      <th>sugars</th>\n",
       "      <th>protein</th>\n",
       "    </tr>\n",
       "  </thead>\n",
       "  <tbody>\n",
       "    <tr>\n",
       "      <th>31</th>\n",
       "      <td>Breakfast</td>\n",
       "      <td>Big Breakfast with Hotcakes (Regular Biscuit)</td>\n",
       "      <td>1090</td>\n",
       "      <td>87</td>\n",
       "      <td>25</td>\n",
       "      <td>17</td>\n",
       "      <td>36</td>\n",
       "    </tr>\n",
       "    <tr>\n",
       "      <th>32</th>\n",
       "      <td>Breakfast</td>\n",
       "      <td>Big Breakfast with Hotcakes (Large Biscuit)</td>\n",
       "      <td>1150</td>\n",
       "      <td>93</td>\n",
       "      <td>30</td>\n",
       "      <td>17</td>\n",
       "      <td>36</td>\n",
       "    </tr>\n",
       "    <tr>\n",
       "      <th>33</th>\n",
       "      <td>Breakfast</td>\n",
       "      <td>Big Breakfast with Hotcakes and Egg Whites (Re...</td>\n",
       "      <td>990</td>\n",
       "      <td>70</td>\n",
       "      <td>25</td>\n",
       "      <td>17</td>\n",
       "      <td>35</td>\n",
       "    </tr>\n",
       "    <tr>\n",
       "      <th>34</th>\n",
       "      <td>Breakfast</td>\n",
       "      <td>Big Breakfast with Hotcakes and Egg Whites (La...</td>\n",
       "      <td>1050</td>\n",
       "      <td>77</td>\n",
       "      <td>25</td>\n",
       "      <td>18</td>\n",
       "      <td>35</td>\n",
       "    </tr>\n",
       "    <tr>\n",
       "      <th>81</th>\n",
       "      <td>Chicken &amp; Fish</td>\n",
       "      <td>Chicken McNuggets (20 piece)</td>\n",
       "      <td>940</td>\n",
       "      <td>91</td>\n",
       "      <td>4</td>\n",
       "      <td>0</td>\n",
       "      <td>44</td>\n",
       "    </tr>\n",
       "    <tr>\n",
       "      <th>82</th>\n",
       "      <td>Chicken &amp; Fish</td>\n",
       "      <td>Chicken McNuggets (40 piece)</td>\n",
       "      <td>1880</td>\n",
       "      <td>182</td>\n",
       "      <td>8</td>\n",
       "      <td>1</td>\n",
       "      <td>87</td>\n",
       "    </tr>\n",
       "    <tr>\n",
       "      <th>246</th>\n",
       "      <td>Smoothies &amp; Shakes</td>\n",
       "      <td>Strawberry Shake (Large)</td>\n",
       "      <td>850</td>\n",
       "      <td>36</td>\n",
       "      <td>70</td>\n",
       "      <td>123</td>\n",
       "      <td>18</td>\n",
       "    </tr>\n",
       "    <tr>\n",
       "      <th>249</th>\n",
       "      <td>Smoothies &amp; Shakes</td>\n",
       "      <td>Chocolate Shake (Large)</td>\n",
       "      <td>850</td>\n",
       "      <td>36</td>\n",
       "      <td>60</td>\n",
       "      <td>120</td>\n",
       "      <td>19</td>\n",
       "    </tr>\n",
       "    <tr>\n",
       "      <th>253</th>\n",
       "      <td>Smoothies &amp; Shakes</td>\n",
       "      <td>McFlurry with M&amp;M’s Candies (Medium)</td>\n",
       "      <td>930</td>\n",
       "      <td>50</td>\n",
       "      <td>70</td>\n",
       "      <td>128</td>\n",
       "      <td>20</td>\n",
       "    </tr>\n",
       "  </tbody>\n",
       "</table>\n",
       "</div>"
      ],
      "text/plain": [
       "               category                                               item  \\\n",
       "31            Breakfast      Big Breakfast with Hotcakes (Regular Biscuit)   \n",
       "32            Breakfast        Big Breakfast with Hotcakes (Large Biscuit)   \n",
       "33            Breakfast  Big Breakfast with Hotcakes and Egg Whites (Re...   \n",
       "34            Breakfast  Big Breakfast with Hotcakes and Egg Whites (La...   \n",
       "81       Chicken & Fish                       Chicken McNuggets (20 piece)   \n",
       "82       Chicken & Fish                       Chicken McNuggets (40 piece)   \n",
       "246  Smoothies & Shakes                           Strawberry Shake (Large)   \n",
       "249  Smoothies & Shakes                            Chocolate Shake (Large)   \n",
       "253  Smoothies & Shakes               McFlurry with M&M’s Candies (Medium)   \n",
       "\n",
       "     calories  total_fat  calcium  sugars  protein  \n",
       "31       1090         87       25      17       36  \n",
       "32       1150         93       30      17       36  \n",
       "33        990         70       25      17       35  \n",
       "34       1050         77       25      18       35  \n",
       "81        940         91        4       0       44  \n",
       "82       1880        182        8       1       87  \n",
       "246       850         36       70     123       18  \n",
       "249       850         36       60     120       19  \n",
       "253       930         50       70     128       20  "
      ]
     },
     "execution_count": 33,
     "metadata": {},
     "output_type": "execute_result"
    }
   ],
   "source": [
    "#22\n",
    "right = df.calories.mean() + 2 * df.calories.std()\n",
    "left = df.calories.mean() - 2 * df.calories.std()\n",
    "\n",
    "df[(df.calories >= right) | (df.calories <= left)]\n",
    "#df[() & ()] логическое \"И\""
   ]
  },
  {
   "cell_type": "code",
   "execution_count": 34,
   "id": "2fd8dd91",
   "metadata": {},
   "outputs": [
    {
     "data": {
      "text/plain": [
       "9"
      ]
     },
     "execution_count": 34,
     "metadata": {},
     "output_type": "execute_result"
    }
   ],
   "source": [
    "df[(df.calories >= right) | (df.calories <= left)].shape[0]"
   ]
  },
  {
   "cell_type": "code",
   "execution_count": 35,
   "id": "f5c55d84",
   "metadata": {},
   "outputs": [
    {
     "data": {
      "text/html": [
       "<div>\n",
       "<style scoped>\n",
       "    .dataframe tbody tr th:only-of-type {\n",
       "        vertical-align: middle;\n",
       "    }\n",
       "\n",
       "    .dataframe tbody tr th {\n",
       "        vertical-align: top;\n",
       "    }\n",
       "\n",
       "    .dataframe thead th {\n",
       "        text-align: right;\n",
       "    }\n",
       "</style>\n",
       "<table border=\"1\" class=\"dataframe\">\n",
       "  <thead>\n",
       "    <tr style=\"text-align: right;\">\n",
       "      <th></th>\n",
       "      <th>protein</th>\n",
       "    </tr>\n",
       "    <tr>\n",
       "      <th>category</th>\n",
       "      <th></th>\n",
       "    </tr>\n",
       "  </thead>\n",
       "  <tbody>\n",
       "    <tr>\n",
       "      <th>Beef &amp; Pork</th>\n",
       "      <td>27.333333</td>\n",
       "    </tr>\n",
       "    <tr>\n",
       "      <th>Beverages</th>\n",
       "      <td>1.333333</td>\n",
       "    </tr>\n",
       "    <tr>\n",
       "      <th>Breakfast</th>\n",
       "      <td>19.857143</td>\n",
       "    </tr>\n",
       "    <tr>\n",
       "      <th>Chicken &amp; Fish</th>\n",
       "      <td>29.111111</td>\n",
       "    </tr>\n",
       "    <tr>\n",
       "      <th>Coffee &amp; Tea</th>\n",
       "      <td>8.863158</td>\n",
       "    </tr>\n",
       "    <tr>\n",
       "      <th>Desserts</th>\n",
       "      <td>4.000000</td>\n",
       "    </tr>\n",
       "    <tr>\n",
       "      <th>Salads</th>\n",
       "      <td>19.833333</td>\n",
       "    </tr>\n",
       "    <tr>\n",
       "      <th>Smoothies &amp; Shakes</th>\n",
       "      <td>10.857143</td>\n",
       "    </tr>\n",
       "    <tr>\n",
       "      <th>Snacks &amp; Sides</th>\n",
       "      <td>8.384615</td>\n",
       "    </tr>\n",
       "  </tbody>\n",
       "</table>\n",
       "</div>"
      ],
      "text/plain": [
       "                      protein\n",
       "category                     \n",
       "Beef & Pork         27.333333\n",
       "Beverages            1.333333\n",
       "Breakfast           19.857143\n",
       "Chicken & Fish      29.111111\n",
       "Coffee & Tea         8.863158\n",
       "Desserts             4.000000\n",
       "Salads              19.833333\n",
       "Smoothies & Shakes  10.857143\n",
       "Snacks & Sides       8.384615"
      ]
     },
     "execution_count": 35,
     "metadata": {},
     "output_type": "execute_result"
    }
   ],
   "source": [
    "#23\n",
    "import numpy as np #NUMerical PYthon\n",
    "#построим сводную таблицу\n",
    "#1й аргумент – датафрейм\n",
    "#2й – ряды\n",
    "#3й – колонки/столбцы\n",
    "#4й - аггрегирующая (объединяющая) функция (среднее, максимум)\n",
    "pd.pivot_table(df, index='category', \n",
    "               values='protein',\n",
    "              aggfunc={'protein' : np.mean})"
   ]
  },
  {
   "cell_type": "code",
   "execution_count": 36,
   "id": "e9a681d2",
   "metadata": {},
   "outputs": [
    {
     "name": "stdout",
     "output_type": "stream",
     "text": [
      "total_fat 0.9\n",
      "calcium 0.43\n",
      "sugars 0.26\n",
      "protein 0.79\n"
     ]
    }
   ],
   "source": [
    "#24\n",
    "print('total_fat', round(stats.pearsonr(df.calories, df.total_fat)[0], 2))\n",
    "print('calcium', round(stats.pearsonr(df.calories, df.calcium)[0], 2))\n",
    "print('sugars', round(stats.pearsonr(df.calories, df.sugars)[0], 2))\n",
    "print('protein', round(stats.pearsonr(df.calories, df.protein)[0], 2))"
   ]
  },
  {
   "cell_type": "code",
   "execution_count": 37,
   "id": "5a6b9b0a",
   "metadata": {},
   "outputs": [],
   "source": [
    "#1 Африка\n",
    "\n",
    "#2 - В популяции морковок самая маленькая разница между ее \n",
    "# минимальным и максимальным значением\n",
    "# - В 1910 году популяция зайцев была больше популяции рысей\n",
    "\n",
    "#3 Столбчатая диаграмма (bar chart)\n",
    "\n",
    "#4 Разница между медианой и средним значением для численности рысей \n",
    "#  может свидетельствовать о том, что в некоторые годы численность \n",
    "#  популяции рысей была экстремально высокой.\n",
    "\n",
    "#5 Соотнесите типы данных\n",
    "\n",
    "#6 Мода\n",
    "\n",
    "#7 Возраст владельцев домохозяйств\n",
    "\n",
    "#8 0.1 % взрослых женщин весит больше 86 кг.\n",
    "\n",
    "#9 Было опрошено такое количество женщин из каждого региона, \n",
    "#  которое соответствует доле женщин, проживающих в этом регионе \n",
    "#  согласно переписи населения.\n",
    "\n",
    "#10 0.41\n",
    "\n",
    "#11 Если у сотрудника повышается продуктивность, то, \n",
    "# скорее всего, повысится и удовлетворенность работой.\n",
    "\n",
    "#12 soup.find_all('div', {'class':'person_info'})\n",
    "\n",
    "#13 page = requests.get(link).text\n",
    "\n",
    "#14 \"\\D\" – любой символ, кроме цифры, \"\\d\" – цифра.\n",
    "# Правильный ответ:\n",
    "# \"a1a\"\n",
    "\n",
    "#15 \"ab\", \"cd\""
   ]
  },
  {
   "cell_type": "code",
   "execution_count": null,
   "id": "5ad13bd3",
   "metadata": {},
   "outputs": [],
   "source": []
  }
 ],
 "metadata": {
  "kernelspec": {
   "display_name": "Python 3",
   "language": "python",
   "name": "python3"
  },
  "language_info": {
   "codemirror_mode": {
    "name": "ipython",
    "version": 3
   },
   "file_extension": ".py",
   "mimetype": "text/x-python",
   "name": "python",
   "nbconvert_exporter": "python",
   "pygments_lexer": "ipython3",
   "version": "3.8.5"
  }
 },
 "nbformat": 4,
 "nbformat_minor": 5
}
